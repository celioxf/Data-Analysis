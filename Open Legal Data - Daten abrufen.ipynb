{
 "cells": [
  {
   "cell_type": "markdown",
   "metadata": {},
   "source": [
    "# Open Legal Data\n",
    "\n",
    "Open Legal Data is an open data project that aims to make legal data more available to the public. It tackles the fact that most of the information produced by courts in Germany and in many countries isn't accessible or displayed in a structured format.\n",
    "\n",
    "The projects offers an [API](https://de.openlegaldata.io/) through which users can retrieve data on many court decisions in Germany. It's also worth checking the [GitHub](https://github.com/openlegaldata) page and the [project's website](http://openlegaldata.io/).\n",
    "\n",
    "\n",
    "# Goal of This Notebook\n",
    "\n",
    "In this notebook, we'll explore the possibilites of the Open Legal Data API. We'll  retrieve data from multiple courts and cases, clean it and prepare it for analysis. \n",
    "\n",
    "# Considerations On The Data\n",
    "\n",
    "While the Open Legal Data project tries to bring accurate information into light, it also has to obey Data Protection rules. For this reason, instead of scraping data on cases and courts from the web, it relies highly on the cooperation from courts to gather information.\n",
    "\n",
    "On one side this is useful, because it ensures the privacy and data protection right's of the parties involved in the cases (as the names are anonymised, for example). On the other side, the data loose to some extent the relation to reality, because the data sample is to some degree biased. \n",
    "\n",
    "Given this, we can't assure the accuracy of data obtained from the API."
   ]
  },
  {
   "cell_type": "markdown",
   "metadata": {},
   "source": [
    "## Importing Libraries"
   ]
  },
  {
   "cell_type": "code",
   "execution_count": 1,
   "metadata": {},
   "outputs": [],
   "source": [
    "import json\n",
    "import requests\n",
    "import pandas as pd\n",
    "import altair as alt\n",
    "import googlemaps"
   ]
  },
  {
   "cell_type": "code",
   "execution_count": 2,
   "metadata": {},
   "outputs": [],
   "source": [
    "# This cell reads the API key\n",
    "# For many usages of the Open Legal Data API a key isn't necessary though.\n",
    "\n",
    "with open(r\"C:\\Users\\celio\\Data Analysis\\Projects\\Open Legal Data\\api_key.txt\") as file:\n",
    "    key = file.read()\n",
    "    \n",
    "headers = {\"Authorization\":key} # The headers argument will be passed to the get method of the requests library"
   ]
  },
  {
   "cell_type": "markdown",
   "metadata": {},
   "source": [
    "## Function To Make Requests\n",
    "\n",
    "To retrieve the information from the API, it's necessary to access it in someway. The function below accesses the API endpoints and retrieves the results as a python dictionary."
   ]
  },
  {
   "cell_type": "code",
   "execution_count": 3,
   "metadata": {},
   "outputs": [],
   "source": [
    "def request_and_read(endpoint,page_size,page):\n",
    "    \n",
    "    endpoint = str(endpoint) # Converts endpoint to string\n",
    "    request = requests.get(endpoint,\n",
    "                          headers = headers,\n",
    "                          params = {\"page_size\":page_size,\n",
    "                                   \"page\":page}) # Calls the get method and passes arguments\n",
    "    content = json.loads(request.content) # reads content\n",
    "    results = content[\"results\"] # Accesses key containing the results\n",
    "    return results"
   ]
  },
  {
   "cell_type": "markdown",
   "metadata": {},
   "source": [
    "## Instatiate a Dictionary To Receive Requests\n",
    "\n",
    "The API uses pagination. Even though it's possible to set the page size for a very large number, we'll make requests to multiple pages and every page will be stored in a different key of the dictionary."
   ]
  },
  {
   "cell_type": "code",
   "execution_count": 4,
   "metadata": {},
   "outputs": [],
   "source": [
    "# The API uses pagination.\n",
    "case_pages = dict.fromkeys(range(1,51),[])"
   ]
  },
  {
   "cell_type": "markdown",
   "metadata": {},
   "source": [
    "## Make Requests\n",
    "\n",
    "With the read and request function, we can make the requests and store them to keys of the dictionary."
   ]
  },
  {
   "cell_type": "code",
   "execution_count": 5,
   "metadata": {},
   "outputs": [],
   "source": [
    "# This cell might take some time to run\n",
    "page_number = 1\n",
    "for key in case_pages:\n",
    "    case_pages[key] = request_and_read(r\"https://de.openlegaldata.io/api/cases/\",1000,page_number)\n",
    "    page_number+=1"
   ]
  },
  {
   "cell_type": "markdown",
   "metadata": {},
   "source": [
    "# Organize Requests\n",
    "\n",
    "At the moment, all the data is stored in a dictionary called \"case_pages\". Every one of the 50 keys in the dictionary has information on a 1000 cases. A simple way to understand this is that we took data from 50.000 cases through the API and organized them across 50 books.\n",
    "\n",
    "In a more advanced project, it would be possible to use sampling techniques to ensure that the data is reliable, however this is out of the scope of this project. So we'll stick to the random 50.000 cases that the API gives back.\n",
    "\n",
    "Every key in the dictionary(every book) has the following keys:"
   ]
  },
  {
   "cell_type": "code",
   "execution_count": 6,
   "metadata": {},
   "outputs": [
    {
     "name": "stdout",
     "output_type": "stream",
     "text": [
      "id\n",
      "slug\n",
      "court\n",
      "file_number\n",
      "date\n",
      "created_date\n",
      "updated_date\n",
      "type\n",
      "ecli\n",
      "content\n"
     ]
    }
   ],
   "source": [
    "# Accessing the key 1 of the case_pages dictionary\n",
    "# Then accessing the first element of the list of dictionaries contained in this key\n",
    "for key in case_pages[1][0]:\n",
    "    print(key)"
   ]
  },
  {
   "cell_type": "markdown",
   "metadata": {},
   "source": [
    "By taking a look at the dictionary keys, we can see that most of the them are related to the case, but the \"court\" key is related to the court. \n",
    "\n",
    "For this reason, it's better to organize this in two different datasets, in order to analyse it properly.\n",
    "\n",
    "# Case Data\n",
    "\n",
    "Below, we create a function that extracts the case data."
   ]
  },
  {
   "cell_type": "code",
   "execution_count": 7,
   "metadata": {},
   "outputs": [],
   "source": [
    "def get_case_data(a_list):\n",
    "    # Instantiantes a Dictionary\n",
    "    case_info = {\"id\":[],\"slug\":[], \"file_number\":[],\"date\":[],\"created_date\":[],\n",
    "            \"updated_date\":[],\"type\":[],\"ecli\":[],\"content\":[]}\n",
    "    # Loops through the keys of the dictionary\n",
    "    # Appends values to the main dictionary cases_info\n",
    "    for element in a_list:\n",
    "        case_info[\"id\"].append(element[\"id\"])\n",
    "        case_info[\"slug\"].append(element[\"slug\"])\n",
    "        case_info[\"file_number\"].append(element[\"file_number\"])\n",
    "        case_info[\"date\"].append(element[\"date\"])\n",
    "        case_info[\"created_date\"].append(element[\"created_date\"])\n",
    "        case_info[\"updated_date\"].append(element[\"updated_date\"])\n",
    "        case_info[\"type\"].append(element[\"type\"])\n",
    "        case_info[\"ecli\"].append(element[\"ecli\"])\n",
    "        case_info[\"content\"].append(element[\"content\"])\n",
    "        \n",
    "    return case_info #A dictionary containing, in each key, a list of the objects found in case_pages\n",
    "        "
   ]
  },
  {
   "cell_type": "markdown",
   "metadata": {},
   "source": [
    "A for loop to extract the files with the function above."
   ]
  },
  {
   "cell_type": "code",
   "execution_count": 8,
   "metadata": {
    "scrolled": false
   },
   "outputs": [],
   "source": [
    "case_info = dict.fromkeys(range(1,51),[]) # Instatiates a Dictionary to get the info on the cases.\n",
    "\n",
    "for key in case_info: # Loops through the dictionaries in case pages and unpacks the values from each key.\n",
    "    case_info[key] = get_case_data(case_pages[key])\n",
    "    "
   ]
  },
  {
   "cell_type": "markdown",
   "metadata": {},
   "source": [
    "Now we have a dictionary containing only the information on the cases. Its keys can be seen below:"
   ]
  },
  {
   "cell_type": "code",
   "execution_count": 9,
   "metadata": {},
   "outputs": [
    {
     "data": {
      "text/plain": [
       "dict_keys(['id', 'slug', 'file_number', 'date', 'created_date', 'updated_date', 'type', 'ecli', 'content'])"
      ]
     },
     "execution_count": 9,
     "metadata": {},
     "output_type": "execute_result"
    }
   ],
   "source": [
    "case_info[1].keys()"
   ]
  },
  {
   "cell_type": "markdown",
   "metadata": {},
   "source": [
    "We can no longer see the court key, which is good since we decided to split them in two dictionaries.\n",
    "\n",
    "To manipulate the data more efficiently, we can transform it into a pandas DataFrame."
   ]
  },
  {
   "cell_type": "code",
   "execution_count": 10,
   "metadata": {},
   "outputs": [],
   "source": [
    "for key in case_info: # Loops through the keys of case_info and transforms every key in a data frame\n",
    "    case_info[key] = pd.DataFrame(case_info[key])"
   ]
  },
  {
   "cell_type": "markdown",
   "metadata": {},
   "source": [
    "Since every key contains the same data, we can simply concatenate the DataFrames."
   ]
  },
  {
   "cell_type": "code",
   "execution_count": 11,
   "metadata": {},
   "outputs": [],
   "source": [
    "cases = pd.concat(case_info) # Vertical concatenation of DataFrames"
   ]
  },
  {
   "cell_type": "markdown",
   "metadata": {},
   "source": [
    " Checking results:"
   ]
  },
  {
   "cell_type": "code",
   "execution_count": 12,
   "metadata": {},
   "outputs": [
    {
     "name": "stdout",
     "output_type": "stream",
     "text": [
      "<class 'pandas.core.frame.DataFrame'>\n",
      "MultiIndex: 50000 entries, (1, 0) to (50, 999)\n",
      "Data columns (total 9 columns):\n",
      " #   Column        Non-Null Count  Dtype \n",
      "---  ------        --------------  ----- \n",
      " 0   id            50000 non-null  int64 \n",
      " 1   slug          50000 non-null  object\n",
      " 2   file_number   50000 non-null  object\n",
      " 3   date          50000 non-null  object\n",
      " 4   created_date  50000 non-null  object\n",
      " 5   updated_date  50000 non-null  object\n",
      " 6   type          50000 non-null  object\n",
      " 7   ecli          50000 non-null  object\n",
      " 8   content       50000 non-null  object\n",
      "dtypes: int64(1), object(8)\n",
      "memory usage: 3.6+ MB\n"
     ]
    }
   ],
   "source": [
    "cases.info()"
   ]
  },
  {
   "cell_type": "markdown",
   "metadata": {},
   "source": [
    "Displaying DataFrame"
   ]
  },
  {
   "cell_type": "code",
   "execution_count": 13,
   "metadata": {},
   "outputs": [
    {
     "data": {
      "text/html": [
       "<div>\n",
       "<style scoped>\n",
       "    .dataframe tbody tr th:only-of-type {\n",
       "        vertical-align: middle;\n",
       "    }\n",
       "\n",
       "    .dataframe tbody tr th {\n",
       "        vertical-align: top;\n",
       "    }\n",
       "\n",
       "    .dataframe thead th {\n",
       "        text-align: right;\n",
       "    }\n",
       "</style>\n",
       "<table border=\"1\" class=\"dataframe\">\n",
       "  <thead>\n",
       "    <tr style=\"text-align: right;\">\n",
       "      <th></th>\n",
       "      <th></th>\n",
       "      <th>id</th>\n",
       "      <th>slug</th>\n",
       "      <th>file_number</th>\n",
       "      <th>date</th>\n",
       "      <th>created_date</th>\n",
       "      <th>updated_date</th>\n",
       "      <th>type</th>\n",
       "      <th>ecli</th>\n",
       "      <th>content</th>\n",
       "    </tr>\n",
       "  </thead>\n",
       "  <tbody>\n",
       "    <tr>\n",
       "      <th rowspan=\"5\" valign=\"top\">1</th>\n",
       "      <th>0</th>\n",
       "      <td>328393</td>\n",
       "      <td>bgh-2020-05-07-ix-zb-5619</td>\n",
       "      <td>IX ZB 56/19</td>\n",
       "      <td>2020-05-07</td>\n",
       "      <td>2020-05-29T10:00:15Z</td>\n",
       "      <td>2020-05-29T10:07:14Z</td>\n",
       "      <td>Beschluss</td>\n",
       "      <td>ECLI:DE:BGH:2020:070520BIXZB56.19.0</td>\n",
       "      <td>&lt;h2&gt;Tenor&lt;/h2&gt;\\n\\n&lt;div&gt;\\n         &lt;dl class=\"R...</td>\n",
       "    </tr>\n",
       "    <tr>\n",
       "      <th>1</th>\n",
       "      <td>328192</td>\n",
       "      <td>bverwg-2020-04-22-2-b-5219</td>\n",
       "      <td>2 B 52/19</td>\n",
       "      <td>2020-04-22</td>\n",
       "      <td>2020-05-21T10:00:05Z</td>\n",
       "      <td>2020-05-21T10:06:18Z</td>\n",
       "      <td>Beschluss</td>\n",
       "      <td>ECLI:DE:BVerwG:2020:220420B2B52.19.0</td>\n",
       "      <td>&lt;h2&gt;Tenor&lt;/h2&gt;\\n\\n&lt;div&gt;\\n         &lt;dl class=\"R...</td>\n",
       "    </tr>\n",
       "    <tr>\n",
       "      <th>2</th>\n",
       "      <td>328242</td>\n",
       "      <td>bgh-2020-04-21-ii-zr-5618</td>\n",
       "      <td>II ZR 56/18</td>\n",
       "      <td>2020-04-21</td>\n",
       "      <td>2020-05-23T10:00:15Z</td>\n",
       "      <td>2020-05-23T10:07:16Z</td>\n",
       "      <td>Urteil</td>\n",
       "      <td>ECLI:DE:BGH:2020:210420UIIZR56.18.0</td>\n",
       "      <td>&lt;h2&gt;Tenor&lt;/h2&gt;\\n\\n&lt;div&gt;\\n         &lt;dl class=\"R...</td>\n",
       "    </tr>\n",
       "    <tr>\n",
       "      <th>3</th>\n",
       "      <td>327286</td>\n",
       "      <td>bverfg-2020-03-25-2-bvr-11320</td>\n",
       "      <td>2 BvR 113/20</td>\n",
       "      <td>2020-03-25</td>\n",
       "      <td>2020-04-17T10:00:22Z</td>\n",
       "      <td>2020-04-17T10:06:52Z</td>\n",
       "      <td>Nichtannahmebeschluss</td>\n",
       "      <td>ECLI:DE:BVerfG:2020:rk20200325.2bvr011320</td>\n",
       "      <td>&lt;h2&gt;Tenor&lt;/h2&gt;\\n\\n&lt;div&gt;\\n         &lt;dl class=\"R...</td>\n",
       "    </tr>\n",
       "    <tr>\n",
       "      <th>4</th>\n",
       "      <td>327121</td>\n",
       "      <td>bverfg-2020-03-18-1-bvr-33720</td>\n",
       "      <td>1 BvR 337/20</td>\n",
       "      <td>2020-03-18</td>\n",
       "      <td>2020-04-09T10:00:18Z</td>\n",
       "      <td>2020-04-09T10:08:59Z</td>\n",
       "      <td>Nichtannahmebeschluss</td>\n",
       "      <td>ECLI:DE:BVerfG:2020:rk20200318.1bvr033720</td>\n",
       "      <td>&lt;h2&gt;Tenor&lt;/h2&gt;\\n\\n&lt;div&gt;\\n         &lt;dl class=\"R...</td>\n",
       "    </tr>\n",
       "  </tbody>\n",
       "</table>\n",
       "</div>"
      ],
      "text/plain": [
       "         id                           slug   file_number        date  \\\n",
       "1 0  328393      bgh-2020-05-07-ix-zb-5619   IX ZB 56/19  2020-05-07   \n",
       "  1  328192     bverwg-2020-04-22-2-b-5219     2 B 52/19  2020-04-22   \n",
       "  2  328242      bgh-2020-04-21-ii-zr-5618   II ZR 56/18  2020-04-21   \n",
       "  3  327286  bverfg-2020-03-25-2-bvr-11320  2 BvR 113/20  2020-03-25   \n",
       "  4  327121  bverfg-2020-03-18-1-bvr-33720  1 BvR 337/20  2020-03-18   \n",
       "\n",
       "             created_date          updated_date                   type  \\\n",
       "1 0  2020-05-29T10:00:15Z  2020-05-29T10:07:14Z              Beschluss   \n",
       "  1  2020-05-21T10:00:05Z  2020-05-21T10:06:18Z              Beschluss   \n",
       "  2  2020-05-23T10:00:15Z  2020-05-23T10:07:16Z                 Urteil   \n",
       "  3  2020-04-17T10:00:22Z  2020-04-17T10:06:52Z  Nichtannahmebeschluss   \n",
       "  4  2020-04-09T10:00:18Z  2020-04-09T10:08:59Z  Nichtannahmebeschluss   \n",
       "\n",
       "                                          ecli  \\\n",
       "1 0        ECLI:DE:BGH:2020:070520BIXZB56.19.0   \n",
       "  1       ECLI:DE:BVerwG:2020:220420B2B52.19.0   \n",
       "  2        ECLI:DE:BGH:2020:210420UIIZR56.18.0   \n",
       "  3  ECLI:DE:BVerfG:2020:rk20200325.2bvr011320   \n",
       "  4  ECLI:DE:BVerfG:2020:rk20200318.1bvr033720   \n",
       "\n",
       "                                               content  \n",
       "1 0  <h2>Tenor</h2>\\n\\n<div>\\n         <dl class=\"R...  \n",
       "  1  <h2>Tenor</h2>\\n\\n<div>\\n         <dl class=\"R...  \n",
       "  2  <h2>Tenor</h2>\\n\\n<div>\\n         <dl class=\"R...  \n",
       "  3  <h2>Tenor</h2>\\n\\n<div>\\n         <dl class=\"R...  \n",
       "  4  <h2>Tenor</h2>\\n\\n<div>\\n         <dl class=\"R...  "
      ]
     },
     "execution_count": 13,
     "metadata": {},
     "output_type": "execute_result"
    }
   ],
   "source": [
    "cases.head() "
   ]
  },
  {
   "cell_type": "markdown",
   "metadata": {},
   "source": [
    "# Court Data\n",
    "\n",
    "Now it's time to retrieve the court data. This will be stored in a different dictionary. We'll repeat the same procedures of the extraction from case data."
   ]
  },
  {
   "cell_type": "code",
   "execution_count": 14,
   "metadata": {},
   "outputs": [],
   "source": [
    "def get_court_data(a_list): # Similar to get_case_Data, but accesses the court key of the case_pages dictionary\n",
    "    \n",
    "    court_info = {\"id\":[],\"name\":[],\"slug\":[],\"city\":[],\"state\":[],\"jurisdiction\":[],\"level_of_appeal\":[]}\n",
    "    \n",
    "    for element in a_list:\n",
    "        court_info[\"id\"].append(element[\"court\"].get(\"id\"))\n",
    "        court_info[\"name\"].append(element[\"court\"].get(\"name\"))\n",
    "        court_info[\"slug\"].append(element[\"court\"].get(\"slug\"))\n",
    "        court_info[\"city\"].append(element[\"court\"].get(\"city\"))\n",
    "        court_info[\"state\"].append(element[\"court\"].get(\"state\"))\n",
    "        court_info[\"jurisdiction\"].append(element[\"court\"].get(\"jurisdiction\"))\n",
    "        court_info[\"level_of_appeal\"].append(element[\"court\"].get(\"level_of_appeal\"))\n",
    "        \n",
    "    return court_info"
   ]
  },
  {
   "cell_type": "code",
   "execution_count": 15,
   "metadata": {},
   "outputs": [],
   "source": [
    "court_info = dict.fromkeys(range(1,11),[])\n",
    "\n",
    "for key in case_pages:\n",
    "    court_info[key] = get_court_data(case_pages[key])\n",
    "    "
   ]
  },
  {
   "cell_type": "code",
   "execution_count": 16,
   "metadata": {},
   "outputs": [],
   "source": [
    "for key in court_info:\n",
    "    court_info[key] = pd.DataFrame(court_info[key])"
   ]
  },
  {
   "cell_type": "code",
   "execution_count": 17,
   "metadata": {},
   "outputs": [],
   "source": [
    "courts = pd.concat(court_info)"
   ]
  },
  {
   "cell_type": "code",
   "execution_count": 18,
   "metadata": {},
   "outputs": [
    {
     "name": "stdout",
     "output_type": "stream",
     "text": [
      "<class 'pandas.core.frame.DataFrame'>\n",
      "MultiIndex: 50000 entries, (1, 0) to (50, 999)\n",
      "Data columns (total 7 columns):\n",
      " #   Column           Non-Null Count  Dtype  \n",
      "---  ------           --------------  -----  \n",
      " 0   id               50000 non-null  int64  \n",
      " 1   name             50000 non-null  object \n",
      " 2   slug             50000 non-null  object \n",
      " 3   city             16688 non-null  float64\n",
      " 4   state            50000 non-null  int64  \n",
      " 5   jurisdiction     31938 non-null  object \n",
      " 6   level_of_appeal  26045 non-null  object \n",
      "dtypes: float64(1), int64(2), object(4)\n",
      "memory usage: 2.8+ MB\n"
     ]
    }
   ],
   "source": [
    "courts.info()"
   ]
  },
  {
   "cell_type": "code",
   "execution_count": 19,
   "metadata": {},
   "outputs": [
    {
     "data": {
      "text/html": [
       "<div>\n",
       "<style scoped>\n",
       "    .dataframe tbody tr th:only-of-type {\n",
       "        vertical-align: middle;\n",
       "    }\n",
       "\n",
       "    .dataframe tbody tr th {\n",
       "        vertical-align: top;\n",
       "    }\n",
       "\n",
       "    .dataframe thead th {\n",
       "        text-align: right;\n",
       "    }\n",
       "</style>\n",
       "<table border=\"1\" class=\"dataframe\">\n",
       "  <thead>\n",
       "    <tr style=\"text-align: right;\">\n",
       "      <th></th>\n",
       "      <th></th>\n",
       "      <th>id</th>\n",
       "      <th>name</th>\n",
       "      <th>slug</th>\n",
       "      <th>city</th>\n",
       "      <th>state</th>\n",
       "      <th>jurisdiction</th>\n",
       "      <th>level_of_appeal</th>\n",
       "    </tr>\n",
       "  </thead>\n",
       "  <tbody>\n",
       "    <tr>\n",
       "      <th rowspan=\"5\" valign=\"top\">1</th>\n",
       "      <th>0</th>\n",
       "      <td>4</td>\n",
       "      <td>Bundesgerichtshof</td>\n",
       "      <td>bgh</td>\n",
       "      <td>NaN</td>\n",
       "      <td>2</td>\n",
       "      <td>None</td>\n",
       "      <td>Bundesgericht</td>\n",
       "    </tr>\n",
       "    <tr>\n",
       "      <th>1</th>\n",
       "      <td>5</td>\n",
       "      <td>Bundesverwaltungsgericht</td>\n",
       "      <td>bverwg</td>\n",
       "      <td>NaN</td>\n",
       "      <td>2</td>\n",
       "      <td>Verwaltungsgerichtsbarkeit</td>\n",
       "      <td>Bundesgericht</td>\n",
       "    </tr>\n",
       "    <tr>\n",
       "      <th>2</th>\n",
       "      <td>4</td>\n",
       "      <td>Bundesgerichtshof</td>\n",
       "      <td>bgh</td>\n",
       "      <td>NaN</td>\n",
       "      <td>2</td>\n",
       "      <td>None</td>\n",
       "      <td>Bundesgericht</td>\n",
       "    </tr>\n",
       "    <tr>\n",
       "      <th>3</th>\n",
       "      <td>3</td>\n",
       "      <td>Bundesverfassungsgericht</td>\n",
       "      <td>bverfg</td>\n",
       "      <td>NaN</td>\n",
       "      <td>2</td>\n",
       "      <td>Verfassungsgerichtsbarkeit</td>\n",
       "      <td>Bundesgericht</td>\n",
       "    </tr>\n",
       "    <tr>\n",
       "      <th>4</th>\n",
       "      <td>3</td>\n",
       "      <td>Bundesverfassungsgericht</td>\n",
       "      <td>bverfg</td>\n",
       "      <td>NaN</td>\n",
       "      <td>2</td>\n",
       "      <td>Verfassungsgerichtsbarkeit</td>\n",
       "      <td>Bundesgericht</td>\n",
       "    </tr>\n",
       "  </tbody>\n",
       "</table>\n",
       "</div>"
      ],
      "text/plain": [
       "     id                      name    slug  city  state  \\\n",
       "1 0   4         Bundesgerichtshof     bgh   NaN      2   \n",
       "  1   5  Bundesverwaltungsgericht  bverwg   NaN      2   \n",
       "  2   4         Bundesgerichtshof     bgh   NaN      2   \n",
       "  3   3  Bundesverfassungsgericht  bverfg   NaN      2   \n",
       "  4   3  Bundesverfassungsgericht  bverfg   NaN      2   \n",
       "\n",
       "                   jurisdiction level_of_appeal  \n",
       "1 0                        None   Bundesgericht  \n",
       "  1  Verwaltungsgerichtsbarkeit   Bundesgericht  \n",
       "  2                        None   Bundesgericht  \n",
       "  3  Verfassungsgerichtsbarkeit   Bundesgericht  \n",
       "  4  Verfassungsgerichtsbarkeit   Bundesgericht  "
      ]
     },
     "execution_count": 19,
     "metadata": {},
     "output_type": "execute_result"
    }
   ],
   "source": [
    "courts.head()"
   ]
  },
  {
   "cell_type": "markdown",
   "metadata": {},
   "source": [
    "Finally, all the data is stored in two separate DataFrames called cases and courts. This will allow us to manipulate them better in order to conduct the data cleaning. \n",
    "\n",
    "However, before we do any further data manipulation, we should save the \"raw\" files. At this point it would also be commendable to save one of the columns to a different file. The column in question is called \"content\" and is located in the cases DataFrame. It contains the whole decision of the court. \n",
    "\n",
    "This data is very interesting for natural language processing projects, but since this is out of the scope of this project, we'll leave it aside for now. "
   ]
  },
  {
   "cell_type": "code",
   "execution_count": 20,
   "metadata": {},
   "outputs": [],
   "source": [
    "content = cases[[\"id\",\"content\"]] # We keep the id to enable merging the DataFrames together in the future\n",
    "content.to_csv(r\"C:\\Users\\celio\\Data Analysis\\Projects\\Open Legal Data\\content.csv\")"
   ]
  },
  {
   "cell_type": "code",
   "execution_count": 21,
   "metadata": {},
   "outputs": [],
   "source": [
    "courts.to_csv(r\"C:\\Users\\celio\\Data Analysis\\Projects\\Open Legal Data\\courts.csv\")"
   ]
  },
  {
   "cell_type": "code",
   "execution_count": 22,
   "metadata": {},
   "outputs": [],
   "source": [
    "cases = cases.drop(\"content\",axis = 1)\n",
    "cases.to_csv(r\"C:\\Users\\celio\\Data Analysis\\Projects\\Open Legal Data\\cases.csv\")"
   ]
  },
  {
   "cell_type": "code",
   "execution_count": 23,
   "metadata": {},
   "outputs": [
    {
     "data": {
      "text/html": [
       "<div>\n",
       "<style scoped>\n",
       "    .dataframe tbody tr th:only-of-type {\n",
       "        vertical-align: middle;\n",
       "    }\n",
       "\n",
       "    .dataframe tbody tr th {\n",
       "        vertical-align: top;\n",
       "    }\n",
       "\n",
       "    .dataframe thead th {\n",
       "        text-align: right;\n",
       "    }\n",
       "</style>\n",
       "<table border=\"1\" class=\"dataframe\">\n",
       "  <thead>\n",
       "    <tr style=\"text-align: right;\">\n",
       "      <th></th>\n",
       "      <th>id</th>\n",
       "      <th>slug</th>\n",
       "      <th>file_number</th>\n",
       "      <th>date</th>\n",
       "      <th>created_date</th>\n",
       "      <th>updated_date</th>\n",
       "      <th>type</th>\n",
       "      <th>ecli</th>\n",
       "    </tr>\n",
       "  </thead>\n",
       "  <tbody>\n",
       "    <tr>\n",
       "      <th>0</th>\n",
       "      <td>328393</td>\n",
       "      <td>bgh-2020-05-07-ix-zb-5619</td>\n",
       "      <td>IX ZB 56/19</td>\n",
       "      <td>2020-05-07</td>\n",
       "      <td>2020-05-29T10:00:15Z</td>\n",
       "      <td>2020-05-29T10:07:14Z</td>\n",
       "      <td>Beschluss</td>\n",
       "      <td>ECLI:DE:BGH:2020:070520BIXZB56.19.0</td>\n",
       "    </tr>\n",
       "    <tr>\n",
       "      <th>1</th>\n",
       "      <td>328192</td>\n",
       "      <td>bverwg-2020-04-22-2-b-5219</td>\n",
       "      <td>2 B 52/19</td>\n",
       "      <td>2020-04-22</td>\n",
       "      <td>2020-05-21T10:00:05Z</td>\n",
       "      <td>2020-05-21T10:06:18Z</td>\n",
       "      <td>Beschluss</td>\n",
       "      <td>ECLI:DE:BVerwG:2020:220420B2B52.19.0</td>\n",
       "    </tr>\n",
       "    <tr>\n",
       "      <th>2</th>\n",
       "      <td>328242</td>\n",
       "      <td>bgh-2020-04-21-ii-zr-5618</td>\n",
       "      <td>II ZR 56/18</td>\n",
       "      <td>2020-04-21</td>\n",
       "      <td>2020-05-23T10:00:15Z</td>\n",
       "      <td>2020-05-23T10:07:16Z</td>\n",
       "      <td>Urteil</td>\n",
       "      <td>ECLI:DE:BGH:2020:210420UIIZR56.18.0</td>\n",
       "    </tr>\n",
       "    <tr>\n",
       "      <th>3</th>\n",
       "      <td>327286</td>\n",
       "      <td>bverfg-2020-03-25-2-bvr-11320</td>\n",
       "      <td>2 BvR 113/20</td>\n",
       "      <td>2020-03-25</td>\n",
       "      <td>2020-04-17T10:00:22Z</td>\n",
       "      <td>2020-04-17T10:06:52Z</td>\n",
       "      <td>Nichtannahmebeschluss</td>\n",
       "      <td>ECLI:DE:BVerfG:2020:rk20200325.2bvr011320</td>\n",
       "    </tr>\n",
       "    <tr>\n",
       "      <th>4</th>\n",
       "      <td>327121</td>\n",
       "      <td>bverfg-2020-03-18-1-bvr-33720</td>\n",
       "      <td>1 BvR 337/20</td>\n",
       "      <td>2020-03-18</td>\n",
       "      <td>2020-04-09T10:00:18Z</td>\n",
       "      <td>2020-04-09T10:08:59Z</td>\n",
       "      <td>Nichtannahmebeschluss</td>\n",
       "      <td>ECLI:DE:BVerfG:2020:rk20200318.1bvr033720</td>\n",
       "    </tr>\n",
       "    <tr>\n",
       "      <th>...</th>\n",
       "      <td>...</td>\n",
       "      <td>...</td>\n",
       "      <td>...</td>\n",
       "      <td>...</td>\n",
       "      <td>...</td>\n",
       "      <td>...</td>\n",
       "      <td>...</td>\n",
       "      <td>...</td>\n",
       "    </tr>\n",
       "    <tr>\n",
       "      <th>49995</th>\n",
       "      <td>84716</td>\n",
       "      <td>bverwg-2014-12-04-4-cn-713</td>\n",
       "      <td>4 CN 7/13</td>\n",
       "      <td>2014-12-04</td>\n",
       "      <td>2018-11-11T14:30:04Z</td>\n",
       "      <td>2020-05-06T07:18:54Z</td>\n",
       "      <td>Urteil</td>\n",
       "      <td>ECLI:DE:BVerwG:2014:041214U4CN7.13.0</td>\n",
       "    </tr>\n",
       "    <tr>\n",
       "      <th>49996</th>\n",
       "      <td>84718</td>\n",
       "      <td>bverwg-2014-12-04-9-b-7514</td>\n",
       "      <td>9 B 75/14</td>\n",
       "      <td>2014-12-04</td>\n",
       "      <td>2018-11-11T14:30:04Z</td>\n",
       "      <td>2020-05-06T07:19:04Z</td>\n",
       "      <td>Beschluss</td>\n",
       "      <td>ECLI:DE:BVerwG:2014:041214B9B75.14.0</td>\n",
       "    </tr>\n",
       "    <tr>\n",
       "      <th>49997</th>\n",
       "      <td>84729</td>\n",
       "      <td>bverwg-2014-12-04-4-c-3313</td>\n",
       "      <td>4 C 33/13</td>\n",
       "      <td>2014-12-04</td>\n",
       "      <td>2018-11-11T14:30:05Z</td>\n",
       "      <td>2020-05-06T07:22:07Z</td>\n",
       "      <td>Urteil</td>\n",
       "      <td>ECLI:DE:BVerwG:2014:041214U4C33.13.0</td>\n",
       "    </tr>\n",
       "    <tr>\n",
       "      <th>49998</th>\n",
       "      <td>84733</td>\n",
       "      <td>bverwg-2014-12-04-8-b-6614</td>\n",
       "      <td>8 B 66/14</td>\n",
       "      <td>2014-12-04</td>\n",
       "      <td>2018-11-11T14:30:05Z</td>\n",
       "      <td>2020-05-06T07:22:24Z</td>\n",
       "      <td>Beschluss</td>\n",
       "      <td>ECLI:DE:BVerwG:2014:041214B8B66.14.0</td>\n",
       "    </tr>\n",
       "    <tr>\n",
       "      <th>49999</th>\n",
       "      <td>84739</td>\n",
       "      <td>bverwg-2014-12-03-2-a-313</td>\n",
       "      <td>2 A 3/13</td>\n",
       "      <td>2014-12-03</td>\n",
       "      <td>2018-11-11T14:30:06Z</td>\n",
       "      <td>2020-05-06T07:23:00Z</td>\n",
       "      <td>Urteil</td>\n",
       "      <td>ECLI:DE:BVerwG:2014:031214U2A3.13.0</td>\n",
       "    </tr>\n",
       "  </tbody>\n",
       "</table>\n",
       "<p>50000 rows × 8 columns</p>\n",
       "</div>"
      ],
      "text/plain": [
       "           id                           slug   file_number        date  \\\n",
       "0      328393      bgh-2020-05-07-ix-zb-5619   IX ZB 56/19  2020-05-07   \n",
       "1      328192     bverwg-2020-04-22-2-b-5219     2 B 52/19  2020-04-22   \n",
       "2      328242      bgh-2020-04-21-ii-zr-5618   II ZR 56/18  2020-04-21   \n",
       "3      327286  bverfg-2020-03-25-2-bvr-11320  2 BvR 113/20  2020-03-25   \n",
       "4      327121  bverfg-2020-03-18-1-bvr-33720  1 BvR 337/20  2020-03-18   \n",
       "...       ...                            ...           ...         ...   \n",
       "49995   84716     bverwg-2014-12-04-4-cn-713     4 CN 7/13  2014-12-04   \n",
       "49996   84718     bverwg-2014-12-04-9-b-7514     9 B 75/14  2014-12-04   \n",
       "49997   84729     bverwg-2014-12-04-4-c-3313     4 C 33/13  2014-12-04   \n",
       "49998   84733     bverwg-2014-12-04-8-b-6614     8 B 66/14  2014-12-04   \n",
       "49999   84739      bverwg-2014-12-03-2-a-313      2 A 3/13  2014-12-03   \n",
       "\n",
       "               created_date          updated_date                   type  \\\n",
       "0      2020-05-29T10:00:15Z  2020-05-29T10:07:14Z              Beschluss   \n",
       "1      2020-05-21T10:00:05Z  2020-05-21T10:06:18Z              Beschluss   \n",
       "2      2020-05-23T10:00:15Z  2020-05-23T10:07:16Z                 Urteil   \n",
       "3      2020-04-17T10:00:22Z  2020-04-17T10:06:52Z  Nichtannahmebeschluss   \n",
       "4      2020-04-09T10:00:18Z  2020-04-09T10:08:59Z  Nichtannahmebeschluss   \n",
       "...                     ...                   ...                    ...   \n",
       "49995  2018-11-11T14:30:04Z  2020-05-06T07:18:54Z                 Urteil   \n",
       "49996  2018-11-11T14:30:04Z  2020-05-06T07:19:04Z              Beschluss   \n",
       "49997  2018-11-11T14:30:05Z  2020-05-06T07:22:07Z                 Urteil   \n",
       "49998  2018-11-11T14:30:05Z  2020-05-06T07:22:24Z              Beschluss   \n",
       "49999  2018-11-11T14:30:06Z  2020-05-06T07:23:00Z                 Urteil   \n",
       "\n",
       "                                            ecli  \n",
       "0            ECLI:DE:BGH:2020:070520BIXZB56.19.0  \n",
       "1           ECLI:DE:BVerwG:2020:220420B2B52.19.0  \n",
       "2            ECLI:DE:BGH:2020:210420UIIZR56.18.0  \n",
       "3      ECLI:DE:BVerfG:2020:rk20200325.2bvr011320  \n",
       "4      ECLI:DE:BVerfG:2020:rk20200318.1bvr033720  \n",
       "...                                          ...  \n",
       "49995       ECLI:DE:BVerwG:2014:041214U4CN7.13.0  \n",
       "49996       ECLI:DE:BVerwG:2014:041214B9B75.14.0  \n",
       "49997       ECLI:DE:BVerwG:2014:041214U4C33.13.0  \n",
       "49998       ECLI:DE:BVerwG:2014:041214B8B66.14.0  \n",
       "49999        ECLI:DE:BVerwG:2014:031214U2A3.13.0  \n",
       "\n",
       "[50000 rows x 8 columns]"
      ]
     },
     "execution_count": 23,
     "metadata": {},
     "output_type": "execute_result"
    }
   ],
   "source": [
    "cases = pd.read_csv(r\"C:\\Users\\celio\\Data Analysis\\Projects\\Open Legal Data\\cases.csv\")\n",
    "cases = cases.drop([\"Unnamed: 0\",\"Unnamed: 1\"],axis = \"columns\")\n",
    "cases"
   ]
  },
  {
   "cell_type": "code",
   "execution_count": 24,
   "metadata": {},
   "outputs": [
    {
     "data": {
      "text/html": [
       "<div>\n",
       "<style scoped>\n",
       "    .dataframe tbody tr th:only-of-type {\n",
       "        vertical-align: middle;\n",
       "    }\n",
       "\n",
       "    .dataframe tbody tr th {\n",
       "        vertical-align: top;\n",
       "    }\n",
       "\n",
       "    .dataframe thead th {\n",
       "        text-align: right;\n",
       "    }\n",
       "</style>\n",
       "<table border=\"1\" class=\"dataframe\">\n",
       "  <thead>\n",
       "    <tr style=\"text-align: right;\">\n",
       "      <th></th>\n",
       "      <th>id</th>\n",
       "      <th>name</th>\n",
       "      <th>slug</th>\n",
       "      <th>city</th>\n",
       "      <th>state</th>\n",
       "      <th>jurisdiction</th>\n",
       "      <th>level_of_appeal</th>\n",
       "    </tr>\n",
       "  </thead>\n",
       "  <tbody>\n",
       "    <tr>\n",
       "      <th>0</th>\n",
       "      <td>4</td>\n",
       "      <td>Bundesgerichtshof</td>\n",
       "      <td>bgh</td>\n",
       "      <td>NaN</td>\n",
       "      <td>2</td>\n",
       "      <td>NaN</td>\n",
       "      <td>Bundesgericht</td>\n",
       "    </tr>\n",
       "    <tr>\n",
       "      <th>1</th>\n",
       "      <td>5</td>\n",
       "      <td>Bundesverwaltungsgericht</td>\n",
       "      <td>bverwg</td>\n",
       "      <td>NaN</td>\n",
       "      <td>2</td>\n",
       "      <td>Verwaltungsgerichtsbarkeit</td>\n",
       "      <td>Bundesgericht</td>\n",
       "    </tr>\n",
       "    <tr>\n",
       "      <th>2</th>\n",
       "      <td>4</td>\n",
       "      <td>Bundesgerichtshof</td>\n",
       "      <td>bgh</td>\n",
       "      <td>NaN</td>\n",
       "      <td>2</td>\n",
       "      <td>NaN</td>\n",
       "      <td>Bundesgericht</td>\n",
       "    </tr>\n",
       "    <tr>\n",
       "      <th>3</th>\n",
       "      <td>3</td>\n",
       "      <td>Bundesverfassungsgericht</td>\n",
       "      <td>bverfg</td>\n",
       "      <td>NaN</td>\n",
       "      <td>2</td>\n",
       "      <td>Verfassungsgerichtsbarkeit</td>\n",
       "      <td>Bundesgericht</td>\n",
       "    </tr>\n",
       "    <tr>\n",
       "      <th>4</th>\n",
       "      <td>3</td>\n",
       "      <td>Bundesverfassungsgericht</td>\n",
       "      <td>bverfg</td>\n",
       "      <td>NaN</td>\n",
       "      <td>2</td>\n",
       "      <td>Verfassungsgerichtsbarkeit</td>\n",
       "      <td>Bundesgericht</td>\n",
       "    </tr>\n",
       "    <tr>\n",
       "      <th>...</th>\n",
       "      <td>...</td>\n",
       "      <td>...</td>\n",
       "      <td>...</td>\n",
       "      <td>...</td>\n",
       "      <td>...</td>\n",
       "      <td>...</td>\n",
       "      <td>...</td>\n",
       "    </tr>\n",
       "    <tr>\n",
       "      <th>49995</th>\n",
       "      <td>5</td>\n",
       "      <td>Bundesverwaltungsgericht</td>\n",
       "      <td>bverwg</td>\n",
       "      <td>NaN</td>\n",
       "      <td>2</td>\n",
       "      <td>Verwaltungsgerichtsbarkeit</td>\n",
       "      <td>Bundesgericht</td>\n",
       "    </tr>\n",
       "    <tr>\n",
       "      <th>49996</th>\n",
       "      <td>5</td>\n",
       "      <td>Bundesverwaltungsgericht</td>\n",
       "      <td>bverwg</td>\n",
       "      <td>NaN</td>\n",
       "      <td>2</td>\n",
       "      <td>Verwaltungsgerichtsbarkeit</td>\n",
       "      <td>Bundesgericht</td>\n",
       "    </tr>\n",
       "    <tr>\n",
       "      <th>49997</th>\n",
       "      <td>5</td>\n",
       "      <td>Bundesverwaltungsgericht</td>\n",
       "      <td>bverwg</td>\n",
       "      <td>NaN</td>\n",
       "      <td>2</td>\n",
       "      <td>Verwaltungsgerichtsbarkeit</td>\n",
       "      <td>Bundesgericht</td>\n",
       "    </tr>\n",
       "    <tr>\n",
       "      <th>49998</th>\n",
       "      <td>5</td>\n",
       "      <td>Bundesverwaltungsgericht</td>\n",
       "      <td>bverwg</td>\n",
       "      <td>NaN</td>\n",
       "      <td>2</td>\n",
       "      <td>Verwaltungsgerichtsbarkeit</td>\n",
       "      <td>Bundesgericht</td>\n",
       "    </tr>\n",
       "    <tr>\n",
       "      <th>49999</th>\n",
       "      <td>5</td>\n",
       "      <td>Bundesverwaltungsgericht</td>\n",
       "      <td>bverwg</td>\n",
       "      <td>NaN</td>\n",
       "      <td>2</td>\n",
       "      <td>Verwaltungsgerichtsbarkeit</td>\n",
       "      <td>Bundesgericht</td>\n",
       "    </tr>\n",
       "  </tbody>\n",
       "</table>\n",
       "<p>50000 rows × 7 columns</p>\n",
       "</div>"
      ],
      "text/plain": [
       "       id                      name    slug  city  state  \\\n",
       "0       4         Bundesgerichtshof     bgh   NaN      2   \n",
       "1       5  Bundesverwaltungsgericht  bverwg   NaN      2   \n",
       "2       4         Bundesgerichtshof     bgh   NaN      2   \n",
       "3       3  Bundesverfassungsgericht  bverfg   NaN      2   \n",
       "4       3  Bundesverfassungsgericht  bverfg   NaN      2   \n",
       "...    ..                       ...     ...   ...    ...   \n",
       "49995   5  Bundesverwaltungsgericht  bverwg   NaN      2   \n",
       "49996   5  Bundesverwaltungsgericht  bverwg   NaN      2   \n",
       "49997   5  Bundesverwaltungsgericht  bverwg   NaN      2   \n",
       "49998   5  Bundesverwaltungsgericht  bverwg   NaN      2   \n",
       "49999   5  Bundesverwaltungsgericht  bverwg   NaN      2   \n",
       "\n",
       "                     jurisdiction level_of_appeal  \n",
       "0                             NaN   Bundesgericht  \n",
       "1      Verwaltungsgerichtsbarkeit   Bundesgericht  \n",
       "2                             NaN   Bundesgericht  \n",
       "3      Verfassungsgerichtsbarkeit   Bundesgericht  \n",
       "4      Verfassungsgerichtsbarkeit   Bundesgericht  \n",
       "...                           ...             ...  \n",
       "49995  Verwaltungsgerichtsbarkeit   Bundesgericht  \n",
       "49996  Verwaltungsgerichtsbarkeit   Bundesgericht  \n",
       "49997  Verwaltungsgerichtsbarkeit   Bundesgericht  \n",
       "49998  Verwaltungsgerichtsbarkeit   Bundesgericht  \n",
       "49999  Verwaltungsgerichtsbarkeit   Bundesgericht  \n",
       "\n",
       "[50000 rows x 7 columns]"
      ]
     },
     "execution_count": 24,
     "metadata": {},
     "output_type": "execute_result"
    }
   ],
   "source": [
    "courts = pd.read_csv(r\"C:\\Users\\celio\\Data Analysis\\Projects\\Open Legal Data\\courts.csv\")\n",
    "courts = courts.drop([\"Unnamed: 0\",\"Unnamed: 1\"], axis = \"columns\")\n",
    "courts"
   ]
  },
  {
   "cell_type": "markdown",
   "metadata": {},
   "source": [
    "# Cleaning Data\n",
    "\n",
    "The cases DataFrame is complete. It contains no missing values and whatever Data Cleaning it requires depends on the analysis that will be done. On that account, for now, we'll focus the cleaning on the courts DataFrame.\n",
    "\n",
    "## The States Column\n",
    "\n",
    "The states colum contains data about the Bundesländer where the courts are located - actually, it's data about the geographical extent of their jurisdiction. This is the reason why the code 2, as we'll see below, stands for \"Bundesrepublik Deutschland and is attributed to the Bundesverfassungsgericht and the Bundesgerichtshof, even though they're located in Baden-Wüttemberg (code 3)."
   ]
  },
  {
   "cell_type": "code",
   "execution_count": 25,
   "metadata": {},
   "outputs": [
    {
     "data": {
      "text/html": [
       "<div>\n",
       "<style scoped>\n",
       "    .dataframe tbody tr th:only-of-type {\n",
       "        vertical-align: middle;\n",
       "    }\n",
       "\n",
       "    .dataframe tbody tr th {\n",
       "        vertical-align: top;\n",
       "    }\n",
       "\n",
       "    .dataframe thead th {\n",
       "        text-align: right;\n",
       "    }\n",
       "</style>\n",
       "<table border=\"1\" class=\"dataframe\">\n",
       "  <thead>\n",
       "    <tr style=\"text-align: right;\">\n",
       "      <th></th>\n",
       "      <th>id</th>\n",
       "      <th>name</th>\n",
       "      <th>slug</th>\n",
       "      <th>city</th>\n",
       "      <th>state</th>\n",
       "      <th>jurisdiction</th>\n",
       "      <th>level_of_appeal</th>\n",
       "    </tr>\n",
       "  </thead>\n",
       "  <tbody>\n",
       "    <tr>\n",
       "      <th>0</th>\n",
       "      <td>4</td>\n",
       "      <td>Bundesgerichtshof</td>\n",
       "      <td>bgh</td>\n",
       "      <td>NaN</td>\n",
       "      <td>2</td>\n",
       "      <td>NaN</td>\n",
       "      <td>Bundesgericht</td>\n",
       "    </tr>\n",
       "    <tr>\n",
       "      <th>1</th>\n",
       "      <td>5</td>\n",
       "      <td>Bundesverwaltungsgericht</td>\n",
       "      <td>bverwg</td>\n",
       "      <td>NaN</td>\n",
       "      <td>2</td>\n",
       "      <td>Verwaltungsgerichtsbarkeit</td>\n",
       "      <td>Bundesgericht</td>\n",
       "    </tr>\n",
       "    <tr>\n",
       "      <th>2</th>\n",
       "      <td>4</td>\n",
       "      <td>Bundesgerichtshof</td>\n",
       "      <td>bgh</td>\n",
       "      <td>NaN</td>\n",
       "      <td>2</td>\n",
       "      <td>NaN</td>\n",
       "      <td>Bundesgericht</td>\n",
       "    </tr>\n",
       "    <tr>\n",
       "      <th>3</th>\n",
       "      <td>3</td>\n",
       "      <td>Bundesverfassungsgericht</td>\n",
       "      <td>bverfg</td>\n",
       "      <td>NaN</td>\n",
       "      <td>2</td>\n",
       "      <td>Verfassungsgerichtsbarkeit</td>\n",
       "      <td>Bundesgericht</td>\n",
       "    </tr>\n",
       "    <tr>\n",
       "      <th>4</th>\n",
       "      <td>3</td>\n",
       "      <td>Bundesverfassungsgericht</td>\n",
       "      <td>bverfg</td>\n",
       "      <td>NaN</td>\n",
       "      <td>2</td>\n",
       "      <td>Verfassungsgerichtsbarkeit</td>\n",
       "      <td>Bundesgericht</td>\n",
       "    </tr>\n",
       "  </tbody>\n",
       "</table>\n",
       "</div>"
      ],
      "text/plain": [
       "   id                      name    slug  city  state  \\\n",
       "0   4         Bundesgerichtshof     bgh   NaN      2   \n",
       "1   5  Bundesverwaltungsgericht  bverwg   NaN      2   \n",
       "2   4         Bundesgerichtshof     bgh   NaN      2   \n",
       "3   3  Bundesverfassungsgericht  bverfg   NaN      2   \n",
       "4   3  Bundesverfassungsgericht  bverfg   NaN      2   \n",
       "\n",
       "                 jurisdiction level_of_appeal  \n",
       "0                         NaN   Bundesgericht  \n",
       "1  Verwaltungsgerichtsbarkeit   Bundesgericht  \n",
       "2                         NaN   Bundesgericht  \n",
       "3  Verfassungsgerichtsbarkeit   Bundesgericht  \n",
       "4  Verfassungsgerichtsbarkeit   Bundesgericht  "
      ]
     },
     "execution_count": 25,
     "metadata": {},
     "output_type": "execute_result"
    }
   ],
   "source": [
    "courts.head()"
   ]
  },
  {
   "cell_type": "markdown",
   "metadata": {},
   "source": [
    "Luckily, the Open Legal Data Api has another endpoint to indicate what's the meaning behind each number in the State column."
   ]
  },
  {
   "cell_type": "code",
   "execution_count": 26,
   "metadata": {},
   "outputs": [
    {
     "name": "stdout",
     "output_type": "stream",
     "text": [
      "3 Baden-Württemberg\n",
      "4 Bayern\n",
      "5 Berlin\n",
      "6 Brandenburg\n",
      "7 Bremen\n",
      "2 Bundesrepublik Deutschland\n",
      "19 Europäische Union\n",
      "8 Hamburg\n",
      "9 Hessen\n",
      "10 Mecklenburg-Vorpommern\n",
      "11 Niedersachsen\n",
      "12 Nordrhein-Westfalen\n",
      "13 Rheinland-Pfalz\n",
      "14 Saarland\n",
      "15 Sachsen\n",
      "16 Sachsen-Anhalt\n",
      "17 Schleswig-Holstein\n",
      "18 Thüringen\n",
      "1 Unknown state\n"
     ]
    }
   ],
   "source": [
    "test = requests.get(\"https://de.openlegaldata.io/api/states/\")\n",
    "test_content = json.loads(test.content)\n",
    "for d in test_content[\"results\"]:\n",
    "    print(d[\"id\"],d[\"name\"])"
   ]
  },
  {
   "cell_type": "markdown",
   "metadata": {},
   "source": [
    "We can compare those to the unique values in the state column."
   ]
  },
  {
   "cell_type": "code",
   "execution_count": 27,
   "metadata": {
    "scrolled": true
   },
   "outputs": [
    {
     "data": {
      "text/plain": [
       "array([ 2, 11,  3, 12, 10, 13,  4, 19, 17, 14,  8, 16, 15], dtype=int64)"
      ]
     },
     "execution_count": 27,
     "metadata": {},
     "output_type": "execute_result"
    }
   ],
   "source": [
    "courts[\"state\"].unique()"
   ]
  },
  {
   "cell_type": "markdown",
   "metadata": {},
   "source": [
    "We can now input more comprehensible data to the state column by using the replace() method from Pandas"
   ]
  },
  {
   "cell_type": "code",
   "execution_count": 28,
   "metadata": {},
   "outputs": [],
   "source": [
    "courts[\"state\"] = courts[\"state\"].astype(str)"
   ]
  },
  {
   "cell_type": "code",
   "execution_count": 29,
   "metadata": {},
   "outputs": [],
   "source": [
    "mapper = {\"3\":\"Baden-Württemberg\",\n",
    "         \"4\":\"Bayern\",\n",
    "         \"5\":\"Berlin\",\n",
    "         \"6\":\"Brandenburg\",\n",
    "         \"7\":\"Bremen\",\n",
    "         \"2\":\"Bundesrepublik Deutschland\",\n",
    "         \"19\":\"Europäische Union\",\n",
    "         \"8\":\"Hamburg\",\n",
    "         \"9\":\"Hessen\",\n",
    "         \"10\":\"Mecklenburg-Vorpommern\",\n",
    "         \"11\":\"Niedersachsen\",\n",
    "         \"12\":\"Nordrhein-Westfalen\",\n",
    "         \"13\": \"Rheinland-Pfalz\",\n",
    "         \"14\":\"Saarland\",\n",
    "         \"15\":\"Sachsen\",\n",
    "         \"16\":\"Sachsen-Anhalt\",\n",
    "         \"17\":\"Schleswig-Holstein\",\n",
    "         \"18\":\"Thüringen\"}\n",
    "\n",
    "courts[\"state\"] = courts[\"state\"].replace(mapper)"
   ]
  },
  {
   "cell_type": "markdown",
   "metadata": {},
   "source": [
    "We can verify the changes to check if everything went as expected"
   ]
  },
  {
   "cell_type": "code",
   "execution_count": 30,
   "metadata": {},
   "outputs": [
    {
     "data": {
      "text/html": [
       "<div>\n",
       "<style scoped>\n",
       "    .dataframe tbody tr th:only-of-type {\n",
       "        vertical-align: middle;\n",
       "    }\n",
       "\n",
       "    .dataframe tbody tr th {\n",
       "        vertical-align: top;\n",
       "    }\n",
       "\n",
       "    .dataframe thead th {\n",
       "        text-align: right;\n",
       "    }\n",
       "</style>\n",
       "<table border=\"1\" class=\"dataframe\">\n",
       "  <thead>\n",
       "    <tr style=\"text-align: right;\">\n",
       "      <th></th>\n",
       "      <th>id</th>\n",
       "      <th>name</th>\n",
       "      <th>slug</th>\n",
       "      <th>city</th>\n",
       "      <th>state</th>\n",
       "      <th>jurisdiction</th>\n",
       "      <th>level_of_appeal</th>\n",
       "    </tr>\n",
       "  </thead>\n",
       "  <tbody>\n",
       "    <tr>\n",
       "      <th>0</th>\n",
       "      <td>4</td>\n",
       "      <td>Bundesgerichtshof</td>\n",
       "      <td>bgh</td>\n",
       "      <td>NaN</td>\n",
       "      <td>Bundesrepublik Deutschland</td>\n",
       "      <td>NaN</td>\n",
       "      <td>Bundesgericht</td>\n",
       "    </tr>\n",
       "    <tr>\n",
       "      <th>1</th>\n",
       "      <td>5</td>\n",
       "      <td>Bundesverwaltungsgericht</td>\n",
       "      <td>bverwg</td>\n",
       "      <td>NaN</td>\n",
       "      <td>Bundesrepublik Deutschland</td>\n",
       "      <td>Verwaltungsgerichtsbarkeit</td>\n",
       "      <td>Bundesgericht</td>\n",
       "    </tr>\n",
       "    <tr>\n",
       "      <th>2</th>\n",
       "      <td>4</td>\n",
       "      <td>Bundesgerichtshof</td>\n",
       "      <td>bgh</td>\n",
       "      <td>NaN</td>\n",
       "      <td>Bundesrepublik Deutschland</td>\n",
       "      <td>NaN</td>\n",
       "      <td>Bundesgericht</td>\n",
       "    </tr>\n",
       "    <tr>\n",
       "      <th>3</th>\n",
       "      <td>3</td>\n",
       "      <td>Bundesverfassungsgericht</td>\n",
       "      <td>bverfg</td>\n",
       "      <td>NaN</td>\n",
       "      <td>Bundesrepublik Deutschland</td>\n",
       "      <td>Verfassungsgerichtsbarkeit</td>\n",
       "      <td>Bundesgericht</td>\n",
       "    </tr>\n",
       "    <tr>\n",
       "      <th>4</th>\n",
       "      <td>3</td>\n",
       "      <td>Bundesverfassungsgericht</td>\n",
       "      <td>bverfg</td>\n",
       "      <td>NaN</td>\n",
       "      <td>Bundesrepublik Deutschland</td>\n",
       "      <td>Verfassungsgerichtsbarkeit</td>\n",
       "      <td>Bundesgericht</td>\n",
       "    </tr>\n",
       "  </tbody>\n",
       "</table>\n",
       "</div>"
      ],
      "text/plain": [
       "   id                      name    slug  city                       state  \\\n",
       "0   4         Bundesgerichtshof     bgh   NaN  Bundesrepublik Deutschland   \n",
       "1   5  Bundesverwaltungsgericht  bverwg   NaN  Bundesrepublik Deutschland   \n",
       "2   4         Bundesgerichtshof     bgh   NaN  Bundesrepublik Deutschland   \n",
       "3   3  Bundesverfassungsgericht  bverfg   NaN  Bundesrepublik Deutschland   \n",
       "4   3  Bundesverfassungsgericht  bverfg   NaN  Bundesrepublik Deutschland   \n",
       "\n",
       "                 jurisdiction level_of_appeal  \n",
       "0                         NaN   Bundesgericht  \n",
       "1  Verwaltungsgerichtsbarkeit   Bundesgericht  \n",
       "2                         NaN   Bundesgericht  \n",
       "3  Verfassungsgerichtsbarkeit   Bundesgericht  \n",
       "4  Verfassungsgerichtsbarkeit   Bundesgericht  "
      ]
     },
     "execution_count": 30,
     "metadata": {},
     "output_type": "execute_result"
    }
   ],
   "source": [
    "courts.head()"
   ]
  },
  {
   "cell_type": "code",
   "execution_count": 31,
   "metadata": {},
   "outputs": [
    {
     "data": {
      "text/plain": [
       "array(['Bundesrepublik Deutschland', 'Niedersachsen', 'Baden-Württemberg',\n",
       "       'Nordrhein-Westfalen', 'Mecklenburg-Vorpommern', 'Rheinland-Pfalz',\n",
       "       'Bayern', 'Europäische Union', 'Schleswig-Holstein', 'Saarland',\n",
       "       'Hamburg', 'Sachsen-Anhalt', 'Sachsen'], dtype=object)"
      ]
     },
     "execution_count": 31,
     "metadata": {},
     "output_type": "execute_result"
    }
   ],
   "source": [
    "courts[\"state\"].unique()"
   ]
  },
  {
   "cell_type": "markdown",
   "metadata": {},
   "source": [
    "The column still has a little problem though. For the Bundesgerichte (courts who have jurisdiction over the whole german state) the state column does not indicate their location.\n",
    "\n",
    "With some knowledege of the german legal system, we can know where the Bundesgerichte are located and update this information."
   ]
  },
  {
   "cell_type": "code",
   "execution_count": 32,
   "metadata": {},
   "outputs": [],
   "source": [
    "courts.loc[(courts[\"name\"]==\"Bundesverfassungsgericht\")|(courts[\"name\"]==\"Bundesgerichtshof\"),\"state\"] = \"Baden-Württemberg\"\n",
    "courts.loc[courts[\"name\"]==\"Bundesarbeitsgericht\",\"state\"]=\"Thüringen\"\n",
    "courts.loc[courts[\"name\"]==\"Bundesverwaltungsgericht\",\"state\"] = \"Sachsen\"\n",
    "courts.loc[courts[\"name\"]==\"Bundesfinanzhof\",\"state\"]=\"Bayern\"\n",
    "courts.loc[courts[\"name\"]==\"Bundessozialgericht\",\"state\"]=\"Hessen\""
   ]
  },
  {
   "cell_type": "markdown",
   "metadata": {},
   "source": [
    "The DataFrame nows looks like this"
   ]
  },
  {
   "cell_type": "code",
   "execution_count": 33,
   "metadata": {},
   "outputs": [
    {
     "data": {
      "text/html": [
       "<div>\n",
       "<style scoped>\n",
       "    .dataframe tbody tr th:only-of-type {\n",
       "        vertical-align: middle;\n",
       "    }\n",
       "\n",
       "    .dataframe tbody tr th {\n",
       "        vertical-align: top;\n",
       "    }\n",
       "\n",
       "    .dataframe thead th {\n",
       "        text-align: right;\n",
       "    }\n",
       "</style>\n",
       "<table border=\"1\" class=\"dataframe\">\n",
       "  <thead>\n",
       "    <tr style=\"text-align: right;\">\n",
       "      <th></th>\n",
       "      <th>id</th>\n",
       "      <th>name</th>\n",
       "      <th>slug</th>\n",
       "      <th>city</th>\n",
       "      <th>state</th>\n",
       "      <th>jurisdiction</th>\n",
       "      <th>level_of_appeal</th>\n",
       "    </tr>\n",
       "  </thead>\n",
       "  <tbody>\n",
       "    <tr>\n",
       "      <th>0</th>\n",
       "      <td>4</td>\n",
       "      <td>Bundesgerichtshof</td>\n",
       "      <td>bgh</td>\n",
       "      <td>NaN</td>\n",
       "      <td>Baden-Württemberg</td>\n",
       "      <td>NaN</td>\n",
       "      <td>Bundesgericht</td>\n",
       "    </tr>\n",
       "    <tr>\n",
       "      <th>1</th>\n",
       "      <td>5</td>\n",
       "      <td>Bundesverwaltungsgericht</td>\n",
       "      <td>bverwg</td>\n",
       "      <td>NaN</td>\n",
       "      <td>Sachsen</td>\n",
       "      <td>Verwaltungsgerichtsbarkeit</td>\n",
       "      <td>Bundesgericht</td>\n",
       "    </tr>\n",
       "    <tr>\n",
       "      <th>2</th>\n",
       "      <td>4</td>\n",
       "      <td>Bundesgerichtshof</td>\n",
       "      <td>bgh</td>\n",
       "      <td>NaN</td>\n",
       "      <td>Baden-Württemberg</td>\n",
       "      <td>NaN</td>\n",
       "      <td>Bundesgericht</td>\n",
       "    </tr>\n",
       "    <tr>\n",
       "      <th>3</th>\n",
       "      <td>3</td>\n",
       "      <td>Bundesverfassungsgericht</td>\n",
       "      <td>bverfg</td>\n",
       "      <td>NaN</td>\n",
       "      <td>Baden-Württemberg</td>\n",
       "      <td>Verfassungsgerichtsbarkeit</td>\n",
       "      <td>Bundesgericht</td>\n",
       "    </tr>\n",
       "    <tr>\n",
       "      <th>4</th>\n",
       "      <td>3</td>\n",
       "      <td>Bundesverfassungsgericht</td>\n",
       "      <td>bverfg</td>\n",
       "      <td>NaN</td>\n",
       "      <td>Baden-Württemberg</td>\n",
       "      <td>Verfassungsgerichtsbarkeit</td>\n",
       "      <td>Bundesgericht</td>\n",
       "    </tr>\n",
       "    <tr>\n",
       "      <th>5</th>\n",
       "      <td>7</td>\n",
       "      <td>Bundesarbeitsgericht</td>\n",
       "      <td>bag</td>\n",
       "      <td>NaN</td>\n",
       "      <td>Thüringen</td>\n",
       "      <td>Arbeitsgerichtsbarkeit</td>\n",
       "      <td>Bundesgericht</td>\n",
       "    </tr>\n",
       "    <tr>\n",
       "      <th>6</th>\n",
       "      <td>3</td>\n",
       "      <td>Bundesverfassungsgericht</td>\n",
       "      <td>bverfg</td>\n",
       "      <td>NaN</td>\n",
       "      <td>Baden-Württemberg</td>\n",
       "      <td>Verfassungsgerichtsbarkeit</td>\n",
       "      <td>Bundesgericht</td>\n",
       "    </tr>\n",
       "    <tr>\n",
       "      <th>7</th>\n",
       "      <td>3</td>\n",
       "      <td>Bundesverfassungsgericht</td>\n",
       "      <td>bverfg</td>\n",
       "      <td>NaN</td>\n",
       "      <td>Baden-Württemberg</td>\n",
       "      <td>Verfassungsgerichtsbarkeit</td>\n",
       "      <td>Bundesgericht</td>\n",
       "    </tr>\n",
       "    <tr>\n",
       "      <th>8</th>\n",
       "      <td>5</td>\n",
       "      <td>Bundesverwaltungsgericht</td>\n",
       "      <td>bverwg</td>\n",
       "      <td>NaN</td>\n",
       "      <td>Sachsen</td>\n",
       "      <td>Verwaltungsgerichtsbarkeit</td>\n",
       "      <td>Bundesgericht</td>\n",
       "    </tr>\n",
       "    <tr>\n",
       "      <th>9</th>\n",
       "      <td>3</td>\n",
       "      <td>Bundesverfassungsgericht</td>\n",
       "      <td>bverfg</td>\n",
       "      <td>NaN</td>\n",
       "      <td>Baden-Württemberg</td>\n",
       "      <td>Verfassungsgerichtsbarkeit</td>\n",
       "      <td>Bundesgericht</td>\n",
       "    </tr>\n",
       "  </tbody>\n",
       "</table>\n",
       "</div>"
      ],
      "text/plain": [
       "   id                      name    slug  city              state  \\\n",
       "0   4         Bundesgerichtshof     bgh   NaN  Baden-Württemberg   \n",
       "1   5  Bundesverwaltungsgericht  bverwg   NaN            Sachsen   \n",
       "2   4         Bundesgerichtshof     bgh   NaN  Baden-Württemberg   \n",
       "3   3  Bundesverfassungsgericht  bverfg   NaN  Baden-Württemberg   \n",
       "4   3  Bundesverfassungsgericht  bverfg   NaN  Baden-Württemberg   \n",
       "5   7      Bundesarbeitsgericht     bag   NaN          Thüringen   \n",
       "6   3  Bundesverfassungsgericht  bverfg   NaN  Baden-Württemberg   \n",
       "7   3  Bundesverfassungsgericht  bverfg   NaN  Baden-Württemberg   \n",
       "8   5  Bundesverwaltungsgericht  bverwg   NaN            Sachsen   \n",
       "9   3  Bundesverfassungsgericht  bverfg   NaN  Baden-Württemberg   \n",
       "\n",
       "                 jurisdiction level_of_appeal  \n",
       "0                         NaN   Bundesgericht  \n",
       "1  Verwaltungsgerichtsbarkeit   Bundesgericht  \n",
       "2                         NaN   Bundesgericht  \n",
       "3  Verfassungsgerichtsbarkeit   Bundesgericht  \n",
       "4  Verfassungsgerichtsbarkeit   Bundesgericht  \n",
       "5      Arbeitsgerichtsbarkeit   Bundesgericht  \n",
       "6  Verfassungsgerichtsbarkeit   Bundesgericht  \n",
       "7  Verfassungsgerichtsbarkeit   Bundesgericht  \n",
       "8  Verwaltungsgerichtsbarkeit   Bundesgericht  \n",
       "9  Verfassungsgerichtsbarkeit   Bundesgericht  "
      ]
     },
     "execution_count": 33,
     "metadata": {},
     "output_type": "execute_result"
    }
   ],
   "source": [
    "courts.head(10)"
   ]
  },
  {
   "cell_type": "markdown",
   "metadata": {},
   "source": [
    "## The City Column\n",
    "\n",
    "The city column also contains a code for each city. However, it also contains null values for courts of the state level."
   ]
  },
  {
   "cell_type": "code",
   "execution_count": 34,
   "metadata": {},
   "outputs": [
    {
     "data": {
      "text/plain": [
       "array([ nan, 297., 375., 325., 446., 290.,  42., 413., 380., 109.,  84.,\n",
       "        90., 408., 110.,  38., 188., 158., 117., 423., 620., 647., 168.,\n",
       "       541., 184., 342., 608., 632., 471., 283., 127., 384., 430., 449.,\n",
       "        95., 485., 509., 302., 407., 103., 467., 233., 616., 120., 465.,\n",
       "       537., 115., 291., 551., 378., 625., 135., 121., 379., 479., 289.,\n",
       "       376., 164., 622., 476., 524., 555., 355., 538., 394., 294., 393.,\n",
       "       556., 531., 633., 142., 123., 116., 150., 606., 186., 155., 189.,\n",
       "       151., 132., 145., 166., 176., 639., 631., 629.,  40.,  73., 602.,\n",
       "        68., 601., 635., 623., 550., 364., 543., 111., 610.,  55., 514.,\n",
       "       534., 286., 557., 619., 285., 535.,  98.,  39.,  66.,  37.,  44.,\n",
       "        76.,  72., 377., 347., 554., 609., 561.,  34., 607., 293., 445.,\n",
       "       442., 417., 466., 497., 463., 404., 498., 490., 390., 493., 494.,\n",
       "       396., 481., 388., 409., 349., 462., 458., 328., 428., 432., 392.,\n",
       "       448., 546., 436., 433., 422., 440.,   9., 464., 605., 401., 389.,\n",
       "       492., 507., 381., 402., 488., 505., 420., 480., 399., 473.,  53.,\n",
       "       500., 443., 451., 398.,  47., 496., 542., 416., 491., 470., 426.,\n",
       "       412., 370., 456., 382., 475., 411., 504., 474., 468., 444., 457.,\n",
       "       400., 489., 613., 472., 455., 506.,  56., 405., 415., 435., 395.,\n",
       "       341., 439., 617., 387., 425.,  54., 369., 441., 288., 450., 318.,\n",
       "       447., 508., 599., 529., 345., 483., 501., 482., 618., 503., 438.,\n",
       "       337., 477.])"
      ]
     },
     "execution_count": 34,
     "metadata": {},
     "output_type": "execute_result"
    }
   ],
   "source": [
    "courts[\"city\"].unique()"
   ]
  },
  {
   "cell_type": "markdown",
   "metadata": {},
   "source": [
    "The API from Open Legal data offers information to which code corresponds to which city in the \"cities_read\" endpoint, however there are other ways to fill in the missing values. One of them is to use the google maps API to retrieve the location of each court based on its name."
   ]
  },
  {
   "cell_type": "code",
   "execution_count": 35,
   "metadata": {},
   "outputs": [],
   "source": [
    "with open(r\"C:\\Users\\celio\\Data Analysis\\Projects\\Open Legal Data\\maps_api_key.txt\") as file: \n",
    "    key = file.read()\n",
    "gmaps = googlemaps.Client(key=key)"
   ]
  },
  {
   "cell_type": "markdown",
   "metadata": {},
   "source": [
    "Example of how the API works"
   ]
  },
  {
   "cell_type": "code",
   "execution_count": 36,
   "metadata": {},
   "outputs": [
    {
     "data": {
      "text/plain": [
       "[{'access_points': [{'access_point_type': 'TYPE_SEGMENT',\n",
       "    'location': {'latitude': 49.0128558, 'longitude': 8.4023569},\n",
       "    'location_on_segment': {'latitude': 49.0128086, 'longitude': 8.4024206},\n",
       "    'place_id': 'ChIJ52PBik4Gl0cRyfQjXZjeKgg',\n",
       "    'segment_position': 0.03768588230013847,\n",
       "    'unsuitable_travel_modes': []}],\n",
       "  'address_components': [{'long_name': '3',\n",
       "    'short_name': '3',\n",
       "    'types': ['street_number']},\n",
       "   {'long_name': 'Schloßbezirk',\n",
       "    'short_name': 'Schloßbezirk',\n",
       "    'types': ['route']},\n",
       "   {'long_name': 'Innenstadt-West',\n",
       "    'short_name': 'Innenstadt-West',\n",
       "    'types': ['political', 'sublocality', 'sublocality_level_1']},\n",
       "   {'long_name': 'Karlsruhe',\n",
       "    'short_name': 'Karlsruhe',\n",
       "    'types': ['locality', 'political']},\n",
       "   {'long_name': 'Karlsruhe',\n",
       "    'short_name': 'KA',\n",
       "    'types': ['administrative_area_level_2', 'political']},\n",
       "   {'long_name': 'Baden-Württemberg',\n",
       "    'short_name': 'BW',\n",
       "    'types': ['administrative_area_level_1', 'political']},\n",
       "   {'long_name': 'Germany',\n",
       "    'short_name': 'DE',\n",
       "    'types': ['country', 'political']},\n",
       "   {'long_name': '76131', 'short_name': '76131', 'types': ['postal_code']}],\n",
       "  'formatted_address': 'Schloßbezirk 3, 76131 Karlsruhe, Germany',\n",
       "  'geometry': {'location': {'lat': 49.013123, 'lng': 8.401996},\n",
       "   'location_type': 'ROOFTOP',\n",
       "   'viewport': {'northeast': {'lat': 49.0144719802915,\n",
       "     'lng': 8.403344980291502},\n",
       "    'southwest': {'lat': 49.0117740197085, 'lng': 8.400647019708497}}},\n",
       "  'place_id': 'ChIJ_V7TX04Gl0cR3xT-4ySwMYE',\n",
       "  'plus_code': {'compound_code': '2C72+6Q Karlsruhe, Germany',\n",
       "   'global_code': '8FXC2C72+6Q'},\n",
       "  'types': ['courthouse', 'establishment', 'point_of_interest']}]"
      ]
     },
     "execution_count": 36,
     "metadata": {},
     "output_type": "execute_result"
    }
   ],
   "source": [
    "gmaps.geocode(\"Bundesverfassungsgericht\")\n",
    "# The search result is a list containing a dictionary. Every dictionary contains multiple keys.\n",
    "# From every key, the most important is the \"formatted_address\", which gives us information on the court's location"
   ]
  },
  {
   "cell_type": "markdown",
   "metadata": {},
   "source": [
    "To ensure that this procedure is going to work, we can do a small test:"
   ]
  },
  {
   "cell_type": "code",
   "execution_count": 37,
   "metadata": {},
   "outputs": [
    {
     "name": "stdout",
     "output_type": "stream",
     "text": [
      "There was a problem with Europäischer Gerichtshof\n",
      "There was a problem with Schleswig-Holsteinisches Landesverfassungsgericht\n"
     ]
    }
   ],
   "source": [
    "# This cell might take sometime to run\n",
    "new_city_values = {}\n",
    "\n",
    "for c in courts[\"name\"].unique():\n",
    "    try:\n",
    "        l = gmaps.geocode(c)[0].get(\"formatted_address\")\n",
    "        new_city_values[c] = l\n",
    "    except:\n",
    "        print(\"There was a problem with {}\".format(c))"
   ]
  },
  {
   "cell_type": "markdown",
   "metadata": {},
   "source": [
    "So, there seems to be a problem with two courts that the googlemaps API can't find. About the Europäischer Gerichtshof, it would suffice to change the name to \"European Supreme Court\" to yield correct results. However, since this project focus on german courts and not european ones, we'll drop any entries related to the Europäischer Gerichtshof.\n",
    "\n",
    "As for the Schleswig-Holsteinisches Landesverfassungsgericht, google can't find where it's located. However, with a quick [quick google search](https://www.schleswig-holstein.de/DE/Justiz/LVG/Kontakt/kontakt_node.html;jsessionid=F20A48B2D2A16A222943350C48126AB7.delivery2-replication) we can see that the court is located in the city of Schleswig.\n",
    "\n",
    "We'll now make the corresponding changes."
   ]
  },
  {
   "cell_type": "code",
   "execution_count": 38,
   "metadata": {},
   "outputs": [],
   "source": [
    "courts.loc[courts[\"name\"]==\"Schleswig-Holsteinisches Landesverfassungsgericht\",\"city\"] = \"Schleswig\""
   ]
  },
  {
   "cell_type": "code",
   "execution_count": 39,
   "metadata": {},
   "outputs": [
    {
     "data": {
      "text/html": [
       "<div>\n",
       "<style scoped>\n",
       "    .dataframe tbody tr th:only-of-type {\n",
       "        vertical-align: middle;\n",
       "    }\n",
       "\n",
       "    .dataframe tbody tr th {\n",
       "        vertical-align: top;\n",
       "    }\n",
       "\n",
       "    .dataframe thead th {\n",
       "        text-align: right;\n",
       "    }\n",
       "</style>\n",
       "<table border=\"1\" class=\"dataframe\">\n",
       "  <thead>\n",
       "    <tr style=\"text-align: right;\">\n",
       "      <th></th>\n",
       "      <th>id</th>\n",
       "      <th>name</th>\n",
       "      <th>slug</th>\n",
       "      <th>city</th>\n",
       "      <th>state</th>\n",
       "      <th>jurisdiction</th>\n",
       "      <th>level_of_appeal</th>\n",
       "    </tr>\n",
       "  </thead>\n",
       "  <tbody>\n",
       "    <tr>\n",
       "      <th>1760</th>\n",
       "      <td>1069</td>\n",
       "      <td>Schleswig-Holsteinisches Landesverfassungsgericht</td>\n",
       "      <td>lvgsh</td>\n",
       "      <td>Schleswig</td>\n",
       "      <td>Schleswig-Holstein</td>\n",
       "      <td>Verfassungsgerichtsbarkeit</td>\n",
       "      <td>NaN</td>\n",
       "    </tr>\n",
       "    <tr>\n",
       "      <th>1761</th>\n",
       "      <td>1069</td>\n",
       "      <td>Schleswig-Holsteinisches Landesverfassungsgericht</td>\n",
       "      <td>lvgsh</td>\n",
       "      <td>Schleswig</td>\n",
       "      <td>Schleswig-Holstein</td>\n",
       "      <td>Verfassungsgerichtsbarkeit</td>\n",
       "      <td>NaN</td>\n",
       "    </tr>\n",
       "    <tr>\n",
       "      <th>4212</th>\n",
       "      <td>1069</td>\n",
       "      <td>Schleswig-Holsteinisches Landesverfassungsgericht</td>\n",
       "      <td>lvgsh</td>\n",
       "      <td>Schleswig</td>\n",
       "      <td>Schleswig-Holstein</td>\n",
       "      <td>Verfassungsgerichtsbarkeit</td>\n",
       "      <td>NaN</td>\n",
       "    </tr>\n",
       "    <tr>\n",
       "      <th>4214</th>\n",
       "      <td>1069</td>\n",
       "      <td>Schleswig-Holsteinisches Landesverfassungsgericht</td>\n",
       "      <td>lvgsh</td>\n",
       "      <td>Schleswig</td>\n",
       "      <td>Schleswig-Holstein</td>\n",
       "      <td>Verfassungsgerichtsbarkeit</td>\n",
       "      <td>NaN</td>\n",
       "    </tr>\n",
       "    <tr>\n",
       "      <th>10059</th>\n",
       "      <td>1069</td>\n",
       "      <td>Schleswig-Holsteinisches Landesverfassungsgericht</td>\n",
       "      <td>lvgsh</td>\n",
       "      <td>Schleswig</td>\n",
       "      <td>Schleswig-Holstein</td>\n",
       "      <td>Verfassungsgerichtsbarkeit</td>\n",
       "      <td>NaN</td>\n",
       "    </tr>\n",
       "    <tr>\n",
       "      <th>13010</th>\n",
       "      <td>1069</td>\n",
       "      <td>Schleswig-Holsteinisches Landesverfassungsgericht</td>\n",
       "      <td>lvgsh</td>\n",
       "      <td>Schleswig</td>\n",
       "      <td>Schleswig-Holstein</td>\n",
       "      <td>Verfassungsgerichtsbarkeit</td>\n",
       "      <td>NaN</td>\n",
       "    </tr>\n",
       "    <tr>\n",
       "      <th>14212</th>\n",
       "      <td>1069</td>\n",
       "      <td>Schleswig-Holsteinisches Landesverfassungsgericht</td>\n",
       "      <td>lvgsh</td>\n",
       "      <td>Schleswig</td>\n",
       "      <td>Schleswig-Holstein</td>\n",
       "      <td>Verfassungsgerichtsbarkeit</td>\n",
       "      <td>NaN</td>\n",
       "    </tr>\n",
       "    <tr>\n",
       "      <th>14820</th>\n",
       "      <td>1069</td>\n",
       "      <td>Schleswig-Holsteinisches Landesverfassungsgericht</td>\n",
       "      <td>lvgsh</td>\n",
       "      <td>Schleswig</td>\n",
       "      <td>Schleswig-Holstein</td>\n",
       "      <td>Verfassungsgerichtsbarkeit</td>\n",
       "      <td>NaN</td>\n",
       "    </tr>\n",
       "    <tr>\n",
       "      <th>16161</th>\n",
       "      <td>1069</td>\n",
       "      <td>Schleswig-Holsteinisches Landesverfassungsgericht</td>\n",
       "      <td>lvgsh</td>\n",
       "      <td>Schleswig</td>\n",
       "      <td>Schleswig-Holstein</td>\n",
       "      <td>Verfassungsgerichtsbarkeit</td>\n",
       "      <td>NaN</td>\n",
       "    </tr>\n",
       "    <tr>\n",
       "      <th>16162</th>\n",
       "      <td>1069</td>\n",
       "      <td>Schleswig-Holsteinisches Landesverfassungsgericht</td>\n",
       "      <td>lvgsh</td>\n",
       "      <td>Schleswig</td>\n",
       "      <td>Schleswig-Holstein</td>\n",
       "      <td>Verfassungsgerichtsbarkeit</td>\n",
       "      <td>NaN</td>\n",
       "    </tr>\n",
       "    <tr>\n",
       "      <th>25037</th>\n",
       "      <td>1069</td>\n",
       "      <td>Schleswig-Holsteinisches Landesverfassungsgericht</td>\n",
       "      <td>lvgsh</td>\n",
       "      <td>Schleswig</td>\n",
       "      <td>Schleswig-Holstein</td>\n",
       "      <td>Verfassungsgerichtsbarkeit</td>\n",
       "      <td>NaN</td>\n",
       "    </tr>\n",
       "  </tbody>\n",
       "</table>\n",
       "</div>"
      ],
      "text/plain": [
       "         id                                               name   slug  \\\n",
       "1760   1069  Schleswig-Holsteinisches Landesverfassungsgericht  lvgsh   \n",
       "1761   1069  Schleswig-Holsteinisches Landesverfassungsgericht  lvgsh   \n",
       "4212   1069  Schleswig-Holsteinisches Landesverfassungsgericht  lvgsh   \n",
       "4214   1069  Schleswig-Holsteinisches Landesverfassungsgericht  lvgsh   \n",
       "10059  1069  Schleswig-Holsteinisches Landesverfassungsgericht  lvgsh   \n",
       "13010  1069  Schleswig-Holsteinisches Landesverfassungsgericht  lvgsh   \n",
       "14212  1069  Schleswig-Holsteinisches Landesverfassungsgericht  lvgsh   \n",
       "14820  1069  Schleswig-Holsteinisches Landesverfassungsgericht  lvgsh   \n",
       "16161  1069  Schleswig-Holsteinisches Landesverfassungsgericht  lvgsh   \n",
       "16162  1069  Schleswig-Holsteinisches Landesverfassungsgericht  lvgsh   \n",
       "25037  1069  Schleswig-Holsteinisches Landesverfassungsgericht  lvgsh   \n",
       "\n",
       "            city               state                jurisdiction  \\\n",
       "1760   Schleswig  Schleswig-Holstein  Verfassungsgerichtsbarkeit   \n",
       "1761   Schleswig  Schleswig-Holstein  Verfassungsgerichtsbarkeit   \n",
       "4212   Schleswig  Schleswig-Holstein  Verfassungsgerichtsbarkeit   \n",
       "4214   Schleswig  Schleswig-Holstein  Verfassungsgerichtsbarkeit   \n",
       "10059  Schleswig  Schleswig-Holstein  Verfassungsgerichtsbarkeit   \n",
       "13010  Schleswig  Schleswig-Holstein  Verfassungsgerichtsbarkeit   \n",
       "14212  Schleswig  Schleswig-Holstein  Verfassungsgerichtsbarkeit   \n",
       "14820  Schleswig  Schleswig-Holstein  Verfassungsgerichtsbarkeit   \n",
       "16161  Schleswig  Schleswig-Holstein  Verfassungsgerichtsbarkeit   \n",
       "16162  Schleswig  Schleswig-Holstein  Verfassungsgerichtsbarkeit   \n",
       "25037  Schleswig  Schleswig-Holstein  Verfassungsgerichtsbarkeit   \n",
       "\n",
       "      level_of_appeal  \n",
       "1760              NaN  \n",
       "1761              NaN  \n",
       "4212              NaN  \n",
       "4214              NaN  \n",
       "10059             NaN  \n",
       "13010             NaN  \n",
       "14212             NaN  \n",
       "14820             NaN  \n",
       "16161             NaN  \n",
       "16162             NaN  \n",
       "25037             NaN  "
      ]
     },
     "execution_count": 39,
     "metadata": {},
     "output_type": "execute_result"
    }
   ],
   "source": [
    "courts.loc[courts[\"name\"]==\"Schleswig-Holsteinisches Landesverfassungsgericht\"]"
   ]
  },
  {
   "cell_type": "code",
   "execution_count": 40,
   "metadata": {},
   "outputs": [],
   "source": [
    "courts = courts[courts[\"name\"]!=\"Europäischer Gerichtshof\"]"
   ]
  },
  {
   "cell_type": "markdown",
   "metadata": {},
   "source": [
    "We'll drop it from the cases DataFrame too."
   ]
  },
  {
   "cell_type": "code",
   "execution_count": 41,
   "metadata": {},
   "outputs": [],
   "source": [
    "cases = cases.loc[cases[\"slug\"].str.contains(\"eugh\",case=False)==False]"
   ]
  },
  {
   "cell_type": "markdown",
   "metadata": {},
   "source": [
    "After this minor drawback, we can convert the dictionary containing the addresses of the courts to a DataFrame, in order to more easily clean these entries."
   ]
  },
  {
   "cell_type": "code",
   "execution_count": 42,
   "metadata": {},
   "outputs": [
    {
     "data": {
      "text/html": [
       "<div>\n",
       "<style scoped>\n",
       "    .dataframe tbody tr th:only-of-type {\n",
       "        vertical-align: middle;\n",
       "    }\n",
       "\n",
       "    .dataframe tbody tr th {\n",
       "        vertical-align: top;\n",
       "    }\n",
       "\n",
       "    .dataframe thead th {\n",
       "        text-align: right;\n",
       "    }\n",
       "</style>\n",
       "<table border=\"1\" class=\"dataframe\">\n",
       "  <thead>\n",
       "    <tr style=\"text-align: right;\">\n",
       "      <th></th>\n",
       "      <th>0</th>\n",
       "      <th>1</th>\n",
       "      <th>2</th>\n",
       "      <th>3</th>\n",
       "    </tr>\n",
       "  </thead>\n",
       "  <tbody>\n",
       "    <tr>\n",
       "      <th>Bundesgerichtshof</th>\n",
       "      <td>Herrenstraße 45 A</td>\n",
       "      <td>76133 Karlsruhe</td>\n",
       "      <td>Germany</td>\n",
       "      <td>None</td>\n",
       "    </tr>\n",
       "    <tr>\n",
       "      <th>Bundesverwaltungsgericht</th>\n",
       "      <td>Simsonpl. 1</td>\n",
       "      <td>04107 Leipzig</td>\n",
       "      <td>Germany</td>\n",
       "      <td>None</td>\n",
       "    </tr>\n",
       "    <tr>\n",
       "      <th>Bundesverfassungsgericht</th>\n",
       "      <td>Schloßbezirk 3</td>\n",
       "      <td>76131 Karlsruhe</td>\n",
       "      <td>Germany</td>\n",
       "      <td>None</td>\n",
       "    </tr>\n",
       "    <tr>\n",
       "      <th>Bundesarbeitsgericht</th>\n",
       "      <td>Hugo-Preuß-Platz 1</td>\n",
       "      <td>99084 Erfurt</td>\n",
       "      <td>Germany</td>\n",
       "      <td>None</td>\n",
       "    </tr>\n",
       "    <tr>\n",
       "      <th>Bundesfinanzhof</th>\n",
       "      <td>Ismaninger Str. 109</td>\n",
       "      <td>81675 München</td>\n",
       "      <td>Germany</td>\n",
       "      <td>None</td>\n",
       "    </tr>\n",
       "    <tr>\n",
       "      <th>...</th>\n",
       "      <td>...</td>\n",
       "      <td>...</td>\n",
       "      <td>...</td>\n",
       "      <td>...</td>\n",
       "    </tr>\n",
       "    <tr>\n",
       "      <th>Amtsgericht Nienburg (Weser)</th>\n",
       "      <td>Berliner Ring 98</td>\n",
       "      <td>31582 Nienburg/Weser</td>\n",
       "      <td>Germany</td>\n",
       "      <td>None</td>\n",
       "    </tr>\n",
       "    <tr>\n",
       "      <th>Landgericht Hildesheim</th>\n",
       "      <td>Kaiserstraße 60</td>\n",
       "      <td>31134 Hildesheim</td>\n",
       "      <td>Germany</td>\n",
       "      <td>None</td>\n",
       "    </tr>\n",
       "    <tr>\n",
       "      <th>Amtsgericht Dessau-Roßlau</th>\n",
       "      <td>Willy-Lohmann-Straße 33</td>\n",
       "      <td>06844 Dessau-Roßlau</td>\n",
       "      <td>Germany</td>\n",
       "      <td>None</td>\n",
       "    </tr>\n",
       "    <tr>\n",
       "      <th>Amtsgericht Plettenberg</th>\n",
       "      <td>An der Lohmühle 5</td>\n",
       "      <td>58840 Plettenberg</td>\n",
       "      <td>Germany</td>\n",
       "      <td>None</td>\n",
       "    </tr>\n",
       "    <tr>\n",
       "      <th>Landessozialgericht für das Saarland</th>\n",
       "      <td>Egon-Reinert-Straße 4 - 6</td>\n",
       "      <td>66111 Saarbrücken</td>\n",
       "      <td>Germany</td>\n",
       "      <td>None</td>\n",
       "    </tr>\n",
       "  </tbody>\n",
       "</table>\n",
       "<p>441 rows × 4 columns</p>\n",
       "</div>"
      ],
      "text/plain": [
       "                                                              0  \\\n",
       "Bundesgerichtshof                             Herrenstraße 45 A   \n",
       "Bundesverwaltungsgericht                            Simsonpl. 1   \n",
       "Bundesverfassungsgericht                         Schloßbezirk 3   \n",
       "Bundesarbeitsgericht                         Hugo-Preuß-Platz 1   \n",
       "Bundesfinanzhof                             Ismaninger Str. 109   \n",
       "...                                                         ...   \n",
       "Amtsgericht Nienburg (Weser)                   Berliner Ring 98   \n",
       "Landgericht Hildesheim                          Kaiserstraße 60   \n",
       "Amtsgericht Dessau-Roßlau               Willy-Lohmann-Straße 33   \n",
       "Amtsgericht Plettenberg                       An der Lohmühle 5   \n",
       "Landessozialgericht für das Saarland  Egon-Reinert-Straße 4 - 6   \n",
       "\n",
       "                                                          1         2     3  \n",
       "Bundesgerichtshof                           76133 Karlsruhe   Germany  None  \n",
       "Bundesverwaltungsgericht                      04107 Leipzig   Germany  None  \n",
       "Bundesverfassungsgericht                    76131 Karlsruhe   Germany  None  \n",
       "Bundesarbeitsgericht                           99084 Erfurt   Germany  None  \n",
       "Bundesfinanzhof                               81675 München   Germany  None  \n",
       "...                                                     ...       ...   ...  \n",
       "Amtsgericht Nienburg (Weser)           31582 Nienburg/Weser   Germany  None  \n",
       "Landgericht Hildesheim                     31134 Hildesheim   Germany  None  \n",
       "Amtsgericht Dessau-Roßlau               06844 Dessau-Roßlau   Germany  None  \n",
       "Amtsgericht Plettenberg                   58840 Plettenberg   Germany  None  \n",
       "Landessozialgericht für das Saarland      66111 Saarbrücken   Germany  None  \n",
       "\n",
       "[441 rows x 4 columns]"
      ]
     },
     "execution_count": 42,
     "metadata": {},
     "output_type": "execute_result"
    }
   ],
   "source": [
    "new_city_values = pd.DataFrame(data = new_city_values.values(),index= new_city_values.keys())\n",
    "new_city_values.columns = [\"address\"]\n",
    "new_city_values = new_city_values[\"address\"].str.split(\",\",expand=True)\n",
    "new_city_values"
   ]
  },
  {
   "cell_type": "markdown",
   "metadata": {},
   "source": [
    "We can keep on working on the new_city_values DataFrame"
   ]
  },
  {
   "cell_type": "code",
   "execution_count": 43,
   "metadata": {},
   "outputs": [
    {
     "data": {
      "text/html": [
       "<div>\n",
       "<style scoped>\n",
       "    .dataframe tbody tr th:only-of-type {\n",
       "        vertical-align: middle;\n",
       "    }\n",
       "\n",
       "    .dataframe tbody tr th {\n",
       "        vertical-align: top;\n",
       "    }\n",
       "\n",
       "    .dataframe thead th {\n",
       "        text-align: right;\n",
       "    }\n",
       "</style>\n",
       "<table border=\"1\" class=\"dataframe\">\n",
       "  <thead>\n",
       "    <tr style=\"text-align: right;\">\n",
       "      <th></th>\n",
       "      <th>0</th>\n",
       "      <th>1</th>\n",
       "      <th>2</th>\n",
       "      <th>3</th>\n",
       "      <th>4</th>\n",
       "    </tr>\n",
       "  </thead>\n",
       "  <tbody>\n",
       "    <tr>\n",
       "      <th>Bundesgerichtshof</th>\n",
       "      <td>76133</td>\n",
       "      <td>Karlsruhe</td>\n",
       "      <td>None</td>\n",
       "      <td>None</td>\n",
       "      <td>None</td>\n",
       "    </tr>\n",
       "    <tr>\n",
       "      <th>Bundesverwaltungsgericht</th>\n",
       "      <td>04107</td>\n",
       "      <td>Leipzig</td>\n",
       "      <td>None</td>\n",
       "      <td>None</td>\n",
       "      <td>None</td>\n",
       "    </tr>\n",
       "    <tr>\n",
       "      <th>Bundesverfassungsgericht</th>\n",
       "      <td>76131</td>\n",
       "      <td>Karlsruhe</td>\n",
       "      <td>None</td>\n",
       "      <td>None</td>\n",
       "      <td>None</td>\n",
       "    </tr>\n",
       "    <tr>\n",
       "      <th>Bundesarbeitsgericht</th>\n",
       "      <td>99084</td>\n",
       "      <td>Erfurt</td>\n",
       "      <td>None</td>\n",
       "      <td>None</td>\n",
       "      <td>None</td>\n",
       "    </tr>\n",
       "    <tr>\n",
       "      <th>Bundesfinanzhof</th>\n",
       "      <td>81675</td>\n",
       "      <td>München</td>\n",
       "      <td>None</td>\n",
       "      <td>None</td>\n",
       "      <td>None</td>\n",
       "    </tr>\n",
       "    <tr>\n",
       "      <th>...</th>\n",
       "      <td>...</td>\n",
       "      <td>...</td>\n",
       "      <td>...</td>\n",
       "      <td>...</td>\n",
       "      <td>...</td>\n",
       "    </tr>\n",
       "    <tr>\n",
       "      <th>Amtsgericht Nienburg (Weser)</th>\n",
       "      <td>31582</td>\n",
       "      <td>Nienburg/Weser</td>\n",
       "      <td>None</td>\n",
       "      <td>None</td>\n",
       "      <td>None</td>\n",
       "    </tr>\n",
       "    <tr>\n",
       "      <th>Landgericht Hildesheim</th>\n",
       "      <td>31134</td>\n",
       "      <td>Hildesheim</td>\n",
       "      <td>None</td>\n",
       "      <td>None</td>\n",
       "      <td>None</td>\n",
       "    </tr>\n",
       "    <tr>\n",
       "      <th>Amtsgericht Dessau-Roßlau</th>\n",
       "      <td>06844</td>\n",
       "      <td>Dessau-Roßlau</td>\n",
       "      <td>None</td>\n",
       "      <td>None</td>\n",
       "      <td>None</td>\n",
       "    </tr>\n",
       "    <tr>\n",
       "      <th>Amtsgericht Plettenberg</th>\n",
       "      <td>58840</td>\n",
       "      <td>Plettenberg</td>\n",
       "      <td>None</td>\n",
       "      <td>None</td>\n",
       "      <td>None</td>\n",
       "    </tr>\n",
       "    <tr>\n",
       "      <th>Landessozialgericht für das Saarland</th>\n",
       "      <td>66111</td>\n",
       "      <td>Saarbrücken</td>\n",
       "      <td>None</td>\n",
       "      <td>None</td>\n",
       "      <td>None</td>\n",
       "    </tr>\n",
       "  </tbody>\n",
       "</table>\n",
       "<p>441 rows × 5 columns</p>\n",
       "</div>"
      ],
      "text/plain": [
       "                                          0               1     2     3     4\n",
       "Bundesgerichtshof                     76133       Karlsruhe  None  None  None\n",
       "Bundesverwaltungsgericht              04107         Leipzig  None  None  None\n",
       "Bundesverfassungsgericht              76131       Karlsruhe  None  None  None\n",
       "Bundesarbeitsgericht                  99084          Erfurt  None  None  None\n",
       "Bundesfinanzhof                       81675         München  None  None  None\n",
       "...                                     ...             ...   ...   ...   ...\n",
       "Amtsgericht Nienburg (Weser)          31582  Nienburg/Weser  None  None  None\n",
       "Landgericht Hildesheim                31134      Hildesheim  None  None  None\n",
       "Amtsgericht Dessau-Roßlau             06844   Dessau-Roßlau  None  None  None\n",
       "Amtsgericht Plettenberg               58840     Plettenberg  None  None  None\n",
       "Landessozialgericht für das Saarland  66111     Saarbrücken  None  None  None\n",
       "\n",
       "[441 rows x 5 columns]"
      ]
     },
     "execution_count": 43,
     "metadata": {},
     "output_type": "execute_result"
    }
   ],
   "source": [
    "new_city_values = new_city_values[1].str.split(expand=True)\n",
    "new_city_values"
   ]
  },
  {
   "cell_type": "markdown",
   "metadata": {},
   "source": [
    "The results are almost ready to be merged in to the DataFrame, as most of them contain only the city name indicated in column 1. However, we have to check if all of them follow the pattern. This can be done by using a very simple regular expression."
   ]
  },
  {
   "cell_type": "code",
   "execution_count": 44,
   "metadata": {},
   "outputs": [
    {
     "data": {
      "text/html": [
       "<div>\n",
       "<style scoped>\n",
       "    .dataframe tbody tr th:only-of-type {\n",
       "        vertical-align: middle;\n",
       "    }\n",
       "\n",
       "    .dataframe tbody tr th {\n",
       "        vertical-align: top;\n",
       "    }\n",
       "\n",
       "    .dataframe thead th {\n",
       "        text-align: right;\n",
       "    }\n",
       "</style>\n",
       "<table border=\"1\" class=\"dataframe\">\n",
       "  <thead>\n",
       "    <tr style=\"text-align: right;\">\n",
       "      <th></th>\n",
       "      <th>0</th>\n",
       "      <th>1</th>\n",
       "      <th>2</th>\n",
       "      <th>3</th>\n",
       "      <th>4</th>\n",
       "    </tr>\n",
       "  </thead>\n",
       "  <tbody>\n",
       "    <tr>\n",
       "      <th>Pfälzisches Oberlandesgericht Zweibrücken</th>\n",
       "      <td>Schlosspl.</td>\n",
       "      <td>7</td>\n",
       "      <td>None</td>\n",
       "      <td>None</td>\n",
       "      <td>None</td>\n",
       "    </tr>\n",
       "    <tr>\n",
       "      <th>Rheinschifffahrtsobergericht Köln</th>\n",
       "      <td>Germany</td>\n",
       "      <td>None</td>\n",
       "      <td>None</td>\n",
       "      <td>None</td>\n",
       "      <td>None</td>\n",
       "    </tr>\n",
       "    <tr>\n",
       "      <th>Landgericht Paderborn</th>\n",
       "      <td>Germany</td>\n",
       "      <td>None</td>\n",
       "      <td>None</td>\n",
       "      <td>None</td>\n",
       "      <td>None</td>\n",
       "    </tr>\n",
       "    <tr>\n",
       "      <th>Sozialgericht Halle</th>\n",
       "      <td>Thüringer</td>\n",
       "      <td>Str.</td>\n",
       "      <td>16</td>\n",
       "      <td>None</td>\n",
       "      <td>None</td>\n",
       "    </tr>\n",
       "    <tr>\n",
       "      <th>Sozialgericht Mainz</th>\n",
       "      <td>Germany</td>\n",
       "      <td>None</td>\n",
       "      <td>None</td>\n",
       "      <td>None</td>\n",
       "      <td>None</td>\n",
       "    </tr>\n",
       "    <tr>\n",
       "      <th>Arbeitsgericht Aachen</th>\n",
       "      <td>Adalbertsteinweg</td>\n",
       "      <td>92</td>\n",
       "      <td>None</td>\n",
       "      <td>None</td>\n",
       "      <td>None</td>\n",
       "    </tr>\n",
       "    <tr>\n",
       "      <th>Anwaltsgerichtshof NRW</th>\n",
       "      <td>Germany</td>\n",
       "      <td>None</td>\n",
       "      <td>None</td>\n",
       "      <td>None</td>\n",
       "      <td>None</td>\n",
       "    </tr>\n",
       "    <tr>\n",
       "      <th>Amtsgericht Ribnitz-Damgarten</th>\n",
       "      <td>Germany</td>\n",
       "      <td>None</td>\n",
       "      <td>None</td>\n",
       "      <td>None</td>\n",
       "      <td>None</td>\n",
       "    </tr>\n",
       "  </tbody>\n",
       "</table>\n",
       "</div>"
      ],
      "text/plain": [
       "                                                          0     1     2     3  \\\n",
       "Pfälzisches Oberlandesgericht Zweibrücken        Schlosspl.     7  None  None   \n",
       "Rheinschifffahrtsobergericht Köln                   Germany  None  None  None   \n",
       "Landgericht Paderborn                               Germany  None  None  None   \n",
       "Sozialgericht Halle                               Thüringer  Str.    16  None   \n",
       "Sozialgericht Mainz                                 Germany  None  None  None   \n",
       "Arbeitsgericht Aachen                      Adalbertsteinweg    92  None  None   \n",
       "Anwaltsgerichtshof NRW                              Germany  None  None  None   \n",
       "Amtsgericht Ribnitz-Damgarten                       Germany  None  None  None   \n",
       "\n",
       "                                              4  \n",
       "Pfälzisches Oberlandesgericht Zweibrücken  None  \n",
       "Rheinschifffahrtsobergericht Köln          None  \n",
       "Landgericht Paderborn                      None  \n",
       "Sozialgericht Halle                        None  \n",
       "Sozialgericht Mainz                        None  \n",
       "Arbeitsgericht Aachen                      None  \n",
       "Anwaltsgerichtshof NRW                     None  \n",
       "Amtsgericht Ribnitz-Damgarten              None  "
      ]
     },
     "execution_count": 44,
     "metadata": {},
     "output_type": "execute_result"
    }
   ],
   "source": [
    "new_city_values[new_city_values[0].str.contains(\"[\\D]\")] # Selects all rows with \"not a digit\" in the column 0"
   ]
  },
  {
   "cell_type": "markdown",
   "metadata": {},
   "source": [
    "It seems that the googlemaps API could not find appropriate entries for the courts above. Luckily their location is contained in their names. The exception goes for \"Anwaltsgerichtshof NRW\", which is located in [Hamm](https://www.olg-hamm.nrw.de/aufgaben/gerichtshoefe/anwaltsgericht/index.php).\n",
    "\n",
    "We'll input these informations manually."
   ]
  },
  {
   "cell_type": "code",
   "execution_count": 45,
   "metadata": {},
   "outputs": [],
   "source": [
    "courts = courts.copy() # This prevents us from getting a SeetingWithCopy warning\n",
    "courts.loc[courts[\"name\"]==\"Anwaltsgerichtshof NRW\",\"city\"]=\"Hamm\"\n",
    "new_city_values = new_city_values.drop(\"Anwaltsgerichtshof NRW\",axis = \"index\")"
   ]
  },
  {
   "cell_type": "code",
   "execution_count": 46,
   "metadata": {},
   "outputs": [],
   "source": [
    "missing = new_city_values.copy()\n",
    "missing = missing[missing[0].str.contains(\"[\\D]\")]\n",
    "values = [v[-1] for v in missing.reset_index()[\"index\"].str.split()]\n",
    "missing[\"values\"] = values\n",
    "# new_city_values = new_city_values.copy() # Again, this is just to prevent the SettingWithCopy Warning\n",
    "for n in missing.index:\n",
    "    new_city_values.loc[n,1] = missing.loc[n,\"values\"]"
   ]
  },
  {
   "cell_type": "markdown",
   "metadata": {},
   "source": [
    "We can confirm changes here."
   ]
  },
  {
   "cell_type": "code",
   "execution_count": 47,
   "metadata": {
    "scrolled": true
   },
   "outputs": [
    {
     "data": {
      "text/html": [
       "<div>\n",
       "<style scoped>\n",
       "    .dataframe tbody tr th:only-of-type {\n",
       "        vertical-align: middle;\n",
       "    }\n",
       "\n",
       "    .dataframe tbody tr th {\n",
       "        vertical-align: top;\n",
       "    }\n",
       "\n",
       "    .dataframe thead th {\n",
       "        text-align: right;\n",
       "    }\n",
       "</style>\n",
       "<table border=\"1\" class=\"dataframe\">\n",
       "  <thead>\n",
       "    <tr style=\"text-align: right;\">\n",
       "      <th></th>\n",
       "      <th>0</th>\n",
       "      <th>1</th>\n",
       "      <th>2</th>\n",
       "      <th>3</th>\n",
       "      <th>4</th>\n",
       "    </tr>\n",
       "  </thead>\n",
       "  <tbody>\n",
       "    <tr>\n",
       "      <th>Pfälzisches Oberlandesgericht Zweibrücken</th>\n",
       "      <td>Schlosspl.</td>\n",
       "      <td>Zweibrücken</td>\n",
       "      <td>None</td>\n",
       "      <td>None</td>\n",
       "      <td>None</td>\n",
       "    </tr>\n",
       "    <tr>\n",
       "      <th>Rheinschifffahrtsobergericht Köln</th>\n",
       "      <td>Germany</td>\n",
       "      <td>Köln</td>\n",
       "      <td>None</td>\n",
       "      <td>None</td>\n",
       "      <td>None</td>\n",
       "    </tr>\n",
       "    <tr>\n",
       "      <th>Landgericht Paderborn</th>\n",
       "      <td>Germany</td>\n",
       "      <td>Paderborn</td>\n",
       "      <td>None</td>\n",
       "      <td>None</td>\n",
       "      <td>None</td>\n",
       "    </tr>\n",
       "    <tr>\n",
       "      <th>Sozialgericht Halle</th>\n",
       "      <td>Thüringer</td>\n",
       "      <td>Halle</td>\n",
       "      <td>16</td>\n",
       "      <td>None</td>\n",
       "      <td>None</td>\n",
       "    </tr>\n",
       "    <tr>\n",
       "      <th>Sozialgericht Mainz</th>\n",
       "      <td>Germany</td>\n",
       "      <td>Mainz</td>\n",
       "      <td>None</td>\n",
       "      <td>None</td>\n",
       "      <td>None</td>\n",
       "    </tr>\n",
       "    <tr>\n",
       "      <th>Arbeitsgericht Aachen</th>\n",
       "      <td>Adalbertsteinweg</td>\n",
       "      <td>Aachen</td>\n",
       "      <td>None</td>\n",
       "      <td>None</td>\n",
       "      <td>None</td>\n",
       "    </tr>\n",
       "    <tr>\n",
       "      <th>Amtsgericht Ribnitz-Damgarten</th>\n",
       "      <td>Germany</td>\n",
       "      <td>Ribnitz-Damgarten</td>\n",
       "      <td>None</td>\n",
       "      <td>None</td>\n",
       "      <td>None</td>\n",
       "    </tr>\n",
       "  </tbody>\n",
       "</table>\n",
       "</div>"
      ],
      "text/plain": [
       "                                                          0  \\\n",
       "Pfälzisches Oberlandesgericht Zweibrücken        Schlosspl.   \n",
       "Rheinschifffahrtsobergericht Köln                   Germany   \n",
       "Landgericht Paderborn                               Germany   \n",
       "Sozialgericht Halle                               Thüringer   \n",
       "Sozialgericht Mainz                                 Germany   \n",
       "Arbeitsgericht Aachen                      Adalbertsteinweg   \n",
       "Amtsgericht Ribnitz-Damgarten                       Germany   \n",
       "\n",
       "                                                           1     2     3     4  \n",
       "Pfälzisches Oberlandesgericht Zweibrücken        Zweibrücken  None  None  None  \n",
       "Rheinschifffahrtsobergericht Köln                       Köln  None  None  None  \n",
       "Landgericht Paderborn                              Paderborn  None  None  None  \n",
       "Sozialgericht Halle                                    Halle    16  None  None  \n",
       "Sozialgericht Mainz                                    Mainz  None  None  None  \n",
       "Arbeitsgericht Aachen                                 Aachen  None  None  None  \n",
       "Amtsgericht Ribnitz-Damgarten              Ribnitz-Damgarten  None  None  None  "
      ]
     },
     "execution_count": 47,
     "metadata": {},
     "output_type": "execute_result"
    }
   ],
   "source": [
    "new_city_values.loc[missing.index]"
   ]
  },
  {
   "cell_type": "markdown",
   "metadata": {},
   "source": [
    "Finally, we can update the values in the DataFrame."
   ]
  },
  {
   "cell_type": "code",
   "execution_count": 48,
   "metadata": {},
   "outputs": [],
   "source": [
    "for n in new_city_values.index:\n",
    "    courts.loc[courts[\"name\"]==n,\"city\"]= new_city_values.loc[n,1]"
   ]
  },
  {
   "cell_type": "markdown",
   "metadata": {},
   "source": [
    "Below, we check if everything went alright."
   ]
  },
  {
   "cell_type": "code",
   "execution_count": 49,
   "metadata": {},
   "outputs": [
    {
     "data": {
      "text/html": [
       "<div>\n",
       "<style scoped>\n",
       "    .dataframe tbody tr th:only-of-type {\n",
       "        vertical-align: middle;\n",
       "    }\n",
       "\n",
       "    .dataframe tbody tr th {\n",
       "        vertical-align: top;\n",
       "    }\n",
       "\n",
       "    .dataframe thead th {\n",
       "        text-align: right;\n",
       "    }\n",
       "</style>\n",
       "<table border=\"1\" class=\"dataframe\">\n",
       "  <thead>\n",
       "    <tr style=\"text-align: right;\">\n",
       "      <th></th>\n",
       "      <th>id</th>\n",
       "      <th>name</th>\n",
       "      <th>slug</th>\n",
       "      <th>city</th>\n",
       "      <th>state</th>\n",
       "      <th>jurisdiction</th>\n",
       "      <th>level_of_appeal</th>\n",
       "    </tr>\n",
       "  </thead>\n",
       "  <tbody>\n",
       "    <tr>\n",
       "      <th>21227</th>\n",
       "      <td>621</td>\n",
       "      <td>Amtsgericht Ahaus</td>\n",
       "      <td>ag-ahaus</td>\n",
       "      <td>None</td>\n",
       "      <td>Nordrhein-Westfalen</td>\n",
       "      <td>Ordentliche Gerichtsbarkeit</td>\n",
       "      <td>Amtsgericht</td>\n",
       "    </tr>\n",
       "    <tr>\n",
       "      <th>21445</th>\n",
       "      <td>621</td>\n",
       "      <td>Amtsgericht Ahaus</td>\n",
       "      <td>ag-ahaus</td>\n",
       "      <td>None</td>\n",
       "      <td>Nordrhein-Westfalen</td>\n",
       "      <td>Ordentliche Gerichtsbarkeit</td>\n",
       "      <td>Amtsgericht</td>\n",
       "    </tr>\n",
       "    <tr>\n",
       "      <th>24976</th>\n",
       "      <td>621</td>\n",
       "      <td>Amtsgericht Ahaus</td>\n",
       "      <td>ag-ahaus</td>\n",
       "      <td>None</td>\n",
       "      <td>Nordrhein-Westfalen</td>\n",
       "      <td>Ordentliche Gerichtsbarkeit</td>\n",
       "      <td>Amtsgericht</td>\n",
       "    </tr>\n",
       "    <tr>\n",
       "      <th>25014</th>\n",
       "      <td>621</td>\n",
       "      <td>Amtsgericht Ahaus</td>\n",
       "      <td>ag-ahaus</td>\n",
       "      <td>None</td>\n",
       "      <td>Nordrhein-Westfalen</td>\n",
       "      <td>Ordentliche Gerichtsbarkeit</td>\n",
       "      <td>Amtsgericht</td>\n",
       "    </tr>\n",
       "    <tr>\n",
       "      <th>45113</th>\n",
       "      <td>621</td>\n",
       "      <td>Amtsgericht Ahaus</td>\n",
       "      <td>ag-ahaus</td>\n",
       "      <td>None</td>\n",
       "      <td>Nordrhein-Westfalen</td>\n",
       "      <td>Ordentliche Gerichtsbarkeit</td>\n",
       "      <td>Amtsgericht</td>\n",
       "    </tr>\n",
       "    <tr>\n",
       "      <th>48269</th>\n",
       "      <td>621</td>\n",
       "      <td>Amtsgericht Ahaus</td>\n",
       "      <td>ag-ahaus</td>\n",
       "      <td>None</td>\n",
       "      <td>Nordrhein-Westfalen</td>\n",
       "      <td>Ordentliche Gerichtsbarkeit</td>\n",
       "      <td>Amtsgericht</td>\n",
       "    </tr>\n",
       "  </tbody>\n",
       "</table>\n",
       "</div>"
      ],
      "text/plain": [
       "        id               name      slug  city                state  \\\n",
       "21227  621  Amtsgericht Ahaus  ag-ahaus  None  Nordrhein-Westfalen   \n",
       "21445  621  Amtsgericht Ahaus  ag-ahaus  None  Nordrhein-Westfalen   \n",
       "24976  621  Amtsgericht Ahaus  ag-ahaus  None  Nordrhein-Westfalen   \n",
       "25014  621  Amtsgericht Ahaus  ag-ahaus  None  Nordrhein-Westfalen   \n",
       "45113  621  Amtsgericht Ahaus  ag-ahaus  None  Nordrhein-Westfalen   \n",
       "48269  621  Amtsgericht Ahaus  ag-ahaus  None  Nordrhein-Westfalen   \n",
       "\n",
       "                      jurisdiction level_of_appeal  \n",
       "21227  Ordentliche Gerichtsbarkeit     Amtsgericht  \n",
       "21445  Ordentliche Gerichtsbarkeit     Amtsgericht  \n",
       "24976  Ordentliche Gerichtsbarkeit     Amtsgericht  \n",
       "25014  Ordentliche Gerichtsbarkeit     Amtsgericht  \n",
       "45113  Ordentliche Gerichtsbarkeit     Amtsgericht  \n",
       "48269  Ordentliche Gerichtsbarkeit     Amtsgericht  "
      ]
     },
     "execution_count": 49,
     "metadata": {},
     "output_type": "execute_result"
    }
   ],
   "source": [
    "courts[courts[\"city\"].isnull()]"
   ]
  },
  {
   "cell_type": "markdown",
   "metadata": {},
   "source": [
    "So it seems that one court still does not have values on the city column (actually, it has a value of None). We'll fix it now."
   ]
  },
  {
   "cell_type": "code",
   "execution_count": 50,
   "metadata": {},
   "outputs": [],
   "source": [
    "courts.loc[courts[\"name\"]==\"Amtsgericht Ahaus\",\"city\"] = \"Ahaus\""
   ]
  },
  {
   "cell_type": "markdown",
   "metadata": {},
   "source": [
    "Finally, the city column is set. There no more missing values."
   ]
  },
  {
   "cell_type": "code",
   "execution_count": 51,
   "metadata": {},
   "outputs": [
    {
     "name": "stdout",
     "output_type": "stream",
     "text": [
      "<class 'pandas.core.frame.DataFrame'>\n",
      "Int64Index: 47477 entries, 0 to 49999\n",
      "Data columns (total 7 columns):\n",
      " #   Column           Non-Null Count  Dtype \n",
      "---  ------           --------------  ----- \n",
      " 0   id               47477 non-null  int64 \n",
      " 1   name             47477 non-null  object\n",
      " 2   slug             47477 non-null  object\n",
      " 3   city             47477 non-null  object\n",
      " 4   state            47477 non-null  object\n",
      " 5   jurisdiction     31938 non-null  object\n",
      " 6   level_of_appeal  26045 non-null  object\n",
      "dtypes: int64(1), object(6)\n",
      "memory usage: 2.9+ MB\n"
     ]
    }
   ],
   "source": [
    "courts.info()"
   ]
  },
  {
   "cell_type": "markdown",
   "metadata": {},
   "source": [
    "## The Jurisdiction Column\n",
    "\n",
    "Finally, the last column to fix is the jurisdiction column. Below, we can see all the courts for which the values in the jurisdiction column are missing."
   ]
  },
  {
   "cell_type": "code",
   "execution_count": 52,
   "metadata": {
    "scrolled": true
   },
   "outputs": [
    {
     "data": {
      "text/plain": [
       "Bundesgerichtshof                             6128\n",
       "Bundesfinanzhof                               2409\n",
       "Oberlandesgericht Hamm                        1042\n",
       "Oberlandesgericht Düsseldorf                   968\n",
       "Niedersächsisches Oberverwaltungsgericht       844\n",
       "Oberlandesgericht Köln                         783\n",
       "Oberlandesgericht Karlsruhe                    382\n",
       "Oberlandesgericht Stuttgart                    336\n",
       "Oberlandesgericht Celle                        330\n",
       "Oberlandesgericht Naumburg                     320\n",
       "Hanseatisches Oberlandesgericht                307\n",
       "Oberlandesgericht Koblenz                      246\n",
       "Niedersächsisches Finanzgericht                215\n",
       "Pfälzisches Oberlandesgericht Zweibrücken      176\n",
       "Landesarbeitsgericht Niedersachsen             175\n",
       "Oberlandesgericht Rostock                      143\n",
       "Verwaltungsgericht Göttingen                   131\n",
       "Schleswig-Holsteinisches Oberlandesgericht     126\n",
       "Oberlandesgericht Braunschweig                  79\n",
       "Oberlandesgericht Oldenburg                     74\n",
       "Oberlandesgericht München                       60\n",
       "Sozialgericht Stade                             56\n",
       "Landgericht Kiel                                52\n",
       "Anwaltsgerichtshof NRW                          42\n",
       "Sozialgericht Lüneburg                          40\n",
       "Landgericht Hannover                            19\n",
       "Landgericht Rostock                             13\n",
       "Amtsgericht Stralsund                           11\n",
       "Oberlandesgericht Bamberg                       10\n",
       "Sozialgericht Koblenz                            7\n",
       "Oberlandesgericht Nürnberg                       7\n",
       "Amtsgericht Königswinter                         4\n",
       "Sozialgericht Stuttgart                          3\n",
       "Rheinschifffahrtsobergericht Köln                1\n",
       "Name: name, dtype: int64"
      ]
     },
     "execution_count": 52,
     "metadata": {},
     "output_type": "execute_result"
    }
   ],
   "source": [
    "courts.loc[courts[\"jurisdiction\"].isnull(),\"name\"].value_counts()"
   ]
  },
  {
   "cell_type": "markdown",
   "metadata": {},
   "source": [
    "With some knowledge of the german legal system, it's possible to insert the missing values."
   ]
  },
  {
   "cell_type": "markdown",
   "metadata": {},
   "source": [
    "### Bundesgerichtshof and Bundesfinanzhof\n",
    "\n",
    "The jurisdiction of these two federal courts are, respectively, \"Ordentliche Gerichtsbarkeit\" and \"Finanzgerichtsbarkeit\"."
   ]
  },
  {
   "cell_type": "code",
   "execution_count": 53,
   "metadata": {},
   "outputs": [],
   "source": [
    "courts.loc[courts[\"name\"]==\"Bundesgerichtshof\",\"jurisdiction\"] = \"Ordentliche Gerichtsbarkeit\"\n",
    "courts.loc[courts[\"name\"]==\"Bundesfinanzhof\",\"jurisdiction\"] = \"Finanzgerichtsbarkeit\""
   ]
  },
  {
   "cell_type": "markdown",
   "metadata": {},
   "source": [
    "### Verwaltungsgerichtsbarkeit\n",
    "\n",
    "Verwaltungsgerichte are responsible for the Verwaltungsgerichtsbarkeit. We can check which court names contain the word Verwaltung, in order to input the right jurisdiction value."
   ]
  },
  {
   "cell_type": "code",
   "execution_count": 54,
   "metadata": {},
   "outputs": [
    {
     "data": {
      "text/plain": [
       "Oberverwaltungsgericht Nordrhein-Westfalen          1819\n",
       "Verwaltungsgericht Köln                             1035\n",
       "Verwaltungsgericht Düsseldorf                        951\n",
       "Niedersächsisches Oberverwaltungsgericht             844\n",
       "Verwaltungsgericht Gelsenkirchen                     817\n",
       "Schleswig-Holsteinisches Verwaltungsgericht          747\n",
       "Verwaltungsgerichtshof Baden-Württemberg             609\n",
       "Verwaltungsgericht Magdeburg                         562\n",
       "Oberverwaltungsgericht des Landes Sachsen-Anhalt     516\n",
       "Schleswig Holsteinisches Oberverwaltungsgericht      424\n",
       "Oberverwaltungsgericht Rheinland-Pfalz               395\n",
       "Verwaltungsgericht Hannover                          347\n",
       "Verwaltungsgericht Aachen                            310\n",
       "Verwaltungsgericht Greifswald                        292\n",
       "Verwaltungsgericht Neustadt an der Weinstraße        249\n",
       "Verwaltungsgericht Minden                            234\n",
       "Verwaltungsgericht Karlsruhe                         219\n",
       "Verwaltungsgericht Hamburg                           212\n",
       "Hamburgisches Oberverwaltungsgericht                 206\n",
       "Verwaltungsgericht Lüneburg                          197\n",
       "Oberverwaltungsgericht Mecklenburg-Vorpommern        193\n",
       "Verwaltungsgericht Freiburg                          192\n",
       "Verwaltungsgericht Münster                           190\n",
       "Verwaltungsgericht Schwerin                          185\n",
       "Verwaltungsgericht Stuttgart                         181\n",
       "Verwaltungsgericht Oldenburg (Oldenburg)             171\n",
       "Verwaltungsgericht Halle                             170\n",
       "Verwaltungsgericht Trier                             151\n",
       "Verwaltungsgericht Göttingen                         131\n",
       "Verwaltungsgericht Mainz                             115\n",
       "Verwaltungsgericht Sigmaringen                       113\n",
       "Verwaltungsgericht Arnsberg                          105\n",
       "Verwaltungsgericht München                           104\n",
       "Verwaltungsgericht Koblenz                            67\n",
       "Verwaltungsgericht Braunschweig                       60\n",
       "Verwaltungsgericht Stade                              55\n",
       "Verwaltungsgericht Augsburg                           51\n",
       "Verwaltungsgericht Osnabrück                          47\n",
       "Verwaltungsgericht Würzburg                           41\n",
       "Verwaltungsgericht Ansbach                            27\n",
       "Oberverwaltungsgericht des Saarlandes                 18\n",
       "Verwaltungsgericht Bayreuth                           17\n",
       "Sächsisches Oberverwaltungsgericht                    15\n",
       "Verwaltungsgericht Regensburg                         12\n",
       "Name: name, dtype: int64"
      ]
     },
     "execution_count": 54,
     "metadata": {},
     "output_type": "execute_result"
    }
   ],
   "source": [
    "courts.loc[(courts[\"name\"].str.contains(\"Verwaltung\"))|\n",
    "           courts[\"name\"].str.contains(\"Oberverwaltung\"),\"name\"].value_counts()"
   ]
  },
  {
   "cell_type": "code",
   "execution_count": 55,
   "metadata": {},
   "outputs": [],
   "source": [
    "courts.loc[(courts[\"name\"].str.contains(\"Verwaltung\"))|\n",
    "           (courts[\"name\"].str.contains(\"Oberverwaltung\")),\"jurisdiction\"] = \"Verwaltungsgerichtsbarkeit\""
   ]
  },
  {
   "cell_type": "markdown",
   "metadata": {},
   "source": [
    "### Sozialgerichtsbarkeit\n",
    "\n",
    "We can repeat the procedure we applied to the Verwaltungsgerichte to the Sozialgerichte."
   ]
  },
  {
   "cell_type": "code",
   "execution_count": 56,
   "metadata": {
    "scrolled": true
   },
   "outputs": [
    {
     "data": {
      "text/plain": [
       "Bundessozialgericht                             1565\n",
       "Landessozialgericht NRW                          574\n",
       "Landessozialgericht Baden-Württemberg            386\n",
       "Landessozialgericht Sachsen-Anhalt               318\n",
       "Landessozialgericht Niedersachsen-Bremen         238\n",
       "Schleswig-Holsteinisches Landessozialgericht     168\n",
       "Sozialgericht Karlsruhe                          118\n",
       "Sozialgericht Aachen                             100\n",
       "Sozialgericht Detmold                             97\n",
       "Sozialgericht Düsseldorf                          81\n",
       "Landessozialgericht Rheinland-Pfalz               79\n",
       "Landessozialgericht Mecklenburg-Vorpommern        66\n",
       "Sozialgericht Duisburg                            64\n",
       "Sozialgericht Dortmund                            57\n",
       "Sozialgericht Stade                               56\n",
       "Sozialgericht Osnabrück                           55\n",
       "Sozialgericht Halle                               48\n",
       "Sozialgericht Mainz                               45\n",
       "Sozialgericht Lüneburg                            40\n",
       "Sozialgericht Köln                                36\n",
       "Sozialgericht Magdeburg                           29\n",
       "Sozialgericht Gelsenkirchen                       24\n",
       "Sozialgericht Dessau-Roßlau                       23\n",
       "Sozialgericht Speyer                              22\n",
       "Sozialgericht Hannover                            17\n",
       "Sozialgericht Reutlingen                          15\n",
       "Sozialgericht Braunschweig                        14\n",
       "Sozialgericht Münster                             13\n",
       "Sozialgericht Aurich                              13\n",
       "Sozialgericht Trier                               13\n",
       "Sozialgericht Oldenburg (Oldenburg)                9\n",
       "Sozialgericht Rostock                              8\n",
       "Sozialgericht Stralsund                            8\n",
       "Sozialgericht Schwerin                             8\n",
       "Sozialgericht Koblenz                              7\n",
       "Sozialgericht Neubrandenburg                       6\n",
       "Sozialgericht München                              5\n",
       "Sozialgericht Freiburg                             4\n",
       "Sozialgericht Stuttgart                            3\n",
       "Sozialgericht Konstanz                             3\n",
       "Sozialgericht Mannheim                             3\n",
       "Sozialgericht Landshut                             3\n",
       "Sozialgericht Hildesheim                           2\n",
       "Sozialgericht Regensburg                           2\n",
       "Sozialgericht Augsburg                             2\n",
       "Sozialgericht Ulm                                  2\n",
       "Sozialgericht Itzehoe                              1\n",
       "Sozialgericht Nürnberg                             1\n",
       "Sozialgericht Hamburg                              1\n",
       "Sozialgericht Bayreuth                             1\n",
       "Landessozialgericht Hamburg                        1\n",
       "Landessozialgericht für das Saarland               1\n",
       "Name: name, dtype: int64"
      ]
     },
     "execution_count": 56,
     "metadata": {},
     "output_type": "execute_result"
    }
   ],
   "source": [
    "courts.loc[courts[\"name\"].str.contains(\"Sozialgericht\", case = False),\"name\"].value_counts()"
   ]
  },
  {
   "cell_type": "code",
   "execution_count": 57,
   "metadata": {},
   "outputs": [],
   "source": [
    "courts.loc[courts[\"name\"].str.contains(\"Sozialgericht\",case = False),\"jurisdiction\"] = \"Sozialgerichtsbarkeit\""
   ]
  },
  {
   "cell_type": "markdown",
   "metadata": {},
   "source": [
    "### Ordentliche Gerichtsbarkeit"
   ]
  },
  {
   "cell_type": "code",
   "execution_count": 58,
   "metadata": {},
   "outputs": [],
   "source": [
    "courts.loc[(courts[\"jurisdiction\"]!=\"Verfassungsgerichtsbarkeit\")&\n",
    "          (courts[\"jurisdiction\"]!=\"Arbeitsgerichtsbarkeit\")&\n",
    "          (courts[\"jurisdiction\"]!=\"Verwaltungsgerichtsbarkeit\")&\n",
    "          (courts[\"jurisdiction\"]!=\"Finanzgerichtsbarkeit\")&\n",
    "          (courts[\"jurisdiction\"]!=\"Sozialgerichtsbarkeit\"),\"jurisdiction\"] = \"Ordentliche Gerichtsbarkeit\""
   ]
  },
  {
   "cell_type": "code",
   "execution_count": 59,
   "metadata": {},
   "outputs": [],
   "source": [
    "courts.loc[courts[\"name\"].str.contains(\"Sozialgericht\"),\"jurisdiction\"] = \"Sozialgerichtsbarkeit\""
   ]
  },
  {
   "cell_type": "markdown",
   "metadata": {},
   "source": [
    "### Checking Results\n",
    "\n",
    "Below, we can see the result of the Data Cleaning."
   ]
  },
  {
   "cell_type": "code",
   "execution_count": 60,
   "metadata": {},
   "outputs": [
    {
     "name": "stdout",
     "output_type": "stream",
     "text": [
      "<class 'pandas.core.frame.DataFrame'>\n",
      "Int64Index: 47477 entries, 0 to 49999\n",
      "Data columns (total 7 columns):\n",
      " #   Column           Non-Null Count  Dtype \n",
      "---  ------           --------------  ----- \n",
      " 0   id               47477 non-null  int64 \n",
      " 1   name             47477 non-null  object\n",
      " 2   slug             47477 non-null  object\n",
      " 3   city             47477 non-null  object\n",
      " 4   state            47477 non-null  object\n",
      " 5   jurisdiction     47477 non-null  object\n",
      " 6   level_of_appeal  26045 non-null  object\n",
      "dtypes: int64(1), object(6)\n",
      "memory usage: 2.9+ MB\n"
     ]
    }
   ],
   "source": [
    "courts.info()"
   ]
  },
  {
   "cell_type": "code",
   "execution_count": 61,
   "metadata": {},
   "outputs": [
    {
     "name": "stdout",
     "output_type": "stream",
     "text": [
      "<class 'pandas.core.frame.DataFrame'>\n",
      "Int64Index: 47477 entries, 0 to 49999\n",
      "Data columns (total 8 columns):\n",
      " #   Column        Non-Null Count  Dtype \n",
      "---  ------        --------------  ----- \n",
      " 0   id            47477 non-null  int64 \n",
      " 1   slug          47477 non-null  object\n",
      " 2   file_number   47477 non-null  object\n",
      " 3   date          47477 non-null  object\n",
      " 4   created_date  47477 non-null  object\n",
      " 5   updated_date  47477 non-null  object\n",
      " 6   type          47477 non-null  object\n",
      " 7   ecli          32462 non-null  object\n",
      "dtypes: int64(1), object(7)\n",
      "memory usage: 3.3+ MB\n"
     ]
    }
   ],
   "source": [
    "cases.info()"
   ]
  },
  {
   "cell_type": "markdown",
   "metadata": {},
   "source": [
    "Notice that there are no more missing values in the city,state or jurisdiction colum. Also, the number of cases in both datasets match. \n",
    "\n",
    "The column named level_of_appeal in the court DataFrame and the column named \"ecli\" in the cases dataset are not so relevant for the analysis (even though they could be very important to answer other questions), so we'll leave them as they are for now."
   ]
  },
  {
   "cell_type": "markdown",
   "metadata": {},
   "source": [
    "## Saving Clean Data Frames\n",
    "\n",
    "At this point, it would also be interesting to save the clean DataFrames."
   ]
  },
  {
   "cell_type": "code",
   "execution_count": 62,
   "metadata": {},
   "outputs": [],
   "source": [
    "courts.to_csv(r\"C:\\Users\\celio\\Data Analysis\\Projects\\Open Legal Data\\courts_clean.csv\")\n",
    "cases.to_csv(r\"C:\\Users\\celio\\Data Analysis\\Projects\\Open Legal Data\\cases_clean.csv\")"
   ]
  },
  {
   "cell_type": "markdown",
   "metadata": {},
   "source": [
    "# Combining DataFrames\n",
    "\n",
    "As last step, we can combine both datasets, courts and cases, in order to have all the information gathered in one place. "
   ]
  },
  {
   "cell_type": "code",
   "execution_count": 63,
   "metadata": {},
   "outputs": [],
   "source": [
    "merged = pd.concat([cases,courts],axis = 1)"
   ]
  },
  {
   "cell_type": "markdown",
   "metadata": {},
   "source": [
    "The result looks like this:"
   ]
  },
  {
   "cell_type": "code",
   "execution_count": 64,
   "metadata": {},
   "outputs": [
    {
     "name": "stdout",
     "output_type": "stream",
     "text": [
      "<class 'pandas.core.frame.DataFrame'>\n",
      "Int64Index: 47477 entries, 0 to 49999\n",
      "Data columns (total 15 columns):\n",
      " #   Column           Non-Null Count  Dtype \n",
      "---  ------           --------------  ----- \n",
      " 0   id               47477 non-null  int64 \n",
      " 1   slug             47477 non-null  object\n",
      " 2   file_number      47477 non-null  object\n",
      " 3   date             47477 non-null  object\n",
      " 4   created_date     47477 non-null  object\n",
      " 5   updated_date     47477 non-null  object\n",
      " 6   type             47477 non-null  object\n",
      " 7   ecli             32462 non-null  object\n",
      " 8   id               47477 non-null  int64 \n",
      " 9   name             47477 non-null  object\n",
      " 10  slug             47477 non-null  object\n",
      " 11  city             47477 non-null  object\n",
      " 12  state            47477 non-null  object\n",
      " 13  jurisdiction     47477 non-null  object\n",
      " 14  level_of_appeal  26045 non-null  object\n",
      "dtypes: int64(2), object(13)\n",
      "memory usage: 5.8+ MB\n"
     ]
    }
   ],
   "source": [
    "merged.info()"
   ]
  },
  {
   "cell_type": "code",
   "execution_count": 65,
   "metadata": {},
   "outputs": [
    {
     "data": {
      "text/html": [
       "<div>\n",
       "<style scoped>\n",
       "    .dataframe tbody tr th:only-of-type {\n",
       "        vertical-align: middle;\n",
       "    }\n",
       "\n",
       "    .dataframe tbody tr th {\n",
       "        vertical-align: top;\n",
       "    }\n",
       "\n",
       "    .dataframe thead th {\n",
       "        text-align: right;\n",
       "    }\n",
       "</style>\n",
       "<table border=\"1\" class=\"dataframe\">\n",
       "  <thead>\n",
       "    <tr style=\"text-align: right;\">\n",
       "      <th></th>\n",
       "      <th>id</th>\n",
       "      <th>slug</th>\n",
       "      <th>file_number</th>\n",
       "      <th>date</th>\n",
       "      <th>created_date</th>\n",
       "      <th>updated_date</th>\n",
       "      <th>type</th>\n",
       "      <th>ecli</th>\n",
       "      <th>id</th>\n",
       "      <th>name</th>\n",
       "      <th>slug</th>\n",
       "      <th>city</th>\n",
       "      <th>state</th>\n",
       "      <th>jurisdiction</th>\n",
       "      <th>level_of_appeal</th>\n",
       "    </tr>\n",
       "  </thead>\n",
       "  <tbody>\n",
       "    <tr>\n",
       "      <th>0</th>\n",
       "      <td>328393</td>\n",
       "      <td>bgh-2020-05-07-ix-zb-5619</td>\n",
       "      <td>IX ZB 56/19</td>\n",
       "      <td>2020-05-07</td>\n",
       "      <td>2020-05-29T10:00:15Z</td>\n",
       "      <td>2020-05-29T10:07:14Z</td>\n",
       "      <td>Beschluss</td>\n",
       "      <td>ECLI:DE:BGH:2020:070520BIXZB56.19.0</td>\n",
       "      <td>4</td>\n",
       "      <td>Bundesgerichtshof</td>\n",
       "      <td>bgh</td>\n",
       "      <td>Karlsruhe</td>\n",
       "      <td>Baden-Württemberg</td>\n",
       "      <td>Ordentliche Gerichtsbarkeit</td>\n",
       "      <td>Bundesgericht</td>\n",
       "    </tr>\n",
       "    <tr>\n",
       "      <th>1</th>\n",
       "      <td>328192</td>\n",
       "      <td>bverwg-2020-04-22-2-b-5219</td>\n",
       "      <td>2 B 52/19</td>\n",
       "      <td>2020-04-22</td>\n",
       "      <td>2020-05-21T10:00:05Z</td>\n",
       "      <td>2020-05-21T10:06:18Z</td>\n",
       "      <td>Beschluss</td>\n",
       "      <td>ECLI:DE:BVerwG:2020:220420B2B52.19.0</td>\n",
       "      <td>5</td>\n",
       "      <td>Bundesverwaltungsgericht</td>\n",
       "      <td>bverwg</td>\n",
       "      <td>Leipzig</td>\n",
       "      <td>Sachsen</td>\n",
       "      <td>Verwaltungsgerichtsbarkeit</td>\n",
       "      <td>Bundesgericht</td>\n",
       "    </tr>\n",
       "    <tr>\n",
       "      <th>2</th>\n",
       "      <td>328242</td>\n",
       "      <td>bgh-2020-04-21-ii-zr-5618</td>\n",
       "      <td>II ZR 56/18</td>\n",
       "      <td>2020-04-21</td>\n",
       "      <td>2020-05-23T10:00:15Z</td>\n",
       "      <td>2020-05-23T10:07:16Z</td>\n",
       "      <td>Urteil</td>\n",
       "      <td>ECLI:DE:BGH:2020:210420UIIZR56.18.0</td>\n",
       "      <td>4</td>\n",
       "      <td>Bundesgerichtshof</td>\n",
       "      <td>bgh</td>\n",
       "      <td>Karlsruhe</td>\n",
       "      <td>Baden-Württemberg</td>\n",
       "      <td>Ordentliche Gerichtsbarkeit</td>\n",
       "      <td>Bundesgericht</td>\n",
       "    </tr>\n",
       "    <tr>\n",
       "      <th>3</th>\n",
       "      <td>327286</td>\n",
       "      <td>bverfg-2020-03-25-2-bvr-11320</td>\n",
       "      <td>2 BvR 113/20</td>\n",
       "      <td>2020-03-25</td>\n",
       "      <td>2020-04-17T10:00:22Z</td>\n",
       "      <td>2020-04-17T10:06:52Z</td>\n",
       "      <td>Nichtannahmebeschluss</td>\n",
       "      <td>ECLI:DE:BVerfG:2020:rk20200325.2bvr011320</td>\n",
       "      <td>3</td>\n",
       "      <td>Bundesverfassungsgericht</td>\n",
       "      <td>bverfg</td>\n",
       "      <td>Karlsruhe</td>\n",
       "      <td>Baden-Württemberg</td>\n",
       "      <td>Verfassungsgerichtsbarkeit</td>\n",
       "      <td>Bundesgericht</td>\n",
       "    </tr>\n",
       "    <tr>\n",
       "      <th>4</th>\n",
       "      <td>327121</td>\n",
       "      <td>bverfg-2020-03-18-1-bvr-33720</td>\n",
       "      <td>1 BvR 337/20</td>\n",
       "      <td>2020-03-18</td>\n",
       "      <td>2020-04-09T10:00:18Z</td>\n",
       "      <td>2020-04-09T10:08:59Z</td>\n",
       "      <td>Nichtannahmebeschluss</td>\n",
       "      <td>ECLI:DE:BVerfG:2020:rk20200318.1bvr033720</td>\n",
       "      <td>3</td>\n",
       "      <td>Bundesverfassungsgericht</td>\n",
       "      <td>bverfg</td>\n",
       "      <td>Karlsruhe</td>\n",
       "      <td>Baden-Württemberg</td>\n",
       "      <td>Verfassungsgerichtsbarkeit</td>\n",
       "      <td>Bundesgericht</td>\n",
       "    </tr>\n",
       "  </tbody>\n",
       "</table>\n",
       "</div>"
      ],
      "text/plain": [
       "       id                           slug   file_number        date  \\\n",
       "0  328393      bgh-2020-05-07-ix-zb-5619   IX ZB 56/19  2020-05-07   \n",
       "1  328192     bverwg-2020-04-22-2-b-5219     2 B 52/19  2020-04-22   \n",
       "2  328242      bgh-2020-04-21-ii-zr-5618   II ZR 56/18  2020-04-21   \n",
       "3  327286  bverfg-2020-03-25-2-bvr-11320  2 BvR 113/20  2020-03-25   \n",
       "4  327121  bverfg-2020-03-18-1-bvr-33720  1 BvR 337/20  2020-03-18   \n",
       "\n",
       "           created_date          updated_date                   type  \\\n",
       "0  2020-05-29T10:00:15Z  2020-05-29T10:07:14Z              Beschluss   \n",
       "1  2020-05-21T10:00:05Z  2020-05-21T10:06:18Z              Beschluss   \n",
       "2  2020-05-23T10:00:15Z  2020-05-23T10:07:16Z                 Urteil   \n",
       "3  2020-04-17T10:00:22Z  2020-04-17T10:06:52Z  Nichtannahmebeschluss   \n",
       "4  2020-04-09T10:00:18Z  2020-04-09T10:08:59Z  Nichtannahmebeschluss   \n",
       "\n",
       "                                        ecli  id                      name  \\\n",
       "0        ECLI:DE:BGH:2020:070520BIXZB56.19.0   4         Bundesgerichtshof   \n",
       "1       ECLI:DE:BVerwG:2020:220420B2B52.19.0   5  Bundesverwaltungsgericht   \n",
       "2        ECLI:DE:BGH:2020:210420UIIZR56.18.0   4         Bundesgerichtshof   \n",
       "3  ECLI:DE:BVerfG:2020:rk20200325.2bvr011320   3  Bundesverfassungsgericht   \n",
       "4  ECLI:DE:BVerfG:2020:rk20200318.1bvr033720   3  Bundesverfassungsgericht   \n",
       "\n",
       "     slug       city              state                 jurisdiction  \\\n",
       "0     bgh  Karlsruhe  Baden-Württemberg  Ordentliche Gerichtsbarkeit   \n",
       "1  bverwg    Leipzig            Sachsen   Verwaltungsgerichtsbarkeit   \n",
       "2     bgh  Karlsruhe  Baden-Württemberg  Ordentliche Gerichtsbarkeit   \n",
       "3  bverfg  Karlsruhe  Baden-Württemberg   Verfassungsgerichtsbarkeit   \n",
       "4  bverfg  Karlsruhe  Baden-Württemberg   Verfassungsgerichtsbarkeit   \n",
       "\n",
       "  level_of_appeal  \n",
       "0   Bundesgericht  \n",
       "1   Bundesgericht  \n",
       "2   Bundesgericht  \n",
       "3   Bundesgericht  \n",
       "4   Bundesgericht  "
      ]
     },
     "execution_count": 65,
     "metadata": {},
     "output_type": "execute_result"
    }
   ],
   "source": [
    "merged.head()"
   ]
  },
  {
   "cell_type": "markdown",
   "metadata": {},
   "source": [
    "We have to change the column names, as there are two columns named \"id\" in the DataFrame."
   ]
  },
  {
   "cell_type": "code",
   "execution_count": 66,
   "metadata": {},
   "outputs": [],
   "source": [
    "merged.columns = ['id', 'slug', 'file_number', 'date', 'created_date', 'updated_date',\n",
    "       'type', 'ecli', 'court_id', 'name', 'slug', 'city', 'state', 'jurisdiction',\n",
    "       'level_of_appeal']"
   ]
  },
  {
   "cell_type": "markdown",
   "metadata": {},
   "source": [
    "Finally, we save the DataFrame to a merged file"
   ]
  },
  {
   "cell_type": "code",
   "execution_count": 67,
   "metadata": {},
   "outputs": [],
   "source": [
    "merged.to_csv(r\"C:\\Users\\celio\\Data Analysis\\Projects\\Open Legal Data\\merged.csv\")"
   ]
  },
  {
   "cell_type": "markdown",
   "metadata": {},
   "source": [
    "# Analysis\n",
    "\n",
    "Since the scope of this project is not analyzing the data, this is just a superficial analysis. However, at the present state of the merged DataFrame, some simple things can already be visualized."
   ]
  },
  {
   "cell_type": "code",
   "execution_count": 68,
   "metadata": {},
   "outputs": [],
   "source": [
    "merged = pd.read_csv(r\"C:\\Users\\celio\\Data Analysis\\Projects\\Open Legal Data\\merged.csv\")"
   ]
  },
  {
   "cell_type": "markdown",
   "metadata": {},
   "source": [
    "## Which Federal Court has the most cases ?"
   ]
  },
  {
   "cell_type": "code",
   "execution_count": 69,
   "metadata": {},
   "outputs": [
    {
     "data": {
      "text/plain": [
       "DataTransformerRegistry.enable('default')"
      ]
     },
     "execution_count": 69,
     "metadata": {},
     "output_type": "execute_result"
    }
   ],
   "source": [
    "alt.data_transformers.disable_max_rows()"
   ]
  },
  {
   "cell_type": "code",
   "execution_count": 70,
   "metadata": {},
   "outputs": [],
   "source": [
    "bundesgerichte = merged[merged[\"name\"].str.contains(\"Bundes\")]\n",
    "bundesgerichte = bundesgerichte.groupby(\"name\").agg(\"count\")[\"id\"].reset_index()"
   ]
  },
  {
   "cell_type": "code",
   "execution_count": 71,
   "metadata": {},
   "outputs": [
    {
     "data": {
      "text/html": [
       "\n",
       "<div id=\"altair-viz-adfbd4c05aa8469e99c8cf62331ac2ea\"></div>\n",
       "<script type=\"text/javascript\">\n",
       "  (function(spec, embedOpt){\n",
       "    let outputDiv = document.currentScript.previousElementSibling;\n",
       "    if (outputDiv.id !== \"altair-viz-adfbd4c05aa8469e99c8cf62331ac2ea\") {\n",
       "      outputDiv = document.getElementById(\"altair-viz-adfbd4c05aa8469e99c8cf62331ac2ea\");\n",
       "    }\n",
       "    const paths = {\n",
       "      \"vega\": \"https://cdn.jsdelivr.net/npm//vega@5?noext\",\n",
       "      \"vega-lib\": \"https://cdn.jsdelivr.net/npm//vega-lib?noext\",\n",
       "      \"vega-lite\": \"https://cdn.jsdelivr.net/npm//vega-lite@4.8.1?noext\",\n",
       "      \"vega-embed\": \"https://cdn.jsdelivr.net/npm//vega-embed@6?noext\",\n",
       "    };\n",
       "\n",
       "    function loadScript(lib) {\n",
       "      return new Promise(function(resolve, reject) {\n",
       "        var s = document.createElement('script');\n",
       "        s.src = paths[lib];\n",
       "        s.async = true;\n",
       "        s.onload = () => resolve(paths[lib]);\n",
       "        s.onerror = () => reject(`Error loading script: ${paths[lib]}`);\n",
       "        document.getElementsByTagName(\"head\")[0].appendChild(s);\n",
       "      });\n",
       "    }\n",
       "\n",
       "    function showError(err) {\n",
       "      outputDiv.innerHTML = `<div class=\"error\" style=\"color:red;\">${err}</div>`;\n",
       "      throw err;\n",
       "    }\n",
       "\n",
       "    function displayChart(vegaEmbed) {\n",
       "      vegaEmbed(outputDiv, spec, embedOpt)\n",
       "        .catch(err => showError(`Javascript Error: ${err.message}<br>This usually means there's a typo in your chart specification. See the javascript console for the full traceback.`));\n",
       "    }\n",
       "\n",
       "    if(typeof define === \"function\" && define.amd) {\n",
       "      requirejs.config({paths});\n",
       "      require([\"vega-embed\"], displayChart, err => showError(`Error loading script: ${err.message}`));\n",
       "    } else if (typeof vegaEmbed === \"function\") {\n",
       "      displayChart(vegaEmbed);\n",
       "    } else {\n",
       "      loadScript(\"vega\")\n",
       "        .then(() => loadScript(\"vega-lite\"))\n",
       "        .then(() => loadScript(\"vega-embed\"))\n",
       "        .catch(showError)\n",
       "        .then(() => displayChart(vegaEmbed));\n",
       "    }\n",
       "  })({\"config\": {\"view\": {\"continuousWidth\": 400, \"continuousHeight\": 300}}, \"layer\": [{\"mark\": \"bar\", \"encoding\": {\"color\": {\"type\": \"nominal\", \"field\": \"name\"}, \"x\": {\"type\": \"quantitative\", \"axis\": {\"title\": \"Number of Cases\", \"titleFontSize\": 12}, \"field\": \"id\"}, \"y\": {\"type\": \"nominal\", \"axis\": {\"labelAngle\": 0, \"labelFontSize\": 12, \"labelPadding\": 10, \"title\": \"Federal Court\", \"titleFontSize\": 12}, \"field\": \"name\"}}, \"title\": \"Number Of Cases According to Federal Court\"}, {\"mark\": {\"type\": \"text\", \"align\": \"left\", \"baseline\": \"middle\", \"dx\": 3}, \"encoding\": {\"color\": {\"type\": \"nominal\", \"field\": \"name\"}, \"text\": {\"type\": \"quantitative\", \"field\": \"id\"}, \"x\": {\"type\": \"quantitative\", \"axis\": {\"title\": \"Number of Cases\", \"titleFontSize\": 12}, \"field\": \"id\"}, \"y\": {\"type\": \"nominal\", \"axis\": {\"labelAngle\": 0, \"labelFontSize\": 12, \"labelPadding\": 10, \"title\": \"Federal Court\", \"titleFontSize\": 12}, \"field\": \"name\"}}, \"title\": \"Number Of Cases According to Federal Court\"}], \"data\": {\"name\": \"data-e31a7a108199336cb455668dd26a3c59\"}, \"height\": 250, \"width\": 500, \"$schema\": \"https://vega.github.io/schema/vega-lite/v4.8.1.json\", \"datasets\": {\"data-e31a7a108199336cb455668dd26a3c59\": [{\"name\": \"Bundesarbeitsgericht\", \"id\": 1855}, {\"name\": \"Bundesfinanzhof\", \"id\": 2409}, {\"name\": \"Bundesgerichtshof\", \"id\": 6128}, {\"name\": \"Bundessozialgericht\", \"id\": 1565}, {\"name\": \"Bundesverfassungsgericht\", \"id\": 1439}, {\"name\": \"Bundesverwaltungsgericht\", \"id\": 2530}]}}, {\"mode\": \"vega-lite\"});\n",
       "</script>"
      ],
      "text/plain": [
       "alt.LayerChart(...)"
      ]
     },
     "execution_count": 71,
     "metadata": {},
     "output_type": "execute_result"
    }
   ],
   "source": [
    "c = alt.Chart(bundesgerichte,\n",
    "         title = \"Number Of Cases According to Federal Court\").mark_bar().encode(\n",
    "    y = alt.Y(\"name\", \n",
    "              axis = alt.Axis(title = \"Federal Court\", titleFontSize=12,labelFontSize=12, labelAngle = 0,\n",
    "                             labelPadding =10)),\n",
    "    x = alt.X(\"id\", axis = alt.Axis(title = \"Number of Cases\", titleFontSize=12)),\n",
    "    color = \"name\")\n",
    "\n",
    "t = c.mark_text(align = \"left\",\n",
    "               baseline= \"middle\",\n",
    "               dx = 3).encode(text = \"id\")\n",
    "\n",
    "(c+t).properties(width=500,height=250)"
   ]
  },
  {
   "cell_type": "markdown",
   "metadata": {},
   "source": [
    "## What are the most prolific Courts ?\n",
    "\n",
    "We'll not count the federal courts for these charts."
   ]
  },
  {
   "cell_type": "code",
   "execution_count": 72,
   "metadata": {},
   "outputs": [],
   "source": [
    "j = dict.fromkeys(merged[\"jurisdiction\"].unique(),\"\")\n",
    "\n",
    "for key in j:\n",
    "    j[key] = merged.loc[(merged[\"jurisdiction\"]==key)&(merged[\"name\"].str.contains(\"Bundes\")==False)]\n",
    "    j[key] = j[key].groupby(\"name\").agg(\"count\")[\"id\"].reset_index().sort_values(\"id\",ascending =False).head(7)\n",
    "    \n",
    "j_charts ={}\n",
    "\n",
    "for key in j:\n",
    "    chart = alt.Chart(j[key], title = key).mark_bar().encode(\n",
    "        y= alt.Y(\"name\",axis = alt.Axis(title=\"Court\", labelFontSize=12,titleFontSize=12)),\n",
    "        x = alt.X(\"id\",axis= alt.Axis(title=\"Number of Cases\", labelFontSize=12,titleFontSize=12)),\n",
    "        color = \"name\").properties(width = 500, height = 250)\n",
    "    text = chart.mark_text(align = \"left\",\n",
    "                           baseline = \"middle\",\n",
    "                           dx = 3).encode(text=\"id\")\n",
    "    j_charts[key] = (chart+text)\n",
    "                           \n"
   ]
  },
  {
   "cell_type": "markdown",
   "metadata": {},
   "source": [
    "### Arbeitsgerichtsbarkeit"
   ]
  },
  {
   "cell_type": "code",
   "execution_count": 73,
   "metadata": {},
   "outputs": [
    {
     "data": {
      "text/html": [
       "\n",
       "<div id=\"altair-viz-0ddce5aa8ecb4ecb8b94549f44d0887f\"></div>\n",
       "<script type=\"text/javascript\">\n",
       "  (function(spec, embedOpt){\n",
       "    let outputDiv = document.currentScript.previousElementSibling;\n",
       "    if (outputDiv.id !== \"altair-viz-0ddce5aa8ecb4ecb8b94549f44d0887f\") {\n",
       "      outputDiv = document.getElementById(\"altair-viz-0ddce5aa8ecb4ecb8b94549f44d0887f\");\n",
       "    }\n",
       "    const paths = {\n",
       "      \"vega\": \"https://cdn.jsdelivr.net/npm//vega@5?noext\",\n",
       "      \"vega-lib\": \"https://cdn.jsdelivr.net/npm//vega-lib?noext\",\n",
       "      \"vega-lite\": \"https://cdn.jsdelivr.net/npm//vega-lite@4.8.1?noext\",\n",
       "      \"vega-embed\": \"https://cdn.jsdelivr.net/npm//vega-embed@6?noext\",\n",
       "    };\n",
       "\n",
       "    function loadScript(lib) {\n",
       "      return new Promise(function(resolve, reject) {\n",
       "        var s = document.createElement('script');\n",
       "        s.src = paths[lib];\n",
       "        s.async = true;\n",
       "        s.onload = () => resolve(paths[lib]);\n",
       "        s.onerror = () => reject(`Error loading script: ${paths[lib]}`);\n",
       "        document.getElementsByTagName(\"head\")[0].appendChild(s);\n",
       "      });\n",
       "    }\n",
       "\n",
       "    function showError(err) {\n",
       "      outputDiv.innerHTML = `<div class=\"error\" style=\"color:red;\">${err}</div>`;\n",
       "      throw err;\n",
       "    }\n",
       "\n",
       "    function displayChart(vegaEmbed) {\n",
       "      vegaEmbed(outputDiv, spec, embedOpt)\n",
       "        .catch(err => showError(`Javascript Error: ${err.message}<br>This usually means there's a typo in your chart specification. See the javascript console for the full traceback.`));\n",
       "    }\n",
       "\n",
       "    if(typeof define === \"function\" && define.amd) {\n",
       "      requirejs.config({paths});\n",
       "      require([\"vega-embed\"], displayChart, err => showError(`Error loading script: ${err.message}`));\n",
       "    } else if (typeof vegaEmbed === \"function\") {\n",
       "      displayChart(vegaEmbed);\n",
       "    } else {\n",
       "      loadScript(\"vega\")\n",
       "        .then(() => loadScript(\"vega-lite\"))\n",
       "        .then(() => loadScript(\"vega-embed\"))\n",
       "        .catch(showError)\n",
       "        .then(() => displayChart(vegaEmbed));\n",
       "    }\n",
       "  })({\"config\": {\"view\": {\"continuousWidth\": 400, \"continuousHeight\": 300}}, \"layer\": [{\"mark\": \"bar\", \"encoding\": {\"color\": {\"type\": \"nominal\", \"field\": \"name\"}, \"x\": {\"type\": \"quantitative\", \"axis\": {\"labelFontSize\": 12, \"title\": \"Number of Cases\", \"titleFontSize\": 12}, \"field\": \"id\"}, \"y\": {\"type\": \"nominal\", \"axis\": {\"labelFontSize\": 12, \"title\": \"Court\", \"titleFontSize\": 12}, \"field\": \"name\"}}, \"height\": 250, \"title\": \"Arbeitsgerichtsbarkeit\", \"width\": 500}, {\"mark\": {\"type\": \"text\", \"align\": \"left\", \"baseline\": \"middle\", \"dx\": 3}, \"encoding\": {\"color\": {\"type\": \"nominal\", \"field\": \"name\"}, \"text\": {\"type\": \"quantitative\", \"field\": \"id\"}, \"x\": {\"type\": \"quantitative\", \"axis\": {\"labelFontSize\": 12, \"title\": \"Number of Cases\", \"titleFontSize\": 12}, \"field\": \"id\"}, \"y\": {\"type\": \"nominal\", \"axis\": {\"labelFontSize\": 12, \"title\": \"Court\", \"titleFontSize\": 12}, \"field\": \"name\"}}, \"height\": 250, \"title\": \"Arbeitsgerichtsbarkeit\", \"width\": 500}], \"data\": {\"name\": \"data-43e2d5bd415507a0656c6218fedbdad3\"}, \"$schema\": \"https://vega.github.io/schema/vega-lite/v4.8.1.json\", \"datasets\": {\"data-43e2d5bd415507a0656c6218fedbdad3\": [{\"name\": \"Landesarbeitsgericht Rheinland-Pfalz\", \"id\": 812}, {\"name\": \"Landesarbeitsgericht K\\u00f6ln\", \"id\": 423}, {\"name\": \"Landesarbeitsgericht Hamm\", \"id\": 275}, {\"name\": \"Landesarbeitsgericht Mecklenburg-Vorpommern\", \"id\": 248}, {\"name\": \"Landesarbeitsgericht Hamburg\", \"id\": 184}, {\"name\": \"Landesarbeitsgericht Sachsen-Anhalt\", \"id\": 152}, {\"name\": \"Landesarbeitsgericht D\\u00fcsseldorf\", \"id\": 135}]}}, {\"mode\": \"vega-lite\"});\n",
       "</script>"
      ],
      "text/plain": [
       "alt.LayerChart(...)"
      ]
     },
     "execution_count": 73,
     "metadata": {},
     "output_type": "execute_result"
    }
   ],
   "source": [
    "j_charts[\"Arbeitsgerichtsbarkeit\"]"
   ]
  },
  {
   "cell_type": "markdown",
   "metadata": {},
   "source": [
    "### Finanzgerichtsbarkeit"
   ]
  },
  {
   "cell_type": "code",
   "execution_count": 74,
   "metadata": {},
   "outputs": [
    {
     "data": {
      "text/html": [
       "\n",
       "<div id=\"altair-viz-1efb553f6ef3437bb21a3668507132a4\"></div>\n",
       "<script type=\"text/javascript\">\n",
       "  (function(spec, embedOpt){\n",
       "    let outputDiv = document.currentScript.previousElementSibling;\n",
       "    if (outputDiv.id !== \"altair-viz-1efb553f6ef3437bb21a3668507132a4\") {\n",
       "      outputDiv = document.getElementById(\"altair-viz-1efb553f6ef3437bb21a3668507132a4\");\n",
       "    }\n",
       "    const paths = {\n",
       "      \"vega\": \"https://cdn.jsdelivr.net/npm//vega@5?noext\",\n",
       "      \"vega-lib\": \"https://cdn.jsdelivr.net/npm//vega-lib?noext\",\n",
       "      \"vega-lite\": \"https://cdn.jsdelivr.net/npm//vega-lite@4.8.1?noext\",\n",
       "      \"vega-embed\": \"https://cdn.jsdelivr.net/npm//vega-embed@6?noext\",\n",
       "    };\n",
       "\n",
       "    function loadScript(lib) {\n",
       "      return new Promise(function(resolve, reject) {\n",
       "        var s = document.createElement('script');\n",
       "        s.src = paths[lib];\n",
       "        s.async = true;\n",
       "        s.onload = () => resolve(paths[lib]);\n",
       "        s.onerror = () => reject(`Error loading script: ${paths[lib]}`);\n",
       "        document.getElementsByTagName(\"head\")[0].appendChild(s);\n",
       "      });\n",
       "    }\n",
       "\n",
       "    function showError(err) {\n",
       "      outputDiv.innerHTML = `<div class=\"error\" style=\"color:red;\">${err}</div>`;\n",
       "      throw err;\n",
       "    }\n",
       "\n",
       "    function displayChart(vegaEmbed) {\n",
       "      vegaEmbed(outputDiv, spec, embedOpt)\n",
       "        .catch(err => showError(`Javascript Error: ${err.message}<br>This usually means there's a typo in your chart specification. See the javascript console for the full traceback.`));\n",
       "    }\n",
       "\n",
       "    if(typeof define === \"function\" && define.amd) {\n",
       "      requirejs.config({paths});\n",
       "      require([\"vega-embed\"], displayChart, err => showError(`Error loading script: ${err.message}`));\n",
       "    } else if (typeof vegaEmbed === \"function\") {\n",
       "      displayChart(vegaEmbed);\n",
       "    } else {\n",
       "      loadScript(\"vega\")\n",
       "        .then(() => loadScript(\"vega-lite\"))\n",
       "        .then(() => loadScript(\"vega-embed\"))\n",
       "        .catch(showError)\n",
       "        .then(() => displayChart(vegaEmbed));\n",
       "    }\n",
       "  })({\"config\": {\"view\": {\"continuousWidth\": 400, \"continuousHeight\": 300}}, \"layer\": [{\"mark\": \"bar\", \"encoding\": {\"color\": {\"type\": \"nominal\", \"field\": \"name\"}, \"x\": {\"type\": \"quantitative\", \"axis\": {\"labelFontSize\": 12, \"title\": \"Number of Cases\", \"titleFontSize\": 12}, \"field\": \"id\"}, \"y\": {\"type\": \"nominal\", \"axis\": {\"labelFontSize\": 12, \"title\": \"Court\", \"titleFontSize\": 12}, \"field\": \"name\"}}, \"height\": 250, \"title\": \"Finanzgerichtsbarkeit\", \"width\": 500}, {\"mark\": {\"type\": \"text\", \"align\": \"left\", \"baseline\": \"middle\", \"dx\": 3}, \"encoding\": {\"color\": {\"type\": \"nominal\", \"field\": \"name\"}, \"text\": {\"type\": \"quantitative\", \"field\": \"id\"}, \"x\": {\"type\": \"quantitative\", \"axis\": {\"labelFontSize\": 12, \"title\": \"Number of Cases\", \"titleFontSize\": 12}, \"field\": \"id\"}, \"y\": {\"type\": \"nominal\", \"axis\": {\"labelFontSize\": 12, \"title\": \"Court\", \"titleFontSize\": 12}, \"field\": \"name\"}}, \"height\": 250, \"title\": \"Finanzgerichtsbarkeit\", \"width\": 500}], \"data\": {\"name\": \"data-07e92a4b1055cb7e6a723abd88f92b77\"}, \"$schema\": \"https://vega.github.io/schema/vega-lite/v4.8.1.json\", \"datasets\": {\"data-07e92a4b1055cb7e6a723abd88f92b77\": [{\"name\": \"Finanzgericht Hamburg\", \"id\": 389}, {\"name\": \"Finanzgericht Baden-W\\u00fcrttemberg\", \"id\": 208}, {\"name\": \"Finanzgericht K\\u00f6ln\", \"id\": 198}, {\"name\": \"Finanzgericht M\\u00fcnster\", \"id\": 189}, {\"name\": \"Finanzgericht D\\u00fcsseldorf\", \"id\": 187}, {\"name\": \"Finanzgericht Rheinland-Pfalz\", \"id\": 115}, {\"name\": \"Finanzgericht des Landes Sachsen-Anhalt\", \"id\": 75}]}}, {\"mode\": \"vega-lite\"});\n",
       "</script>"
      ],
      "text/plain": [
       "alt.LayerChart(...)"
      ]
     },
     "execution_count": 74,
     "metadata": {},
     "output_type": "execute_result"
    }
   ],
   "source": [
    "j_charts[\"Finanzgerichtsbarkeit\"]"
   ]
  },
  {
   "cell_type": "markdown",
   "metadata": {},
   "source": [
    "### Ordentlich Gerichtsbarkeit"
   ]
  },
  {
   "cell_type": "code",
   "execution_count": 75,
   "metadata": {},
   "outputs": [
    {
     "data": {
      "text/html": [
       "\n",
       "<div id=\"altair-viz-d4fa4f5a32204d0babf714f2b87a97bc\"></div>\n",
       "<script type=\"text/javascript\">\n",
       "  (function(spec, embedOpt){\n",
       "    let outputDiv = document.currentScript.previousElementSibling;\n",
       "    if (outputDiv.id !== \"altair-viz-d4fa4f5a32204d0babf714f2b87a97bc\") {\n",
       "      outputDiv = document.getElementById(\"altair-viz-d4fa4f5a32204d0babf714f2b87a97bc\");\n",
       "    }\n",
       "    const paths = {\n",
       "      \"vega\": \"https://cdn.jsdelivr.net/npm//vega@5?noext\",\n",
       "      \"vega-lib\": \"https://cdn.jsdelivr.net/npm//vega-lib?noext\",\n",
       "      \"vega-lite\": \"https://cdn.jsdelivr.net/npm//vega-lite@4.8.1?noext\",\n",
       "      \"vega-embed\": \"https://cdn.jsdelivr.net/npm//vega-embed@6?noext\",\n",
       "    };\n",
       "\n",
       "    function loadScript(lib) {\n",
       "      return new Promise(function(resolve, reject) {\n",
       "        var s = document.createElement('script');\n",
       "        s.src = paths[lib];\n",
       "        s.async = true;\n",
       "        s.onload = () => resolve(paths[lib]);\n",
       "        s.onerror = () => reject(`Error loading script: ${paths[lib]}`);\n",
       "        document.getElementsByTagName(\"head\")[0].appendChild(s);\n",
       "      });\n",
       "    }\n",
       "\n",
       "    function showError(err) {\n",
       "      outputDiv.innerHTML = `<div class=\"error\" style=\"color:red;\">${err}</div>`;\n",
       "      throw err;\n",
       "    }\n",
       "\n",
       "    function displayChart(vegaEmbed) {\n",
       "      vegaEmbed(outputDiv, spec, embedOpt)\n",
       "        .catch(err => showError(`Javascript Error: ${err.message}<br>This usually means there's a typo in your chart specification. See the javascript console for the full traceback.`));\n",
       "    }\n",
       "\n",
       "    if(typeof define === \"function\" && define.amd) {\n",
       "      requirejs.config({paths});\n",
       "      require([\"vega-embed\"], displayChart, err => showError(`Error loading script: ${err.message}`));\n",
       "    } else if (typeof vegaEmbed === \"function\") {\n",
       "      displayChart(vegaEmbed);\n",
       "    } else {\n",
       "      loadScript(\"vega\")\n",
       "        .then(() => loadScript(\"vega-lite\"))\n",
       "        .then(() => loadScript(\"vega-embed\"))\n",
       "        .catch(showError)\n",
       "        .then(() => displayChart(vegaEmbed));\n",
       "    }\n",
       "  })({\"config\": {\"view\": {\"continuousWidth\": 400, \"continuousHeight\": 300}}, \"layer\": [{\"mark\": \"bar\", \"encoding\": {\"color\": {\"type\": \"nominal\", \"field\": \"name\"}, \"x\": {\"type\": \"quantitative\", \"axis\": {\"labelFontSize\": 12, \"title\": \"Number of Cases\", \"titleFontSize\": 12}, \"field\": \"id\"}, \"y\": {\"type\": \"nominal\", \"axis\": {\"labelFontSize\": 12, \"title\": \"Court\", \"titleFontSize\": 12}, \"field\": \"name\"}}, \"height\": 250, \"title\": \"Ordentliche Gerichtsbarkeit\", \"width\": 500}, {\"mark\": {\"type\": \"text\", \"align\": \"left\", \"baseline\": \"middle\", \"dx\": 3}, \"encoding\": {\"color\": {\"type\": \"nominal\", \"field\": \"name\"}, \"text\": {\"type\": \"quantitative\", \"field\": \"id\"}, \"x\": {\"type\": \"quantitative\", \"axis\": {\"labelFontSize\": 12, \"title\": \"Number of Cases\", \"titleFontSize\": 12}, \"field\": \"id\"}, \"y\": {\"type\": \"nominal\", \"axis\": {\"labelFontSize\": 12, \"title\": \"Court\", \"titleFontSize\": 12}, \"field\": \"name\"}}, \"height\": 250, \"title\": \"Ordentliche Gerichtsbarkeit\", \"width\": 500}], \"data\": {\"name\": \"data-b6b0067b68998f79f2c18217362d2b3b\"}, \"$schema\": \"https://vega.github.io/schema/vega-lite/v4.8.1.json\", \"datasets\": {\"data-b6b0067b68998f79f2c18217362d2b3b\": [{\"name\": \"Oberlandesgericht Hamm\", \"id\": 1042}, {\"name\": \"Oberlandesgericht D\\u00fcsseldorf\", \"id\": 968}, {\"name\": \"Oberlandesgericht K\\u00f6ln\", \"id\": 783}, {\"name\": \"Landgericht Hamburg\", \"id\": 761}, {\"name\": \"Landgericht D\\u00fcsseldorf\", \"id\": 413}, {\"name\": \"Landgericht K\\u00f6ln\", \"id\": 401}, {\"name\": \"Oberlandesgericht Karlsruhe\", \"id\": 382}]}}, {\"mode\": \"vega-lite\"});\n",
       "</script>"
      ],
      "text/plain": [
       "alt.LayerChart(...)"
      ]
     },
     "execution_count": 75,
     "metadata": {},
     "output_type": "execute_result"
    }
   ],
   "source": [
    "j_charts[\"Ordentliche Gerichtsbarkeit\"]"
   ]
  },
  {
   "cell_type": "markdown",
   "metadata": {},
   "source": [
    "### Sozialgerichtsbarkeit"
   ]
  },
  {
   "cell_type": "code",
   "execution_count": 76,
   "metadata": {},
   "outputs": [
    {
     "data": {
      "text/html": [
       "\n",
       "<div id=\"altair-viz-5aaac21c9f5b46aa931236a8807d39d4\"></div>\n",
       "<script type=\"text/javascript\">\n",
       "  (function(spec, embedOpt){\n",
       "    let outputDiv = document.currentScript.previousElementSibling;\n",
       "    if (outputDiv.id !== \"altair-viz-5aaac21c9f5b46aa931236a8807d39d4\") {\n",
       "      outputDiv = document.getElementById(\"altair-viz-5aaac21c9f5b46aa931236a8807d39d4\");\n",
       "    }\n",
       "    const paths = {\n",
       "      \"vega\": \"https://cdn.jsdelivr.net/npm//vega@5?noext\",\n",
       "      \"vega-lib\": \"https://cdn.jsdelivr.net/npm//vega-lib?noext\",\n",
       "      \"vega-lite\": \"https://cdn.jsdelivr.net/npm//vega-lite@4.8.1?noext\",\n",
       "      \"vega-embed\": \"https://cdn.jsdelivr.net/npm//vega-embed@6?noext\",\n",
       "    };\n",
       "\n",
       "    function loadScript(lib) {\n",
       "      return new Promise(function(resolve, reject) {\n",
       "        var s = document.createElement('script');\n",
       "        s.src = paths[lib];\n",
       "        s.async = true;\n",
       "        s.onload = () => resolve(paths[lib]);\n",
       "        s.onerror = () => reject(`Error loading script: ${paths[lib]}`);\n",
       "        document.getElementsByTagName(\"head\")[0].appendChild(s);\n",
       "      });\n",
       "    }\n",
       "\n",
       "    function showError(err) {\n",
       "      outputDiv.innerHTML = `<div class=\"error\" style=\"color:red;\">${err}</div>`;\n",
       "      throw err;\n",
       "    }\n",
       "\n",
       "    function displayChart(vegaEmbed) {\n",
       "      vegaEmbed(outputDiv, spec, embedOpt)\n",
       "        .catch(err => showError(`Javascript Error: ${err.message}<br>This usually means there's a typo in your chart specification. See the javascript console for the full traceback.`));\n",
       "    }\n",
       "\n",
       "    if(typeof define === \"function\" && define.amd) {\n",
       "      requirejs.config({paths});\n",
       "      require([\"vega-embed\"], displayChart, err => showError(`Error loading script: ${err.message}`));\n",
       "    } else if (typeof vegaEmbed === \"function\") {\n",
       "      displayChart(vegaEmbed);\n",
       "    } else {\n",
       "      loadScript(\"vega\")\n",
       "        .then(() => loadScript(\"vega-lite\"))\n",
       "        .then(() => loadScript(\"vega-embed\"))\n",
       "        .catch(showError)\n",
       "        .then(() => displayChart(vegaEmbed));\n",
       "    }\n",
       "  })({\"config\": {\"view\": {\"continuousWidth\": 400, \"continuousHeight\": 300}}, \"layer\": [{\"mark\": \"bar\", \"encoding\": {\"color\": {\"type\": \"nominal\", \"field\": \"name\"}, \"x\": {\"type\": \"quantitative\", \"axis\": {\"labelFontSize\": 12, \"title\": \"Number of Cases\", \"titleFontSize\": 12}, \"field\": \"id\"}, \"y\": {\"type\": \"nominal\", \"axis\": {\"labelFontSize\": 12, \"title\": \"Court\", \"titleFontSize\": 12}, \"field\": \"name\"}}, \"height\": 250, \"title\": \"Sozialgerichtsbarkeit\", \"width\": 500}, {\"mark\": {\"type\": \"text\", \"align\": \"left\", \"baseline\": \"middle\", \"dx\": 3}, \"encoding\": {\"color\": {\"type\": \"nominal\", \"field\": \"name\"}, \"text\": {\"type\": \"quantitative\", \"field\": \"id\"}, \"x\": {\"type\": \"quantitative\", \"axis\": {\"labelFontSize\": 12, \"title\": \"Number of Cases\", \"titleFontSize\": 12}, \"field\": \"id\"}, \"y\": {\"type\": \"nominal\", \"axis\": {\"labelFontSize\": 12, \"title\": \"Court\", \"titleFontSize\": 12}, \"field\": \"name\"}}, \"height\": 250, \"title\": \"Sozialgerichtsbarkeit\", \"width\": 500}], \"data\": {\"name\": \"data-968aad784fc8607ec8fcbde5a0764f77\"}, \"$schema\": \"https://vega.github.io/schema/vega-lite/v4.8.1.json\", \"datasets\": {\"data-968aad784fc8607ec8fcbde5a0764f77\": [{\"name\": \"Landessozialgericht NRW\", \"id\": 574}, {\"name\": \"Landessozialgericht Baden-W\\u00fcrttemberg\", \"id\": 386}, {\"name\": \"Landessozialgericht Sachsen-Anhalt\", \"id\": 318}, {\"name\": \"Landessozialgericht Niedersachsen-Bremen\", \"id\": 238}, {\"name\": \"Schleswig-Holsteinisches Landessozialgericht\", \"id\": 168}, {\"name\": \"Sozialgericht Karlsruhe\", \"id\": 118}, {\"name\": \"Sozialgericht Aachen\", \"id\": 100}]}}, {\"mode\": \"vega-lite\"});\n",
       "</script>"
      ],
      "text/plain": [
       "alt.LayerChart(...)"
      ]
     },
     "execution_count": 76,
     "metadata": {},
     "output_type": "execute_result"
    }
   ],
   "source": [
    "j_charts[\"Sozialgerichtsbarkeit\"]"
   ]
  },
  {
   "cell_type": "markdown",
   "metadata": {},
   "source": [
    "### Verwaltungsgerichtsbarkeit"
   ]
  },
  {
   "cell_type": "code",
   "execution_count": 77,
   "metadata": {},
   "outputs": [
    {
     "data": {
      "text/html": [
       "\n",
       "<div id=\"altair-viz-bf98401660f74182ba86935ce818e10c\"></div>\n",
       "<script type=\"text/javascript\">\n",
       "  (function(spec, embedOpt){\n",
       "    let outputDiv = document.currentScript.previousElementSibling;\n",
       "    if (outputDiv.id !== \"altair-viz-bf98401660f74182ba86935ce818e10c\") {\n",
       "      outputDiv = document.getElementById(\"altair-viz-bf98401660f74182ba86935ce818e10c\");\n",
       "    }\n",
       "    const paths = {\n",
       "      \"vega\": \"https://cdn.jsdelivr.net/npm//vega@5?noext\",\n",
       "      \"vega-lib\": \"https://cdn.jsdelivr.net/npm//vega-lib?noext\",\n",
       "      \"vega-lite\": \"https://cdn.jsdelivr.net/npm//vega-lite@4.8.1?noext\",\n",
       "      \"vega-embed\": \"https://cdn.jsdelivr.net/npm//vega-embed@6?noext\",\n",
       "    };\n",
       "\n",
       "    function loadScript(lib) {\n",
       "      return new Promise(function(resolve, reject) {\n",
       "        var s = document.createElement('script');\n",
       "        s.src = paths[lib];\n",
       "        s.async = true;\n",
       "        s.onload = () => resolve(paths[lib]);\n",
       "        s.onerror = () => reject(`Error loading script: ${paths[lib]}`);\n",
       "        document.getElementsByTagName(\"head\")[0].appendChild(s);\n",
       "      });\n",
       "    }\n",
       "\n",
       "    function showError(err) {\n",
       "      outputDiv.innerHTML = `<div class=\"error\" style=\"color:red;\">${err}</div>`;\n",
       "      throw err;\n",
       "    }\n",
       "\n",
       "    function displayChart(vegaEmbed) {\n",
       "      vegaEmbed(outputDiv, spec, embedOpt)\n",
       "        .catch(err => showError(`Javascript Error: ${err.message}<br>This usually means there's a typo in your chart specification. See the javascript console for the full traceback.`));\n",
       "    }\n",
       "\n",
       "    if(typeof define === \"function\" && define.amd) {\n",
       "      requirejs.config({paths});\n",
       "      require([\"vega-embed\"], displayChart, err => showError(`Error loading script: ${err.message}`));\n",
       "    } else if (typeof vegaEmbed === \"function\") {\n",
       "      displayChart(vegaEmbed);\n",
       "    } else {\n",
       "      loadScript(\"vega\")\n",
       "        .then(() => loadScript(\"vega-lite\"))\n",
       "        .then(() => loadScript(\"vega-embed\"))\n",
       "        .catch(showError)\n",
       "        .then(() => displayChart(vegaEmbed));\n",
       "    }\n",
       "  })({\"config\": {\"view\": {\"continuousWidth\": 400, \"continuousHeight\": 300}}, \"layer\": [{\"mark\": \"bar\", \"encoding\": {\"color\": {\"type\": \"nominal\", \"field\": \"name\"}, \"x\": {\"type\": \"quantitative\", \"axis\": {\"labelFontSize\": 12, \"title\": \"Number of Cases\", \"titleFontSize\": 12}, \"field\": \"id\"}, \"y\": {\"type\": \"nominal\", \"axis\": {\"labelFontSize\": 12, \"title\": \"Court\", \"titleFontSize\": 12}, \"field\": \"name\"}}, \"height\": 250, \"title\": \"Verwaltungsgerichtsbarkeit\", \"width\": 500}, {\"mark\": {\"type\": \"text\", \"align\": \"left\", \"baseline\": \"middle\", \"dx\": 3}, \"encoding\": {\"color\": {\"type\": \"nominal\", \"field\": \"name\"}, \"text\": {\"type\": \"quantitative\", \"field\": \"id\"}, \"x\": {\"type\": \"quantitative\", \"axis\": {\"labelFontSize\": 12, \"title\": \"Number of Cases\", \"titleFontSize\": 12}, \"field\": \"id\"}, \"y\": {\"type\": \"nominal\", \"axis\": {\"labelFontSize\": 12, \"title\": \"Court\", \"titleFontSize\": 12}, \"field\": \"name\"}}, \"height\": 250, \"title\": \"Verwaltungsgerichtsbarkeit\", \"width\": 500}], \"data\": {\"name\": \"data-58ff05f898cd0e5f76d0387091262366\"}, \"$schema\": \"https://vega.github.io/schema/vega-lite/v4.8.1.json\", \"datasets\": {\"data-58ff05f898cd0e5f76d0387091262366\": [{\"name\": \"Oberverwaltungsgericht Nordrhein-Westfalen\", \"id\": 1819}, {\"name\": \"Verwaltungsgericht K\\u00f6ln\", \"id\": 1035}, {\"name\": \"Verwaltungsgericht D\\u00fcsseldorf\", \"id\": 951}, {\"name\": \"Nieders\\u00e4chsisches Oberverwaltungsgericht\", \"id\": 844}, {\"name\": \"Verwaltungsgericht Gelsenkirchen\", \"id\": 817}, {\"name\": \"Schleswig-Holsteinisches Verwaltungsgericht\", \"id\": 747}, {\"name\": \"Verwaltungsgerichtshof Baden-W\\u00fcrttemberg\", \"id\": 609}]}}, {\"mode\": \"vega-lite\"});\n",
       "</script>"
      ],
      "text/plain": [
       "alt.LayerChart(...)"
      ]
     },
     "execution_count": 77,
     "metadata": {},
     "output_type": "execute_result"
    }
   ],
   "source": [
    "j_charts[\"Verwaltungsgerichtsbarkeit\"]"
   ]
  },
  {
   "cell_type": "markdown",
   "metadata": {},
   "source": [
    "## Cases By State\n",
    "\n",
    "We can also visualize interesting facts about the German Federal States."
   ]
  },
  {
   "cell_type": "code",
   "execution_count": 78,
   "metadata": {},
   "outputs": [
    {
     "data": {
      "text/html": [
       "\n",
       "<div id=\"altair-viz-03a1345515d149eba0abd72145872de2\"></div>\n",
       "<script type=\"text/javascript\">\n",
       "  (function(spec, embedOpt){\n",
       "    let outputDiv = document.currentScript.previousElementSibling;\n",
       "    if (outputDiv.id !== \"altair-viz-03a1345515d149eba0abd72145872de2\") {\n",
       "      outputDiv = document.getElementById(\"altair-viz-03a1345515d149eba0abd72145872de2\");\n",
       "    }\n",
       "    const paths = {\n",
       "      \"vega\": \"https://cdn.jsdelivr.net/npm//vega@5?noext\",\n",
       "      \"vega-lib\": \"https://cdn.jsdelivr.net/npm//vega-lib?noext\",\n",
       "      \"vega-lite\": \"https://cdn.jsdelivr.net/npm//vega-lite@4.8.1?noext\",\n",
       "      \"vega-embed\": \"https://cdn.jsdelivr.net/npm//vega-embed@6?noext\",\n",
       "    };\n",
       "\n",
       "    function loadScript(lib) {\n",
       "      return new Promise(function(resolve, reject) {\n",
       "        var s = document.createElement('script');\n",
       "        s.src = paths[lib];\n",
       "        s.async = true;\n",
       "        s.onload = () => resolve(paths[lib]);\n",
       "        s.onerror = () => reject(`Error loading script: ${paths[lib]}`);\n",
       "        document.getElementsByTagName(\"head\")[0].appendChild(s);\n",
       "      });\n",
       "    }\n",
       "\n",
       "    function showError(err) {\n",
       "      outputDiv.innerHTML = `<div class=\"error\" style=\"color:red;\">${err}</div>`;\n",
       "      throw err;\n",
       "    }\n",
       "\n",
       "    function displayChart(vegaEmbed) {\n",
       "      vegaEmbed(outputDiv, spec, embedOpt)\n",
       "        .catch(err => showError(`Javascript Error: ${err.message}<br>This usually means there's a typo in your chart specification. See the javascript console for the full traceback.`));\n",
       "    }\n",
       "\n",
       "    if(typeof define === \"function\" && define.amd) {\n",
       "      requirejs.config({paths});\n",
       "      require([\"vega-embed\"], displayChart, err => showError(`Error loading script: ${err.message}`));\n",
       "    } else if (typeof vegaEmbed === \"function\") {\n",
       "      displayChart(vegaEmbed);\n",
       "    } else {\n",
       "      loadScript(\"vega\")\n",
       "        .then(() => loadScript(\"vega-lite\"))\n",
       "        .then(() => loadScript(\"vega-embed\"))\n",
       "        .catch(showError)\n",
       "        .then(() => displayChart(vegaEmbed));\n",
       "    }\n",
       "  })({\"config\": {\"view\": {\"continuousWidth\": 400, \"continuousHeight\": 300}}, \"layer\": [{\"mark\": \"bar\", \"encoding\": {\"color\": {\"type\": \"nominal\", \"field\": \"jurisdiction\"}, \"x\": {\"type\": \"quantitative\", \"axis\": {\"labelFontSize\": 12, \"title\": \"Number of Cases\", \"titleFontSize\": 12}, \"field\": \"slug\"}, \"y\": {\"type\": \"nominal\", \"axis\": {\"labelFontSize\": 12, \"title\": \"Jurisdiction\", \"titleFontSize\": 12}, \"field\": \"jurisdiction\"}}, \"title\": \"Bayern\"}, {\"mark\": {\"type\": \"text\", \"align\": \"left\", \"baseline\": \"middle\", \"dx\": 3}, \"encoding\": {\"color\": {\"type\": \"nominal\", \"field\": \"jurisdiction\"}, \"text\": {\"type\": \"quantitative\", \"field\": \"slug\"}, \"x\": {\"type\": \"quantitative\", \"axis\": {\"labelFontSize\": 12, \"title\": \"Number of Cases\", \"titleFontSize\": 12}, \"field\": \"slug\"}, \"y\": {\"type\": \"nominal\", \"axis\": {\"labelFontSize\": 12, \"title\": \"Jurisdiction\", \"titleFontSize\": 12}, \"field\": \"jurisdiction\"}}, \"title\": \"Bayern\"}], \"data\": {\"name\": \"data-a8440dca4915a0eb5412f64490d5b9f2\"}, \"height\": 200, \"width\": 470, \"$schema\": \"https://vega.github.io/schema/vega-lite/v4.8.1.json\", \"datasets\": {\"data-a8440dca4915a0eb5412f64490d5b9f2\": [{\"state\": \"Bayern\", \"jurisdiction\": \"Arbeitsgerichtsbarkeit\", \"slug\": 1}, {\"state\": \"Bayern\", \"jurisdiction\": \"Finanzgerichtsbarkeit\", \"slug\": 15}, {\"state\": \"Bayern\", \"jurisdiction\": \"Ordentliche Gerichtsbarkeit\", \"slug\": 123}, {\"state\": \"Bayern\", \"jurisdiction\": \"Sozialgerichtsbarkeit\", \"slug\": 14}, {\"state\": \"Bayern\", \"jurisdiction\": \"Verwaltungsgerichtsbarkeit\", \"slug\": 252}]}}, {\"mode\": \"vega-lite\"});\n",
       "</script>"
      ],
      "text/plain": [
       "alt.LayerChart(...)"
      ]
     },
     "execution_count": 78,
     "metadata": {},
     "output_type": "execute_result"
    }
   ],
   "source": [
    "state_data = merged.loc[merged[\"name\"].str.contains(\"Bund\")==False].groupby([\"state\",\"jurisdiction\"]).count()[\"slug\"]\n",
    "state_data = state_data.reset_index()\n",
    "\n",
    "s = {}\n",
    "for i in state_data[\"state\"].unique():\n",
    "    s[i] = state_data.loc[state_data[\"state\"]==i]\n",
    "\n",
    "s_charts = {}\n",
    "for key in s:\n",
    "    b = alt.Chart(s[key], title = key).mark_bar().encode(\n",
    "        y = alt.Y(\"jurisdiction\", axis = alt.Axis(title=\"Jurisdiction\", titleFontSize=12,\n",
    "                                                  labelFontSize=12)),\n",
    "        x = alt.X(\"slug\", axis = alt.Axis(title = \"Number of Cases\", titleFontSize =12,\n",
    "                                         labelFontSize=12)),\n",
    "        color = \"jurisdiction\")\n",
    "    s_charts[key] = b\n",
    "    t = b.mark_text(align =\"left\",\n",
    "                   baseline = \"middle\",\n",
    "                   dx = 3).encode(text = \"slug\")\n",
    "    s_charts[key] = (b+t).properties(width = 470, height = 200)\n",
    "\n",
    "s_charts[\"Bayern\"]\n"
   ]
  },
  {
   "cell_type": "code",
   "execution_count": 79,
   "metadata": {},
   "outputs": [
    {
     "data": {
      "text/html": [
       "\n",
       "<div id=\"altair-viz-255caae9de154555890d5c2f9ed61f2d\"></div>\n",
       "<script type=\"text/javascript\">\n",
       "  (function(spec, embedOpt){\n",
       "    let outputDiv = document.currentScript.previousElementSibling;\n",
       "    if (outputDiv.id !== \"altair-viz-255caae9de154555890d5c2f9ed61f2d\") {\n",
       "      outputDiv = document.getElementById(\"altair-viz-255caae9de154555890d5c2f9ed61f2d\");\n",
       "    }\n",
       "    const paths = {\n",
       "      \"vega\": \"https://cdn.jsdelivr.net/npm//vega@5?noext\",\n",
       "      \"vega-lib\": \"https://cdn.jsdelivr.net/npm//vega-lib?noext\",\n",
       "      \"vega-lite\": \"https://cdn.jsdelivr.net/npm//vega-lite@4.8.1?noext\",\n",
       "      \"vega-embed\": \"https://cdn.jsdelivr.net/npm//vega-embed@6?noext\",\n",
       "    };\n",
       "\n",
       "    function loadScript(lib) {\n",
       "      return new Promise(function(resolve, reject) {\n",
       "        var s = document.createElement('script');\n",
       "        s.src = paths[lib];\n",
       "        s.async = true;\n",
       "        s.onload = () => resolve(paths[lib]);\n",
       "        s.onerror = () => reject(`Error loading script: ${paths[lib]}`);\n",
       "        document.getElementsByTagName(\"head\")[0].appendChild(s);\n",
       "      });\n",
       "    }\n",
       "\n",
       "    function showError(err) {\n",
       "      outputDiv.innerHTML = `<div class=\"error\" style=\"color:red;\">${err}</div>`;\n",
       "      throw err;\n",
       "    }\n",
       "\n",
       "    function displayChart(vegaEmbed) {\n",
       "      vegaEmbed(outputDiv, spec, embedOpt)\n",
       "        .catch(err => showError(`Javascript Error: ${err.message}<br>This usually means there's a typo in your chart specification. See the javascript console for the full traceback.`));\n",
       "    }\n",
       "\n",
       "    if(typeof define === \"function\" && define.amd) {\n",
       "      requirejs.config({paths});\n",
       "      require([\"vega-embed\"], displayChart, err => showError(`Error loading script: ${err.message}`));\n",
       "    } else if (typeof vegaEmbed === \"function\") {\n",
       "      displayChart(vegaEmbed);\n",
       "    } else {\n",
       "      loadScript(\"vega\")\n",
       "        .then(() => loadScript(\"vega-lite\"))\n",
       "        .then(() => loadScript(\"vega-embed\"))\n",
       "        .catch(showError)\n",
       "        .then(() => displayChart(vegaEmbed));\n",
       "    }\n",
       "  })({\"config\": {\"view\": {\"continuousWidth\": 400, \"continuousHeight\": 300}}, \"layer\": [{\"mark\": \"bar\", \"encoding\": {\"color\": {\"type\": \"nominal\", \"field\": \"jurisdiction\"}, \"x\": {\"type\": \"quantitative\", \"axis\": {\"labelFontSize\": 12, \"title\": \"Number of Cases\", \"titleFontSize\": 12}, \"field\": \"slug\"}, \"y\": {\"type\": \"nominal\", \"axis\": {\"labelFontSize\": 12, \"title\": \"Jurisdiction\", \"titleFontSize\": 12}, \"field\": \"jurisdiction\"}}, \"title\": \"Baden-W\\u00fcrttemberg\"}, {\"mark\": {\"type\": \"text\", \"align\": \"left\", \"baseline\": \"middle\", \"dx\": 3}, \"encoding\": {\"color\": {\"type\": \"nominal\", \"field\": \"jurisdiction\"}, \"text\": {\"type\": \"quantitative\", \"field\": \"slug\"}, \"x\": {\"type\": \"quantitative\", \"axis\": {\"labelFontSize\": 12, \"title\": \"Number of Cases\", \"titleFontSize\": 12}, \"field\": \"slug\"}, \"y\": {\"type\": \"nominal\", \"axis\": {\"labelFontSize\": 12, \"title\": \"Jurisdiction\", \"titleFontSize\": 12}, \"field\": \"jurisdiction\"}}, \"title\": \"Baden-W\\u00fcrttemberg\"}], \"data\": {\"name\": \"data-539d759e989027655cb3de5e4d196105\"}, \"height\": 200, \"width\": 470, \"$schema\": \"https://vega.github.io/schema/vega-lite/v4.8.1.json\", \"datasets\": {\"data-539d759e989027655cb3de5e4d196105\": [{\"state\": \"Baden-W\\u00fcrttemberg\", \"jurisdiction\": \"Arbeitsgerichtsbarkeit\", \"slug\": 46}, {\"state\": \"Baden-W\\u00fcrttemberg\", \"jurisdiction\": \"Finanzgerichtsbarkeit\", \"slug\": 208}, {\"state\": \"Baden-W\\u00fcrttemberg\", \"jurisdiction\": \"Ordentliche Gerichtsbarkeit\", \"slug\": 1036}, {\"state\": \"Baden-W\\u00fcrttemberg\", \"jurisdiction\": \"Sozialgerichtsbarkeit\", \"slug\": 534}, {\"state\": \"Baden-W\\u00fcrttemberg\", \"jurisdiction\": \"Verwaltungsgerichtsbarkeit\", \"slug\": 1314}]}}, {\"mode\": \"vega-lite\"});\n",
       "</script>"
      ],
      "text/plain": [
       "alt.LayerChart(...)"
      ]
     },
     "execution_count": 79,
     "metadata": {},
     "output_type": "execute_result"
    }
   ],
   "source": [
    "s_charts[\"Baden-Württemberg\"]"
   ]
  },
  {
   "cell_type": "code",
   "execution_count": 80,
   "metadata": {},
   "outputs": [
    {
     "data": {
      "text/html": [
       "\n",
       "<div id=\"altair-viz-050a92d2dcba4d229a4d5abd8fbc069b\"></div>\n",
       "<script type=\"text/javascript\">\n",
       "  (function(spec, embedOpt){\n",
       "    let outputDiv = document.currentScript.previousElementSibling;\n",
       "    if (outputDiv.id !== \"altair-viz-050a92d2dcba4d229a4d5abd8fbc069b\") {\n",
       "      outputDiv = document.getElementById(\"altair-viz-050a92d2dcba4d229a4d5abd8fbc069b\");\n",
       "    }\n",
       "    const paths = {\n",
       "      \"vega\": \"https://cdn.jsdelivr.net/npm//vega@5?noext\",\n",
       "      \"vega-lib\": \"https://cdn.jsdelivr.net/npm//vega-lib?noext\",\n",
       "      \"vega-lite\": \"https://cdn.jsdelivr.net/npm//vega-lite@4.8.1?noext\",\n",
       "      \"vega-embed\": \"https://cdn.jsdelivr.net/npm//vega-embed@6?noext\",\n",
       "    };\n",
       "\n",
       "    function loadScript(lib) {\n",
       "      return new Promise(function(resolve, reject) {\n",
       "        var s = document.createElement('script');\n",
       "        s.src = paths[lib];\n",
       "        s.async = true;\n",
       "        s.onload = () => resolve(paths[lib]);\n",
       "        s.onerror = () => reject(`Error loading script: ${paths[lib]}`);\n",
       "        document.getElementsByTagName(\"head\")[0].appendChild(s);\n",
       "      });\n",
       "    }\n",
       "\n",
       "    function showError(err) {\n",
       "      outputDiv.innerHTML = `<div class=\"error\" style=\"color:red;\">${err}</div>`;\n",
       "      throw err;\n",
       "    }\n",
       "\n",
       "    function displayChart(vegaEmbed) {\n",
       "      vegaEmbed(outputDiv, spec, embedOpt)\n",
       "        .catch(err => showError(`Javascript Error: ${err.message}<br>This usually means there's a typo in your chart specification. See the javascript console for the full traceback.`));\n",
       "    }\n",
       "\n",
       "    if(typeof define === \"function\" && define.amd) {\n",
       "      requirejs.config({paths});\n",
       "      require([\"vega-embed\"], displayChart, err => showError(`Error loading script: ${err.message}`));\n",
       "    } else if (typeof vegaEmbed === \"function\") {\n",
       "      displayChart(vegaEmbed);\n",
       "    } else {\n",
       "      loadScript(\"vega\")\n",
       "        .then(() => loadScript(\"vega-lite\"))\n",
       "        .then(() => loadScript(\"vega-embed\"))\n",
       "        .catch(showError)\n",
       "        .then(() => displayChart(vegaEmbed));\n",
       "    }\n",
       "  })({\"config\": {\"view\": {\"continuousWidth\": 400, \"continuousHeight\": 300}}, \"layer\": [{\"mark\": \"bar\", \"encoding\": {\"color\": {\"type\": \"nominal\", \"field\": \"jurisdiction\"}, \"x\": {\"type\": \"quantitative\", \"axis\": {\"labelFontSize\": 12, \"title\": \"Number of Cases\", \"titleFontSize\": 12}, \"field\": \"slug\"}, \"y\": {\"type\": \"nominal\", \"axis\": {\"labelFontSize\": 12, \"title\": \"Jurisdiction\", \"titleFontSize\": 12}, \"field\": \"jurisdiction\"}}, \"title\": \"Nordrhein-Westfalen\"}, {\"mark\": {\"type\": \"text\", \"align\": \"left\", \"baseline\": \"middle\", \"dx\": 3}, \"encoding\": {\"color\": {\"type\": \"nominal\", \"field\": \"jurisdiction\"}, \"text\": {\"type\": \"quantitative\", \"field\": \"slug\"}, \"x\": {\"type\": \"quantitative\", \"axis\": {\"labelFontSize\": 12, \"title\": \"Number of Cases\", \"titleFontSize\": 12}, \"field\": \"slug\"}, \"y\": {\"type\": \"nominal\", \"axis\": {\"labelFontSize\": 12, \"title\": \"Jurisdiction\", \"titleFontSize\": 12}, \"field\": \"jurisdiction\"}}, \"title\": \"Nordrhein-Westfalen\"}], \"data\": {\"name\": \"data-9abefe499f4aa5b7a35a0d9dce3e97ca\"}, \"height\": 200, \"width\": 470, \"$schema\": \"https://vega.github.io/schema/vega-lite/v4.8.1.json\", \"datasets\": {\"data-9abefe499f4aa5b7a35a0d9dce3e97ca\": [{\"state\": \"Nordrhein-Westfalen\", \"jurisdiction\": \"Arbeitsgerichtsbarkeit\", \"slug\": 1136}, {\"state\": \"Nordrhein-Westfalen\", \"jurisdiction\": \"Finanzgerichtsbarkeit\", \"slug\": 574}, {\"state\": \"Nordrhein-Westfalen\", \"jurisdiction\": \"Ordentliche Gerichtsbarkeit\", \"slug\": 5915}, {\"state\": \"Nordrhein-Westfalen\", \"jurisdiction\": \"Sozialgerichtsbarkeit\", \"slug\": 1046}, {\"state\": \"Nordrhein-Westfalen\", \"jurisdiction\": \"Verwaltungsgerichtsbarkeit\", \"slug\": 5461}]}}, {\"mode\": \"vega-lite\"});\n",
       "</script>"
      ],
      "text/plain": [
       "alt.LayerChart(...)"
      ]
     },
     "execution_count": 80,
     "metadata": {},
     "output_type": "execute_result"
    }
   ],
   "source": [
    "s_charts['Nordrhein-Westfalen']"
   ]
  },
  {
   "cell_type": "markdown",
   "metadata": {},
   "source": [
    "# Conclusion\n",
    "\n",
    "This Project's goal was to demonstrate the possibilities of the Open Legal Data API. Moreover, it aimed at the cleaning and complementation of the data, instead of the analysis. Considering this, we extracted data from 50.000 cases from the API. To allow for better organization and cleaning, we separated the data in two data sets, one containing data from the courts which produced the sentences, and another containing the data from the cases.\n",
    "\n",
    "We spote three major problems in the data about the courts. Three columns in this data set had a lot of missing data. Thanks to other endpoints from the Open Legal Data API as well as the functionalities provided by the googlemaps API, we could complement the missing entries for the \"city\",\"state\" and \"jurisdiction\" columns.\n",
    "\n",
    "Finally, we merged both datasets together and we did some initial exploratory data analysis.\n",
    "\n",
    "The next steps are:\n",
    "    \n",
    "    - Compare the content of the cases across the Federal States. This could allow us to find out if there are any differences on how courts on different states judge similar cases or if there are considerable differences in the amount of compensation granted from courts in different locations.\n",
    "    \n",
    "    - Try to identify if any state or any court has to deal with a reoccuring situation more often than other courts and try to find out why (let's say that the Arbeitsgericht in Munich gets more cases for illegal terminations of working contracts than the average court. What could be the reasons for this?).\n",
    "\n"
   ]
  }
 ],
 "metadata": {
  "kernelspec": {
   "display_name": "Python 3",
   "language": "python",
   "name": "python3"
  },
  "language_info": {
   "codemirror_mode": {
    "name": "ipython",
    "version": 3
   },
   "file_extension": ".py",
   "mimetype": "text/x-python",
   "name": "python",
   "nbconvert_exporter": "python",
   "pygments_lexer": "ipython3",
   "version": "3.7.6"
  }
 },
 "nbformat": 4,
 "nbformat_minor": 2
}
